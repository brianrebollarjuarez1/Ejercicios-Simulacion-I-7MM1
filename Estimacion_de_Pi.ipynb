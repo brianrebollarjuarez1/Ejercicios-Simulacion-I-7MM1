{
  "nbformat": 4,
  "nbformat_minor": 0,
  "metadata": {
    "colab": {
      "provenance": [],
      "authorship_tag": "ABX9TyN9fd8fIUHOgDvrzO8JX5zS",
      "include_colab_link": true
    },
    "kernelspec": {
      "name": "python3",
      "display_name": "Python 3"
    },
    "language_info": {
      "name": "python"
    }
  },
  "cells": [
    {
      "cell_type": "markdown",
      "metadata": {
        "id": "view-in-github",
        "colab_type": "text"
      },
      "source": [
        "<a href=\"https://colab.research.google.com/github/brianrebollarjuarez1/Ejercicios-Simulacion-I-7MM1/blob/main/Estimacion_de_Pi.ipynb\" target=\"_parent\"><img src=\"https://colab.research.google.com/assets/colab-badge.svg\" alt=\"Open In Colab\"/></a>"
      ]
    },
    {
      "cell_type": "markdown",
      "source": [
        "# Estimacion de $\\pi$"
      ],
      "metadata": {
        "id": "Qz-Lfc--GIlH"
      }
    },
    {
      "cell_type": "markdown",
      "source": [
        "A traves de simulacion, podemos aproximar el valor de $\\frac{\\pi}{4}$, para ello evaluamos el experimento de hacer el lanzamiento de un x objeto, y analizar cuantas veces cae dentro de $\\frac{1}{4}$ de circulo (Para estimar el valor de $\\pi$ se considera un circulo completo), para ello, aplicamos el pseudocodigo:"
      ],
      "metadata": {
        "id": "NFqawPdyGdHO"
      }
    },
    {
      "cell_type": "markdown",
      "source": [
        "- Generar $u_1,u_2 \\thicksim U(0,1)$\n",
        "- Si $u_2 \\leq \\sqrt{1 - u_1^2}$: Hacer $x_i = \\frac{exitos + 1}{i+1}$\n",
        "- Si no, Hacer $x_i = \\frac{exitos}{i+1}$\n",
        "- Salir $x$"
      ],
      "metadata": {
        "id": "bg4_xHaQJvHN"
      }
    },
    {
      "cell_type": "markdown",
      "source": [
        "Importando librerias:"
      ],
      "metadata": {
        "id": "jFbUquLrMTGg"
      }
    },
    {
      "cell_type": "code",
      "source": [
        "import numpy as np\n",
        "import random as rnd\n",
        "import matplotlib.pyplot as plt"
      ],
      "metadata": {
        "id": "GhHuPH_5GLQc"
      },
      "execution_count": 61,
      "outputs": []
    },
    {
      "cell_type": "markdown",
      "source": [
        "Implementando experimento:"
      ],
      "metadata": {
        "id": "96gwy1VkMXF_"
      }
    },
    {
      "cell_type": "code",
      "execution_count": 55,
      "metadata": {
        "id": "OGsvMb2i4CAJ"
      },
      "outputs": [],
      "source": [
        "def PI(N):\n",
        "  prob = []\n",
        "  exitos = 0\n",
        "  for i in range(N):\n",
        "    u1 = rnd.uniform(0,1)\n",
        "    u2 = rnd.uniform(0,1)\n",
        "    if u2 <= np.sqrt(1 - u1**2):\n",
        "      exitos += 1\n",
        "      prob.append(exitos/(i+1))\n",
        "    else:\n",
        "      exitos += 0\n",
        "      prob.append(exitos/(i+1))\n",
        "  return prob"
      ]
    },
    {
      "cell_type": "markdown",
      "source": [
        "En la practica, obtuvimos que con $N = 500$, se volvia estable el valor obtenido en el experimento."
      ],
      "metadata": {
        "id": "Oik3O9uOMaBw"
      }
    },
    {
      "cell_type": "code",
      "source": [
        "N = 500"
      ],
      "metadata": {
        "id": "Pd6Vfpqo44X2"
      },
      "execution_count": 56,
      "outputs": []
    },
    {
      "cell_type": "markdown",
      "source": [
        "Al realizar el experimento y obtener la media de la muestra obtenida, obtenemos la aproximacion:"
      ],
      "metadata": {
        "id": "G2p9W_-FM5N1"
      }
    },
    {
      "cell_type": "code",
      "source": [
        "pi = PI(N)"
      ],
      "metadata": {
        "id": "pkU66dYq46jh"
      },
      "execution_count": 57,
      "outputs": []
    },
    {
      "cell_type": "code",
      "source": [
        "media = np.mean(pi)\n",
        "media"
      ],
      "metadata": {
        "colab": {
          "base_uri": "https://localhost:8080/"
        },
        "id": "7gO6Fu6C_abN",
        "outputId": "26c168cb-bca3-4869-a740-8a373122b70f"
      },
      "execution_count": 62,
      "outputs": [
        {
          "output_type": "execute_result",
          "data": {
            "text/plain": [
              "0.7772821429951026"
            ]
          },
          "metadata": {},
          "execution_count": 62
        }
      ]
    },
    {
      "cell_type": "markdown",
      "source": [
        "Considerando la desviacion estandar y graficando el intervalo de error de la aproximacion, considerando la desviacion estandar como error de estimacion:"
      ],
      "metadata": {
        "id": "-C7TatVyM_fO"
      }
    },
    {
      "cell_type": "code",
      "source": [
        "desvest = np.std(pi)"
      ],
      "metadata": {
        "id": "VomJXEQ35-Ml"
      },
      "execution_count": 59,
      "outputs": []
    },
    {
      "cell_type": "code",
      "source": [
        "plt.plot(pi)\n",
        "plt.plot(500*np.ones(N),np.linspace(0,1,N),color='r')\n",
        "plt.plot(np.linspace(0,N,N),(media - desvest)*np.ones(N),color='g')\n",
        "plt.plot(np.linspace(0,N,N),(media + desvest)*np.ones(N),color='b')\n",
        "plt.show()"
      ],
      "metadata": {
        "colab": {
          "base_uri": "https://localhost:8080/",
          "height": 430
        },
        "id": "87q7mey2_c9n",
        "outputId": "cccbb416-dc7e-44ba-d26e-0e7eb3d653be"
      },
      "execution_count": 60,
      "outputs": [
        {
          "output_type": "display_data",
          "data": {
            "text/plain": [
              "<Figure size 640x480 with 1 Axes>"
            ],
            "image/png": "[encoded data removed]"
          },
          "metadata": {}
        }
      ]
    },
    {
      "cell_type": "markdown",
      "source": [
        "Obteniendo el intervalo de confianza con $\\alpha = 5 \\%$ de significancia:"
      ],
      "metadata": {
        "id": "Zld3YxP-NKRN"
      }
    },
    {
      "cell_type": "code",
      "source": [
        "confint = [media - 1.96*desvest,media + 1.96*desvest]\n",
        "confint"
      ],
      "metadata": {
        "colab": {
          "base_uri": "https://localhost:8080/"
        },
        "id": "MHahw9Ce63xX",
        "outputId": "9183735d-1077-4b2e-b50c-78c65be43d9e"
      },
      "execution_count": 48,
      "outputs": [
        {
          "output_type": "execute_result",
          "data": {
            "text/plain": [
              "[0.7819079850528307, 0.7883684369689995]"
            ]
          },
          "metadata": {},
          "execution_count": 48
        }
      ]
    }
  ]
}