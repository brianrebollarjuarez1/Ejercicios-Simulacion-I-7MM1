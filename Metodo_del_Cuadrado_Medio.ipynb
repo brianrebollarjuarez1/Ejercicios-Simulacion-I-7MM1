{
  "nbformat": 4,
  "nbformat_minor": 0,
  "metadata": {
    "colab": {
      "provenance": [],
      "authorship_tag": "ABX9TyOcocsEjDk83A+btym+Sga5",
      "include_colab_link": true
    },
    "kernelspec": {
      "name": "python3",
      "display_name": "Python 3"
    },
    "language_info": {
      "name": "python"
    }
  },
  "cells": [
    {
      "cell_type": "markdown",
      "metadata": {
        "id": "view-in-github",
        "colab_type": "text"
      },
      "source": [
        "<a href=\"https://colab.research.google.com/github/brianrebollarjuarez1/Ejercicios-Simulacion-I-7MM1/blob/main/Metodo_del_Cuadrado_Medio.ipynb\" target=\"_parent\"><img src=\"https://colab.research.google.com/assets/colab-badge.svg\" alt=\"Open In Colab\"/></a>"
      ]
    },
    {
      "cell_type": "markdown",
      "source": [
        "Metodo del Cuadrado Medio:\n",
        "\n",
        "Consiste en un método de generación de números aleatorios, los pasos a realizar son los siguientes:\n",
        "\n",
        "- Se toma un número de cuatro dígitos.\n",
        "- Se eleva al cuadrado\n",
        "- Se toman los cuatro digitos \"de en medio\"\n",
        "\n",
        "A continuación se explica paso a paso la realización del programa."
      ],
      "metadata": {
        "id": "04RRstfCixbL"
      }
    },
    {
      "cell_type": "markdown",
      "source": [
        "Primero, se importan las librerías necesarias para el programa, numpy para generar arreglos, y prettytable para poner los datos en una tabla."
      ],
      "metadata": {
        "id": "PN0XI6vsqeUt"
      }
    },
    {
      "cell_type": "code",
      "source": [
        "import numpy as np\n",
        "from prettytable import PrettyTable"
      ],
      "metadata": {
        "id": "q-japMJW220Q"
      },
      "execution_count": 264,
      "outputs": []
    },
    {
      "cell_type": "markdown",
      "source": [
        "Se crean dos arreglos, uno para guardar los números generados (numal) y otro para guardar los cuadrados de estos (numal2)."
      ],
      "metadata": {
        "id": "7mNdyGZ7qwkX"
      }
    },
    {
      "cell_type": "code",
      "source": [
        "numal = []\n",
        "numal2 = []"
      ],
      "metadata": {
        "id": "G8CrR2KV3Ben"
      },
      "execution_count": 265,
      "outputs": []
    },
    {
      "cell_type": "markdown",
      "source": [
        "Se da la cantidad de números aleatorios que se quieren generar (n) y se crea un arreglo para guardarlos y utilizarlos."
      ],
      "metadata": {
        "id": "4goOsitwq6Zp"
      }
    },
    {
      "cell_type": "code",
      "source": [
        "n = 50\n",
        "indices = np.arange(n)"
      ],
      "metadata": {
        "id": "IT6LUtwX3Hc8"
      },
      "execution_count": 266,
      "outputs": []
    },
    {
      "cell_type": "markdown",
      "source": [
        "Se añade el primer número de 4 dígitos a utilizar, para este caso 2124."
      ],
      "metadata": {
        "id": "SPiuOyS1rMXm"
      }
    },
    {
      "cell_type": "code",
      "source": [
        "numal.append(2124)\n",
        "numal[0]"
      ],
      "metadata": {
        "id": "AwTfn75J5efx",
        "colab": {
          "base_uri": "https://localhost:8080/"
        },
        "outputId": "16f9c730-8385-462e-86b2-79d29a61ad86"
      },
      "execution_count": 267,
      "outputs": [
        {
          "output_type": "execute_result",
          "data": {
            "text/plain": [
              "2124"
            ]
          },
          "metadata": {},
          "execution_count": 267
        }
      ]
    },
    {
      "cell_type": "markdown",
      "source": [
        "Comienza el proceso iterativo."
      ],
      "metadata": {
        "id": "n0KSt-NRrVzb"
      }
    },
    {
      "cell_type": "code",
      "source": [
        "for x in indices:\n",
        "\n",
        "   ###############################\n",
        "   #Se toma el número aleatorio y #\n",
        "   #se eleva al cuadrado.          #\n",
        "   ###############################\n",
        "\n",
        "   cuad = numal[x]**2\n",
        "\n",
        "   ############################\n",
        "   #Se añade el cuadrado a su #\n",
        "   #respectiva lista.          #\n",
        "   ############################\n",
        "\n",
        "   numal2.append(cuad)\n",
        "\n",
        "   ###############################\n",
        "   #Para facilitar la extracción #\n",
        "   #del cuadrado medio, se convi-#\n",
        "   #este el número en cadena.    #\n",
        "   ###############################\n",
        "\n",
        "   p = str(cuad)\n",
        "\n",
        "   #################################\n",
        "   #Si al elevar el cuadrado, el   #\n",
        "   #número obtenido solo tiene 7   #\n",
        "   #digitos, se añade un 0 al prin-#\n",
        "   #copio y se hace slice para     #\n",
        "   #obtener cuadrado medio.        #\n",
        "   #################################\n",
        "\n",
        "   if len(p) == 7:\n",
        "      p = '0' + p\n",
        "   p = p[2:6]\n",
        "\n",
        "   #################################\n",
        "   #Se convierte el cuadrado medio #\n",
        "   #en entero y se añade al arreglo#\n",
        "   #################################\n",
        "\n",
        "   p = int(p)\n",
        "   numal.append(p)"
      ],
      "metadata": {
        "id": "zgUd-AbB5yrj"
      },
      "execution_count": 268,
      "outputs": []
    },
    {
      "cell_type": "markdown",
      "source": [
        "Finalmente, se muestra la tabla con los datos obtenidos."
      ],
      "metadata": {
        "id": "Wi6S2H5puzQf"
      }
    },
    {
      "cell_type": "code",
      "source": [
        "table = PrettyTable()\n",
        "numal = numal[0:n]\n",
        "table.add_column(\"N\",indices)\n",
        "table.add_column(\"x\",numal)\n",
        "table.add_column(\"x^2\",numal2)\n",
        "print(table)"
      ],
      "metadata": {
        "colab": {
          "base_uri": "https://localhost:8080/"
        },
        "id": "cQjCrk9nkTYR",
        "outputId": "f625b56f-9263-47f4-8f8d-e68e7d3bfb3a"
      },
      "execution_count": 269,
      "outputs": [
        {
          "output_type": "stream",
          "name": "stdout",
          "text": [
            "+----+------+----------+\n",
            "| N  |  x   |   x^2    |\n",
            "+----+------+----------+\n",
            "| 0  | 2124 | 4511376  |\n",
            "| 1  | 5113 | 26142769 |\n",
            "| 2  | 1427 | 2036329  |\n",
            "| 3  | 363  |  131769  |\n",
            "| 4  | 1769 | 3129361  |\n",
            "| 5  | 1293 | 1671849  |\n",
            "| 6  | 6718 | 45131524 |\n",
            "| 7  | 1315 | 1729225  |\n",
            "| 8  | 7292 | 53173264 |\n",
            "| 9  | 1732 | 2999824  |\n",
            "| 10 | 9998 | 99960004 |\n",
            "| 11 | 9600 | 92160000 |\n",
            "| 12 | 1600 | 2560000  |\n",
            "| 13 | 5600 | 31360000 |\n",
            "| 14 | 3600 | 12960000 |\n",
            "| 15 | 9600 | 92160000 |\n",
            "| 16 | 1600 | 2560000  |\n",
            "| 17 | 5600 | 31360000 |\n",
            "| 18 | 3600 | 12960000 |\n",
            "| 19 | 9600 | 92160000 |\n",
            "| 20 | 1600 | 2560000  |\n",
            "| 21 | 5600 | 31360000 |\n",
            "| 22 | 3600 | 12960000 |\n",
            "| 23 | 9600 | 92160000 |\n",
            "| 24 | 1600 | 2560000  |\n",
            "| 25 | 5600 | 31360000 |\n",
            "| 26 | 3600 | 12960000 |\n",
            "| 27 | 9600 | 92160000 |\n",
            "| 28 | 1600 | 2560000  |\n",
            "| 29 | 5600 | 31360000 |\n",
            "| 30 | 3600 | 12960000 |\n",
            "| 31 | 9600 | 92160000 |\n",
            "| 32 | 1600 | 2560000  |\n",
            "| 33 | 5600 | 31360000 |\n",
            "| 34 | 3600 | 12960000 |\n",
            "| 35 | 9600 | 92160000 |\n",
            "| 36 | 1600 | 2560000  |\n",
            "| 37 | 5600 | 31360000 |\n",
            "| 38 | 3600 | 12960000 |\n",
            "| 39 | 9600 | 92160000 |\n",
            "| 40 | 1600 | 2560000  |\n",
            "| 41 | 5600 | 31360000 |\n",
            "| 42 | 3600 | 12960000 |\n",
            "| 43 | 9600 | 92160000 |\n",
            "| 44 | 1600 | 2560000  |\n",
            "| 45 | 5600 | 31360000 |\n",
            "| 46 | 3600 | 12960000 |\n",
            "| 47 | 9600 | 92160000 |\n",
            "| 48 | 1600 | 2560000  |\n",
            "| 49 | 5600 | 31360000 |\n",
            "+----+------+----------+\n"
          ]
        }
      ]
    }
  ]
}