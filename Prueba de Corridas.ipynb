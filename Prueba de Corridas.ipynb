{
  "nbformat": 4,
  "nbformat_minor": 0,
  "metadata": {
    "colab": {
      "provenance": [],
      "authorship_tag": "ABX9TyOQcApKKKyQlyPoY9Rf1XuW",
      "include_colab_link": true
    },
    "kernelspec": {
      "name": "python3",
      "display_name": "Python 3"
    },
    "language_info": {
      "name": "python"
    }
  },
  "cells": [
    {
      "cell_type": "markdown",
      "metadata": {
        "id": "view-in-github",
        "colab_type": "text"
      },
      "source": [
        "<a href=\"https://colab.research.google.com/github/brianrebollarjuarez1/Ejercicios-Simulacion-I-7MM1/blob/main/Prueba%20de%20Corridas.ipynb\" target=\"_parent\"><img src=\"https://colab.research.google.com/assets/colab-badge.svg\" alt=\"Open In Colab\"/></a>"
      ]
    },
    {
      "cell_type": "markdown",
      "source": [
        "Prueba de Corridas:\n",
        "\n",
        "Prueba para verificar la aleatoriedad de un conjunto de números, en este caso, se realizó con la siguiente hipotesis:\n",
        "\n",
        "- Ho := Los numeros de la muestra son independientes.\n",
        "- H1 := No Ho\n",
        "\n",
        "Se describe la realización del programa paso a paso:"
      ],
      "metadata": {
        "id": "-aKN8YsVwT7J"
      }
    },
    {
      "cell_type": "markdown",
      "source": [
        "Se importan las librerias a usar, numpy para arreglos, prettytable para crear tablas y math para realizar operaciones."
      ],
      "metadata": {
        "id": "7RoFKNYZxydK"
      }
    },
    {
      "cell_type": "code",
      "source": [
        "import numpy as np\n",
        "from prettytable import PrettyTable\n",
        "import math"
      ],
      "metadata": {
        "id": "nXYZM39JwRpk"
      },
      "execution_count": 86,
      "outputs": []
    },
    {
      "cell_type": "markdown",
      "source": [
        "Se obtiene la secuencia de 0's y 1's para la prueba."
      ],
      "metadata": {
        "id": "DVznA3BhyOn0"
      }
    },
    {
      "cell_type": "code",
      "source": [
        "def secuencia(datos,n):\n",
        "\n",
        "    indices = np.arange(n)\n",
        "    indices = indices[1:]\n",
        "\n",
        "    ########################################\n",
        "    #Se inicializa el arreglo donde guardar#\n",
        "    #la secuencia.                         #\n",
        "    ########################################\n",
        "\n",
        "    S = []\n",
        "\n",
        "    #########################################\n",
        "    #Comparamos cada uno de los datos       #\n",
        "    #con su anterior, si es mayor, ponemos 0#\n",
        "    #si es menor o igual, 1.                #\n",
        "    #########################################\n",
        "\n",
        "    for i in indices:\n",
        "        if datos[i] <= datos[i-1]:\n",
        "           S.append(0)\n",
        "        else:\n",
        "           S.append(1)\n",
        "    return S"
      ],
      "metadata": {
        "id": "ah7l4BCgQwAc"
      },
      "execution_count": 87,
      "outputs": []
    },
    {
      "cell_type": "markdown",
      "source": [
        "Se cuenta el número de corridas y la longitud de estas."
      ],
      "metadata": {
        "id": "0CrLKGob1WTl"
      }
    },
    {
      "cell_type": "code",
      "source": [
        "def corridas(S):\n",
        "    indices = np.arange(len(S))\n",
        "\n",
        "    #####################################################\n",
        "    #Inicializamos la variable que contará las corridas,#\n",
        "    #asi como la longitud de estas.                     #\n",
        "    #####################################################\n",
        "\n",
        "    corridas = 0\n",
        "    longitud = []\n",
        "    long = 0\n",
        "\n",
        "    #####################################################\n",
        "    #En el proceso iterativo, el primer elemento        #\n",
        "    #dará paso a una corridas, para los siguientes      #\n",
        "    #si un elemento es diferente a su anterior, se añade#\n",
        "    #una corridas y se guarda su longitud, si no        #\n",
        "    #se mantiene el número de corridas.                 #\n",
        "    #####################################################\n",
        "\n",
        "    for i in indices:\n",
        "       if i == 0:\n",
        "         corridas = corridas + 1\n",
        "         longitud.append(1)\n",
        "       else:\n",
        "         if S[i] == S[i-1]:\n",
        "            corridas = corridas\n",
        "            longitud.append(\"\")\n",
        "            long = long + 1\n",
        "         else:\n",
        "            corridas = corridas + 1\n",
        "            if long == 0:\n",
        "               longitud.append(\"\")\n",
        "            else:\n",
        "               longitud.append(long)\n",
        "            long = 0\n",
        "    return corridas,longitud"
      ],
      "metadata": {
        "id": "FHpGKRKmSwgS"
      },
      "execution_count": 88,
      "outputs": []
    },
    {
      "cell_type": "markdown",
      "source": [
        "Se guardan los datos, se obtiene cuantos son, la secuencia, el número de corridas y sus longitudes."
      ],
      "metadata": {
        "id": "fjI533gg95ic"
      }
    },
    {
      "cell_type": "code",
      "source": [
        "datos = [0.048, 0.591, 0.478, 0.166, 0.932, 0.926,0.007, 0.551, 0.362, 0.533,0.368, 0.437, 0.178, 0.411, 0.545,0.787, 0.594,0.086, 0.951, 0.772, 0.298, 0.199, 0.157, 0.401, 0.631]\n",
        "datos = np.array(datos)\n",
        "n = len(datos)\n",
        "S = secuencia(datos,n)\n",
        "corridas1, longitud = corridas(S)"
      ],
      "metadata": {
        "id": "-N3zKFXMQHwt"
      },
      "execution_count": 89,
      "outputs": []
    },
    {
      "cell_type": "markdown",
      "source": [
        "Se muestran los datos en una tabla, para usar el estadistico Z, se calcula la media y varianza con el número de datos   (n), se calcula Zo para estandarizar y comprobar con Z, y se toma una decisión."
      ],
      "metadata": {
        "id": "_A2Q9rSu-Ciu"
      }
    },
    {
      "cell_type": "code",
      "source": [
        "table = PrettyTable()\n",
        "indices = np.arange(len(S) + 1)\n",
        "indices = indices[1:]\n",
        "indices1 = np.arange(len(S))\n",
        "for i in indices1:\n",
        "   if i == 0:\n",
        "      X = 0\n",
        "   else:\n",
        "     if type(longitud[i]) == int:\n",
        "        longitud[i] = longitud[i] + 1\n",
        "table.add_column(\"N\",indices)\n",
        "table.add_column(\"Secuencia\",S)\n",
        "table.add_column(\"longitud\",longitud)\n",
        "print(table)\n",
        "media = ((2*n) - 1)/3\n",
        "varianza = ((16*n) - 29)/90\n",
        "Zo = (corridas1 - media)/(math.sqrt(varianza))\n",
        "Z = 1.96\n",
        "print(\"El valor de Zo es: \",Zo)\n",
        "print(\"El valor de Z es: \",Z)\n",
        "if -1*Z <= Zo and Zo <= Z:\n",
        "    print(\"Por lo tanto, se acepta la hipotesis.\")\n",
        "else:\n",
        "    print(\"Por lo tanto, se rechaza la hipoteis.\")"
      ],
      "metadata": {
        "colab": {
          "base_uri": "https://localhost:8080/"
        },
        "id": "ycw1DsMLnoEa",
        "outputId": "4ec1c0c0-ab65-4276-fbdf-fcdf6e1b8dd3"
      },
      "execution_count": 90,
      "outputs": [
        {
          "output_type": "stream",
          "name": "stdout",
          "text": [
            "+----+-----------+----------+\n",
            "| N  | Secuencia | longitud |\n",
            "+----+-----------+----------+\n",
            "| 1  |     1     |    1     |\n",
            "| 2  |     0     |          |\n",
            "| 3  |     0     |          |\n",
            "| 4  |     1     |    2     |\n",
            "| 5  |     0     |          |\n",
            "| 6  |     0     |          |\n",
            "| 7  |     1     |    2     |\n",
            "| 8  |     0     |          |\n",
            "| 9  |     1     |          |\n",
            "| 10 |     0     |          |\n",
            "| 11 |     1     |          |\n",
            "| 12 |     0     |          |\n",
            "| 13 |     1     |          |\n",
            "| 14 |     1     |          |\n",
            "| 15 |     1     |          |\n",
            "| 16 |     0     |    3     |\n",
            "| 17 |     0     |          |\n",
            "| 18 |     1     |    2     |\n",
            "| 19 |     0     |          |\n",
            "| 20 |     0     |          |\n",
            "| 21 |     0     |          |\n",
            "| 22 |     0     |          |\n",
            "| 23 |     1     |    4     |\n",
            "| 24 |     1     |          |\n",
            "+----+-----------+----------+\n",
            "El valor de Zo es:  -0.6567091033031179\n",
            "El valor de Z es:  1.96\n",
            "Por lo tanto, se acepta la hipotesis.\n"
          ]
        }
      ]
    }
  ]
}