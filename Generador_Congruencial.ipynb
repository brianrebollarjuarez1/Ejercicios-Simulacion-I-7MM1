{
  "nbformat": 4,
  "nbformat_minor": 0,
  "metadata": {
    "colab": {
      "provenance": [],
      "authorship_tag": "ABX9TyNHIl0rNhguylt0+rQHVT0z",
      "include_colab_link": true
    },
    "kernelspec": {
      "name": "python3",
      "display_name": "Python 3"
    },
    "language_info": {
      "name": "python"
    }
  },
  "cells": [
    {
      "cell_type": "markdown",
      "metadata": {
        "id": "view-in-github",
        "colab_type": "text"
      },
      "source": [
        "<a href=\"https://colab.research.google.com/github/brianrebollarjuarez1/Ejercicios-Simulacion-I-7MM1/blob/main/Generador_Congruencial.ipynb\" target=\"_parent\"><img src=\"https://colab.research.google.com/assets/colab-badge.svg\" alt=\"Open In Colab\"/></a>"
      ]
    },
    {
      "cell_type": "markdown",
      "source": [
        "Generador Congruencial:\n",
        "\n",
        "Genera números aleatorios a través de una semilla y tomando en cuenta la fórmula:\n",
        "\n",
        "x_(n+1) = a(x_n) + c\n",
        "\n",
        "A continuación, se detalla paso a paso el programa:"
      ],
      "metadata": {
        "id": "NfBpXisX9TGy"
      }
    },
    {
      "cell_type": "markdown",
      "source": [
        "Se importan las librerias a usar, numpy para crear arreglos, prettytable para mostrar los datos en tabla."
      ],
      "metadata": {
        "id": "nolB3rj6-K55"
      }
    },
    {
      "cell_type": "code",
      "source": [
        "import numpy as np\n",
        "from prettytable import PrettyTable"
      ],
      "metadata": {
        "id": "Q62UCY4M3xBj"
      },
      "execution_count": 91,
      "outputs": []
    },
    {
      "cell_type": "markdown",
      "source": [
        "Se da la cantidad de números que se buscan generar (n) y se crea un arreglo para generar los números (indices)."
      ],
      "metadata": {
        "id": "-VUMvp14__o4"
      }
    },
    {
      "cell_type": "code",
      "source": [
        "n = 30\n",
        "indices = np.arange(n)"
      ],
      "metadata": {
        "id": "rtVGwPy93_LU"
      },
      "execution_count": 92,
      "outputs": []
    },
    {
      "cell_type": "markdown",
      "source": [
        "Se crean los arreglos donde se guardarán los números, en (num) se guardan los números generados naturalmente, en (numal) se guardan los números divididos entre el modulo."
      ],
      "metadata": {
        "id": "SpVn_pXoAbO-"
      }
    },
    {
      "cell_type": "code",
      "source": [
        "numal = []\n",
        "num = []"
      ],
      "metadata": {
        "id": "RpCncQZL4N6-"
      },
      "execution_count": 93,
      "outputs": []
    },
    {
      "cell_type": "markdown",
      "source": [
        "Se dan los datos necesarios para el método congruencial:\n",
        "\n",
        "- Modulo\n",
        "- Semilla\n",
        "- Constantes\n",
        "\n",
        "La semilla se añade a num y el dividido entre el módulo a numal."
      ],
      "metadata": {
        "id": "fbq9q_1EBCKV"
      }
    },
    {
      "cell_type": "code",
      "source": [
        "m = 16\n",
        "xo = 6\n",
        "a = 5\n",
        "c = 5\n",
        "num.append(xo)\n",
        "num[0]\n",
        "numal.append(xo/m)"
      ],
      "metadata": {
        "id": "iggBV4N54tli"
      },
      "execution_count": 94,
      "outputs": []
    },
    {
      "cell_type": "markdown",
      "source": [
        "Comienza el proceso iterativo:"
      ],
      "metadata": {
        "id": "qr7O8AVjBQ-f"
      }
    },
    {
      "cell_type": "code",
      "source": [
        "for i in indices:\n",
        "\n",
        "    ###############################\n",
        "    #Se genera el siguiente número#\n",
        "    #a partir de la fórmula dada y#\n",
        "    #se añade a la lista num.     #\n",
        "    ###############################\n",
        "\n",
        "    x = (a*(num[i]) + c)% m\n",
        "    num.append(x)\n",
        "\n",
        "    ##############################\n",
        "    #Se divide el número obtenido#\n",
        "    #entre el modulo para obtener#\n",
        "    #un número entre 0 y 1.      #\n",
        "    ##############################\n",
        "\n",
        "    x = x/m\n",
        "    numal.append(x)"
      ],
      "metadata": {
        "id": "ny8bPYRc5wzd"
      },
      "execution_count": 95,
      "outputs": []
    },
    {
      "cell_type": "markdown",
      "source": [
        "Finalmente, los datos se presentan en un tabla."
      ],
      "metadata": {
        "id": "gRrVT2rpCoDk"
      }
    },
    {
      "cell_type": "code",
      "source": [
        "table = PrettyTable()\n",
        "indices = np.concatenate([indices,[n]])\n",
        "table.add_column(\"N\",indices)\n",
        "table.add_column(\"x\",num)\n",
        "table.add_column(\"x/m\",numal)\n",
        "print(table)"
      ],
      "metadata": {
        "colab": {
          "base_uri": "https://localhost:8080/"
        },
        "id": "W5jnvk4GUw6u",
        "outputId": "56b09dd5-f49c-41a7-de21-c1c2d271cc2e"
      },
      "execution_count": 96,
      "outputs": [
        {
          "output_type": "stream",
          "name": "stdout",
          "text": [
            "+----+----+--------+\n",
            "| N  | x  |  x/m   |\n",
            "+----+----+--------+\n",
            "| 0  | 6  | 0.375  |\n",
            "| 1  | 3  | 0.1875 |\n",
            "| 2  | 4  |  0.25  |\n",
            "| 3  | 9  | 0.5625 |\n",
            "| 4  | 2  | 0.125  |\n",
            "| 5  | 15 | 0.9375 |\n",
            "| 6  | 0  |  0.0   |\n",
            "| 7  | 5  | 0.3125 |\n",
            "| 8  | 14 | 0.875  |\n",
            "| 9  | 11 | 0.6875 |\n",
            "| 10 | 12 |  0.75  |\n",
            "| 11 | 1  | 0.0625 |\n",
            "| 12 | 10 | 0.625  |\n",
            "| 13 | 7  | 0.4375 |\n",
            "| 14 | 8  |  0.5   |\n",
            "| 15 | 13 | 0.8125 |\n",
            "| 16 | 6  | 0.375  |\n",
            "| 17 | 3  | 0.1875 |\n",
            "| 18 | 4  |  0.25  |\n",
            "| 19 | 9  | 0.5625 |\n",
            "| 20 | 2  | 0.125  |\n",
            "| 21 | 15 | 0.9375 |\n",
            "| 22 | 0  |  0.0   |\n",
            "| 23 | 5  | 0.3125 |\n",
            "| 24 | 14 | 0.875  |\n",
            "| 25 | 11 | 0.6875 |\n",
            "| 26 | 12 |  0.75  |\n",
            "| 27 | 1  | 0.0625 |\n",
            "| 28 | 10 | 0.625  |\n",
            "| 29 | 7  | 0.4375 |\n",
            "| 30 | 8  |  0.5   |\n",
            "+----+----+--------+\n"
          ]
        }
      ]
    }
  ]
}