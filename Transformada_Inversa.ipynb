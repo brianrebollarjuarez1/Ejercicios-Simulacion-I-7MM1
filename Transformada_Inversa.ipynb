{
  "cells": [
    {
      "cell_type": "markdown",
      "metadata": {
        "colab_type": "text",
        "id": "view-in-github"
      },
      "source": [
        "<a href=\"https://colab.research.google.com/github/brianrebollarjuarez1/Ejercicios-Simulacion-I-7MM1/blob/main/Transformada_Inversa.ipynb\" target=\"_parent\"><img src=\"https://colab.research.google.com/assets/colab-badge.svg\" alt=\"Open In Colab\"/></a>"
      ]
    },
    {
      "cell_type": "markdown",
      "metadata": {
        "id": "M3A45qITLJ4Q"
      },
      "source": [
        "# Metodo de la Transformada Inversa"
      ]
    },
    {
      "cell_type": "markdown",
      "metadata": {},
      "source": [
        "Es un metodo de generacion de distribuciones de probabilidad, consistente en generar la distribucion objetivo a traves de la inversa generalizada de su funcion acumulativa, utilizando el siguiente lema:\n",
        "\n",
        "Lema: Si $U \\thicksim U(0,1)$, entonces la variable aleatoria $F^{-1}(U)$ tiene distribucion $F$.\n"
      ]
    },
    {
      "cell_type": "markdown",
      "metadata": {
        "id": "uMdJsFkDMD1n"
      },
      "source": [
        "Para este metodo utilizaremos la funcion:\n",
        "\n",
        "$f(x) = \\frac{e^x}{e-1}$ con $0 \\leq x \\leq 1$"
      ]
    },
    {
      "cell_type": "markdown",
      "metadata": {},
      "source": [
        "Siguiendo el siguiente pseudocodigo:\n",
        "\n",
        "- Generar $u \\thicksim U(0,1)$\n",
        "- Hacer $x = F^{-1}(U)$\n",
        "- Salir $x$"
      ]
    },
    {
      "cell_type": "markdown",
      "metadata": {
        "id": "OZJ-0Ud5McLd"
      },
      "source": [
        "Primero comprobamos que es una funcion de distribucion de probabilidad, para esto verificamos dos condiciones: \n",
        "\n",
        "- $f(x) \\geq 0$ $\\forall$ $x \\in [0,1]$\n",
        "\n",
        "- $\\int _0 ^1 f(x) dx = 1$\n",
        "\n",
        "Comprobamos las condiciones:\n",
        "\n",
        "- $f(x) \\geq 0$ ya que $e^x \\geq 0$ $\\forall$ $x \\in [0,1]$, ademas $\\frac{1}{e-1} > 0$\n",
        "\n",
        "- $\\int _0 ^1 (\\frac{e^x}{e-1}) dx = \\frac{1}{e-1} \\int _0 ^1 e^x dx = \\frac{1}{e-1} (e-1) = 1$"
      ]
    },
    {
      "cell_type": "markdown",
      "metadata": {},
      "source": [
        "Efectivamente, $f(x)$ es una fdp."
      ]
    },
    {
      "cell_type": "markdown",
      "metadata": {
        "id": "gydBI0jtPCnc"
      },
      "source": [
        "Ahora, incluimos las librerias a usar."
      ]
    },
    {
      "cell_type": "code",
      "execution_count": null,
      "metadata": {
        "id": "f33d79VBLMvo"
      },
      "outputs": [],
      "source": [
        "############################################################################################################################\n",
        "#Incluimos numpy para manejar arreglos, plt para graficar histogramas y funcion acumulativa y random para generar muestras #\n",
        "############################################################################################################################\n",
        "\n",
        "import numpy as np\n",
        "import matplotlib.pyplot as plt\n",
        "import random as rnd"
      ]
    },
    {
      "cell_type": "markdown",
      "metadata": {
        "id": "5AIq6-KMPKbp"
      },
      "source": [
        "## Grafica de la fdp"
      ]
    },
    {
      "cell_type": "markdown",
      "metadata": {},
      "source": [
        "Para generar la grafica de la funcion, primero programamos la funcion objetivo, para poder evaluarla mas adelante:"
      ]
    },
    {
      "cell_type": "code",
      "execution_count": 55,
      "metadata": {
        "id": "DSMbos2WKc6r"
      },
      "outputs": [],
      "source": [
        "def f(x):\n",
        "  return (np.e**x)/(np.e - 1)"
      ]
    },
    {
      "cell_type": "markdown",
      "metadata": {
        "id": "bfi_TgSXQPHu"
      },
      "source": [
        "Usamos linspace para generar 1000 puntos entre el intervalo de definicion de la funcion, lo que nos ayudara a graficarla y compararla con el histograma obtenido."
      ]
    },
    {
      "cell_type": "code",
      "execution_count": 58,
      "metadata": {
        "colab": {
          "base_uri": "https://localhost:8080/",
          "height": 448
        },
        "id": "vf4-fWkyKN95",
        "outputId": "099be6c7-6448-44b3-c4b7-28415aedeb23"
      },
      "outputs": [
        {
          "data": {
            "text/plain": [
              "[<matplotlib.lines.Line2D at 0x7b898926ead0>]"
            ]
          },
          "execution_count": 58,
          "metadata": {},
          "output_type": "execute_result"
        },
        {
          "data": {
            "image/png": "[encoded data removed]",
            "text/plain": [
              "<Figure size 640x480 with 1 Axes>"
            ]
          },
          "metadata": {},
          "output_type": "display_data"
        }
      ],
      "source": [
        "x = np.linspace(0,1,1000)\n",
        "plt.plot(x,f(x))"
      ]
    },
    {
      "cell_type": "markdown",
      "metadata": {
        "id": "9ZIWVCYbPWyp"
      },
      "source": [
        "## Transformada e Histograma"
      ]
    },
    {
      "cell_type": "markdown",
      "metadata": {
        "id": "2MNL4lX8PdiA"
      },
      "source": [
        "Funcion Acumulativa Inversa:\n",
        "\n",
        "$F^{-1}(u) = ln(1 + (e-1)u)$"
      ]
    },
    {
      "cell_type": "code",
      "execution_count": 43,
      "metadata": {
        "id": "p-RoMQul3j_U"
      },
      "outputs": [],
      "source": [
        "def TF(n):\n",
        "  x = [] #En este arreglo estara la muestra generada\n",
        "  for i in range(n): #Se iterara entre 1 y n para llenar el arreglo x con los elementos de la muestra\n",
        "    u = rnd.uniform(0,1) #Genera un numero distribucion uniforme entre 0 y 1\n",
        "    x.append(np.log(1 + (np.e-1)*u)) #Evalua el numero obtenido en la funcion y lo añade al arreglo\n",
        "  return x"
      ]
    },
    {
      "cell_type": "markdown",
      "metadata": {},
      "source": [
        "Obtenemos la funcion de distribucion acumulativa, usando el truco visto en clase."
      ]
    },
    {
      "cell_type": "code",
      "execution_count": 47,
      "metadata": {
        "id": "jfxMcZV2-jpJ"
      },
      "outputs": [],
      "source": [
        "def cdf(x):\n",
        "    n = len(x)\n",
        "    y = np.sort(x)\n",
        "    g = np.arange(n)/n\n",
        "    return y,g"
      ]
    },
    {
      "cell_type": "markdown",
      "metadata": {
        "id": "XZt-YTR_QtIa"
      },
      "source": [
        "Generamos una muestra de 100000 numeros con distribucion $U(0,1)$, de tal manera que se logre una mejor precision de aproximacion y se note en el histograma que logramos la distribucion buscada."
      ]
    },
    {
      "cell_type": "code",
      "execution_count": 48,
      "metadata": {
        "id": "n25vakKL4DXY"
      },
      "outputs": [],
      "source": [
        "n = 100000"
      ]
    },
    {
      "cell_type": "code",
      "execution_count": 49,
      "metadata": {
        "id": "7SXxGmlL4EwV"
      },
      "outputs": [],
      "source": [
        "x1 = TF(n)"
      ]
    },
    {
      "cell_type": "markdown",
      "metadata": {
        "id": "fWCush78Rdyp"
      },
      "source": [
        "Generando histograma:"
      ]
    },
    {
      "cell_type": "code",
      "execution_count": 50,
      "metadata": {
        "colab": {
          "base_uri": "https://localhost:8080/",
          "height": 1000
        },
        "id": "kukUmXWr4GnD",
        "outputId": "db3dd549-5760-4cca-af53-f6918cafa8e6"
      },
      "outputs": [
        {
          "data": {
            "text/plain": [
              "(array([ 611.,  619.,  590.,  610.,  587.,  628.,  666.,  629.,  613.,\n",
              "         654.,  633.,  627.,  656.,  724.,  676.,  699.,  680.,  710.,\n",
              "         671.,  702.,  725.,  725.,  723.,  739.,  732.,  749.,  770.,\n",
              "         770.,  817.,  783.,  791.,  756.,  809.,  789.,  834.,  809.,\n",
              "         836.,  828.,  808.,  865.,  811.,  870.,  878.,  891.,  959.,\n",
              "         952.,  967.,  905.,  977.,  935.,  939.,  968.,  962.,  924.,\n",
              "        1046., 1021., 1100., 1066., 1005., 1062., 1058., 1086., 1071.,\n",
              "        1071., 1123., 1167., 1128., 1121., 1146., 1155., 1171., 1184.,\n",
              "        1189., 1235., 1280., 1247., 1239., 1268., 1300., 1257., 1331.,\n",
              "        1364., 1288., 1316., 1340., 1370., 1413., 1371., 1365., 1445.,\n",
              "        1384., 1429., 1461., 1459., 1490., 1523., 1565., 1550., 1551.,\n",
              "        1608.]),\n",
              " array([2.51405856e-05, 1.00248865e-02, 2.00246324e-02, 3.00243783e-02,\n",
              "        4.00241242e-02, 5.00238701e-02, 6.00236160e-02, 7.00233619e-02,\n",
              "        8.00231078e-02, 9.00228537e-02, 1.00022600e-01, 1.10022345e-01,\n",
              "        1.20022091e-01, 1.30021837e-01, 1.40021583e-01, 1.50021329e-01,\n",
              "        1.60021075e-01, 1.70020821e-01, 1.80020567e-01, 1.90020313e-01,\n",
              "        2.00020059e-01, 2.10019804e-01, 2.20019550e-01, 2.30019296e-01,\n",
              "        2.40019042e-01, 2.50018788e-01, 2.60018534e-01, 2.70018280e-01,\n",
              "        2.80018026e-01, 2.90017772e-01, 3.00017518e-01, 3.10017263e-01,\n",
              "        3.20017009e-01, 3.30016755e-01, 3.40016501e-01, 3.50016247e-01,\n",
              "        3.60015993e-01, 3.70015739e-01, 3.80015485e-01, 3.90015231e-01,\n",
              "        4.00014977e-01, 4.10014722e-01, 4.20014468e-01, 4.30014214e-01,\n",
              "        4.40013960e-01, 4.50013706e-01, 4.60013452e-01, 4.70013198e-01,\n",
              "        4.80012944e-01, 4.90012690e-01, 5.00012436e-01, 5.10012181e-01,\n",
              "        5.20011927e-01, 5.30011673e-01, 5.40011419e-01, 5.50011165e-01,\n",
              "        5.60010911e-01, 5.70010657e-01, 5.80010403e-01, 5.90010149e-01,\n",
              "        6.00009895e-01, 6.10009640e-01, 6.20009386e-01, 6.30009132e-01,\n",
              "        6.40008878e-01, 6.50008624e-01, 6.60008370e-01, 6.70008116e-01,\n",
              "        6.80007862e-01, 6.90007608e-01, 7.00007354e-01, 7.10007099e-01,\n",
              "        7.20006845e-01, 7.30006591e-01, 7.40006337e-01, 7.50006083e-01,\n",
              "        7.60005829e-01, 7.70005575e-01, 7.80005321e-01, 7.90005067e-01,\n",
              "        8.00004813e-01, 8.10004558e-01, 8.20004304e-01, 8.30004050e-01,\n",
              "        8.40003796e-01, 8.50003542e-01, 8.60003288e-01, 8.70003034e-01,\n",
              "        8.80002780e-01, 8.90002526e-01, 9.00002272e-01, 9.10002017e-01,\n",
              "        9.20001763e-01, 9.30001509e-01, 9.40001255e-01, 9.50001001e-01,\n",
              "        9.60000747e-01, 9.70000493e-01, 9.80000239e-01, 9.89999985e-01,\n",
              "        9.99999731e-01]),\n",
              " <BarContainer object of 100 artists>)"
            ]
          },
          "execution_count": 50,
          "metadata": {},
          "output_type": "execute_result"
        },
        {
          "data": {
            "image/png": "[encoded data removed]",
            "text/plain": [
              "<Figure size 640x480 with 1 Axes>"
            ]
          },
          "metadata": {},
          "output_type": "display_data"
        }
      ],
      "source": [
        "plt.hist(x1, bins=100) #bins = 100 para una mejor precision"
      ]
    },
    {
      "cell_type": "markdown",
      "metadata": {},
      "source": [
        "Como podemos ver, el histograma de la muestra nos da un comportamiento demasiado similar al de la funcion objetivo, con lo que concluimos que el metodo funciono."
      ]
    },
    {
      "cell_type": "markdown",
      "metadata": {
        "id": "i4iSRQKGRmmP"
      },
      "source": [
        "## Grafica de Funcion Acumulativa"
      ]
    },
    {
      "cell_type": "markdown",
      "metadata": {
        "id": "p7QoNSCGRvAn"
      },
      "source": [
        "Generando grafica de funcion acumulativa con la funcion antes mencionada."
      ]
    },
    {
      "cell_type": "code",
      "execution_count": 51,
      "metadata": {
        "id": "840N3NkK_BNc"
      },
      "outputs": [],
      "source": [
        "y,g = cdf(x1)"
      ]
    },
    {
      "cell_type": "markdown",
      "metadata": {},
      "source": [
        "La funcion de distribucion acumulativa es:\n",
        "\n",
        "$F(x) = \\frac{e^x - 1}{e - 1}$"
      ]
    },
    {
      "cell_type": "code",
      "execution_count": 52,
      "metadata": {
        "colab": {
          "base_uri": "https://localhost:8080/",
          "height": 448
        },
        "id": "kUC3-dbo_rTx",
        "outputId": "6521a06a-1dd2-4111-94c3-00c64bf43076"
      },
      "outputs": [
        {
          "data": {
            "text/plain": [
              "[<matplotlib.lines.Line2D at 0x7b898915d4b0>]"
            ]
          },
          "execution_count": 52,
          "metadata": {},
          "output_type": "execute_result"
        },
        {
          "data": {
            "image/png": "[encoded data removed]",
            "text/plain": [
              "<Figure size 640x480 with 1 Axes>"
            ]
          },
          "metadata": {},
          "output_type": "display_data"
        }
      ],
      "source": [
        "plt.step(y,g)"
      ]
    }
  ],
  "metadata": {
    "colab": {
      "authorship_tag": "ABX9TyPxnpzadE8nGVDUBtnksrAC",
      "include_colab_link": true,
      "provenance": []
    },
    "kernelspec": {
      "display_name": "Python 3",
      "name": "python3"
    },
    "language_info": {
      "name": "python"
    }
  },
  "nbformat": 4,
  "nbformat_minor": 0
}
