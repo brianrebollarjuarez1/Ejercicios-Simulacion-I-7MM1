{
  "nbformat": 4,
  "nbformat_minor": 0,
  "metadata": {
    "colab": {
      "provenance": [],
      "authorship_tag": "ABX9TyMDT0wvjhwvJXfNwfnN19g2",
      "include_colab_link": true
    },
    "kernelspec": {
      "name": "python3",
      "display_name": "Python 3"
    },
    "language_info": {
      "name": "python"
    }
  },
  "cells": [
    {
      "cell_type": "markdown",
      "metadata": {
        "id": "view-in-github",
        "colab_type": "text"
      },
      "source": [
        "<a href=\"https://colab.research.google.com/github/brianrebollarjuarez1/Ejercicios-Simulacion-I-7MM1/blob/main/Producto_Medio.ipynb\" target=\"_parent\"><img src=\"https://colab.research.google.com/assets/colab-badge.svg\" alt=\"Open In Colab\"/></a>"
      ]
    },
    {
      "cell_type": "markdown",
      "source": [
        "Metodo del Producto Medio:\n",
        "\n",
        "Es un método de generación de números aleatorios, consiste en los siguientes pasos:\n",
        "\n",
        "- Se seleccionan dos semillas (dos números aleatorios de p = 3 digitos).\n",
        "- Se obtiene su producto.\n",
        "- Del producto obtenido, tomamos p = 3 dígitos centrales y se repite.\n",
        "\n",
        "A continuación, se explica el programa paso a paso:"
      ],
      "metadata": {
        "id": "Wwi0LW5-yPqc"
      }
    },
    {
      "cell_type": "markdown",
      "source": [
        "Se incluyen las librerias necesarias, numpy para crear arreglos y prettytable para mostrar los datos en una tabla."
      ],
      "metadata": {
        "id": "MV13FO1AzruN"
      }
    },
    {
      "cell_type": "code",
      "source": [
        "import numpy as np\n",
        "from prettytable import PrettyTable"
      ],
      "metadata": {
        "id": "GV8RXd_EuNU_"
      },
      "execution_count": 43,
      "outputs": []
    },
    {
      "cell_type": "markdown",
      "source": [
        "Se crea el arreglo para guardar los números generados (numal)."
      ],
      "metadata": {
        "id": "wzDxrAWS0kGp"
      }
    },
    {
      "cell_type": "code",
      "source": [
        "numal = []"
      ],
      "metadata": {
        "id": "cTySphFCxhhI"
      },
      "execution_count": 44,
      "outputs": []
    },
    {
      "cell_type": "markdown",
      "source": [
        "Se crea el arreglo de indices a partir de la cantidad de números que queremos, empezamos desde el 1 para iterar desde x0 y x1."
      ],
      "metadata": {
        "id": "sNpi8HhG0pIc"
      }
    },
    {
      "cell_type": "code",
      "source": [
        "n = 50\n",
        "indices = np.arange(n)\n",
        "indices = indices[1:]"
      ],
      "metadata": {
        "id": "Puwa81Fiur9m"
      },
      "execution_count": 45,
      "outputs": []
    },
    {
      "cell_type": "markdown",
      "source": [
        "Incluimos la primer semilla a la lista, para este ejemplo, es 540."
      ],
      "metadata": {
        "id": "-r5Bj1Sz03BW"
      }
    },
    {
      "cell_type": "code",
      "source": [
        "x0 = 540\n",
        "print(x0)\n",
        "numal.append(x0)"
      ],
      "metadata": {
        "colab": {
          "base_uri": "https://localhost:8080/"
        },
        "id": "RvvnQggvudtY",
        "outputId": "c3d5b73f-c34c-41de-8cf1-7af20cf4bded"
      },
      "execution_count": 46,
      "outputs": [
        {
          "output_type": "stream",
          "name": "stdout",
          "text": [
            "540\n"
          ]
        }
      ]
    },
    {
      "cell_type": "markdown",
      "source": [
        "Incluimos la segunda semilla a la lista, para este ejemplo es 420."
      ],
      "metadata": {
        "id": "o1V_u80T08XU"
      }
    },
    {
      "cell_type": "code",
      "source": [
        "x1 = 420\n",
        "print(x1)\n",
        "numal.append(x1)"
      ],
      "metadata": {
        "colab": {
          "base_uri": "https://localhost:8080/"
        },
        "id": "0yqHpnoWug8i",
        "outputId": "f37b3638-2d75-45fa-c968-6c6744201a7e"
      },
      "execution_count": 47,
      "outputs": [
        {
          "output_type": "stream",
          "name": "stdout",
          "text": [
            "420\n"
          ]
        }
      ]
    },
    {
      "cell_type": "markdown",
      "source": [
        "Comienza el proceso iterativo:"
      ],
      "metadata": {
        "id": "0NC96t7Y1XqS"
      }
    },
    {
      "cell_type": "code",
      "source": [
        "for x in indices:\n",
        "\n",
        "    ###############################\n",
        "    #Se hace el producto de los   #\n",
        "    #dos números y se convierte en#\n",
        "    #cadena.                      #\n",
        "    ###############################\n",
        "\n",
        "    num = numal[x] * numal[x-1]\n",
        "    num = str(num)\n",
        "\n",
        "    ###############################\n",
        "    #Dependiendo de si el producto#\n",
        "    #tiene 5 o 6 dígitos, se toman#\n",
        "    #los p = 3 dígitos centrales. #\n",
        "    ###############################\n",
        "\n",
        "    if len(num) == 5:\n",
        "       num = num[1:4]\n",
        "    else:\n",
        "       num = num[2:5]\n",
        "\n",
        "    ##################################\n",
        "    #Se convierte el número obtenido #\n",
        "    #en entero y se añade a la lista.#\n",
        "    ##################################\n",
        "\n",
        "    num = int(num)\n",
        "    numal.append(num)"
      ],
      "metadata": {
        "id": "slxtFhRDup3V"
      },
      "execution_count": 48,
      "outputs": []
    },
    {
      "cell_type": "markdown",
      "source": [
        "Finalmente, se imprime la tabla con los datos."
      ],
      "metadata": {
        "id": "idbJQOX95Zai"
      }
    },
    {
      "cell_type": "code",
      "source": [
        "indices = np.concatenate([[0],indices])\n",
        "indices = np.concatenate([indices,[50]])\n",
        "indices\n",
        "table = PrettyTable()\n",
        "table.add_column(\"N\",indices)\n",
        "table.add_column(\"x\",numal)\n",
        "print(table)"
      ],
      "metadata": {
        "colab": {
          "base_uri": "https://localhost:8080/"
        },
        "id": "8aXQgyus4ucY",
        "outputId": "56e74ef5-5129-41ac-9ebc-04d0fa752b90"
      },
      "execution_count": 49,
      "outputs": [
        {
          "output_type": "stream",
          "name": "stdout",
          "text": [
            "+----+-----+\n",
            "| N  |  x  |\n",
            "+----+-----+\n",
            "| 0  | 540 |\n",
            "| 1  | 420 |\n",
            "| 2  | 680 |\n",
            "| 3  | 560 |\n",
            "| 4  |  80 |\n",
            "| 5  | 480 |\n",
            "| 6  | 840 |\n",
            "| 7  | 320 |\n",
            "| 8  | 880 |\n",
            "| 9  | 160 |\n",
            "| 10 |  80 |\n",
            "| 11 | 280 |\n",
            "| 12 | 240 |\n",
            "| 13 | 720 |\n",
            "| 14 | 280 |\n",
            "| 15 | 160 |\n",
            "| 16 | 480 |\n",
            "| 17 | 680 |\n",
            "| 18 | 640 |\n",
            "| 19 | 520 |\n",
            "| 20 | 280 |\n",
            "| 21 | 560 |\n",
            "| 22 | 680 |\n",
            "| 23 |  80 |\n",
            "| 24 | 440 |\n",
            "| 25 | 520 |\n",
            "| 26 | 880 |\n",
            "| 27 | 760 |\n",
            "| 28 | 880 |\n",
            "| 29 | 880 |\n",
            "| 30 | 440 |\n",
            "| 31 | 720 |\n",
            "| 32 | 680 |\n",
            "| 33 | 960 |\n",
            "| 34 | 280 |\n",
            "| 35 | 880 |\n",
            "| 36 | 640 |\n",
            "| 37 | 320 |\n",
            "| 38 | 480 |\n",
            "| 39 | 360 |\n",
            "| 40 | 280 |\n",
            "| 41 |  80 |\n",
            "| 42 | 240 |\n",
            "| 43 | 920 |\n",
            "| 44 |  80 |\n",
            "| 45 | 360 |\n",
            "| 46 | 880 |\n",
            "| 47 | 680 |\n",
            "| 48 | 840 |\n",
            "| 49 | 120 |\n",
            "| 50 |  80 |\n",
            "+----+-----+\n"
          ]
        }
      ]
    }
  ]
}