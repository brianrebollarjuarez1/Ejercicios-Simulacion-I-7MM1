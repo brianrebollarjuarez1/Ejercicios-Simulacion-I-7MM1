{
  "nbformat": 4,
  "nbformat_minor": 0,
  "metadata": {
    "colab": {
      "provenance": [],
      "authorship_tag": "ABX9TyPC2kIND0ntNKXdLCfjIsMK",
      "include_colab_link": true
    },
    "kernelspec": {
      "name": "python3",
      "display_name": "Python 3"
    },
    "language_info": {
      "name": "python"
    }
  },
  "cells": [
    {
      "cell_type": "markdown",
      "metadata": {
        "id": "view-in-github",
        "colab_type": "text"
      },
      "source": [
        "<a href=\"https://colab.research.google.com/github/brianrebollarjuarez1/Ejercicios-Simulacion-I-7MM1/blob/main/Prueba_Kolmogorov_Smirnov.ipynb\" target=\"_parent\"><img src=\"https://colab.research.google.com/assets/colab-badge.svg\" alt=\"Open In Colab\"/></a>"
      ]
    },
    {
      "cell_type": "markdown",
      "source": [
        "Prueba Kolmogorov - Smirnov:\n",
        "\n",
        "Es una prueba para números aleatorios para ver si hay una descripción adecuada para la distribución de los números, la hipótesis es:\n",
        "\n",
        "- Ho := La distribución U(0,1) es una buena forma de describir las frecuencias observadas\n",
        "- H1 := No Ho\n",
        "\n",
        "A continuación, se describe la realización del programa paso a paso:"
      ],
      "metadata": {
        "id": "CCK53CDKrVH9"
      }
    },
    {
      "cell_type": "markdown",
      "source": [
        "Se importan las librerias a usar, numpy para crear arreglos, random para generar números aleatorios, y prettytable para mostrar los datos en una tabla."
      ],
      "metadata": {
        "id": "iUBVIBXKtA_t"
      }
    },
    {
      "cell_type": "code",
      "source": [
        "import random as rnd\n",
        "import numpy as np\n",
        "from prettytable import PrettyTable"
      ],
      "metadata": {
        "id": "9wYtLKpVBX8F"
      },
      "execution_count": 43,
      "outputs": []
    },
    {
      "cell_type": "markdown",
      "source": [
        "Esta función genera n números aleatorios, y los ordena de menor a mayor."
      ],
      "metadata": {
        "id": "bsnIcwOFtuOt"
      }
    },
    {
      "cell_type": "code",
      "source": [
        "def numalea(n):\n",
        "\n",
        "    ################################\n",
        "    #Se crea una lista para guardar# los\n",
        "    #numeros aleatorios.           #\n",
        "    ################################\n",
        "\n",
        "    numal = []\n",
        "\n",
        "    ###########################################\n",
        "    #Se genera un número aleatorio y se       #\n",
        "    #añade a la lista, cuando estén todos,    #\n",
        "    #se ordena de menor a mayor y se convierte#\n",
        "    #en arreglo.                              #\n",
        "    ###########################################\n",
        "\n",
        "    indices = np.arange(n)\n",
        "    for i in indices:\n",
        "       numal.append(rnd.random())\n",
        "    numal.sort()\n",
        "    numal = np.array(numal)\n",
        "    return numal"
      ],
      "metadata": {
        "id": "DPNP_26qA74v"
      },
      "execution_count": 44,
      "outputs": []
    },
    {
      "cell_type": "markdown",
      "source": [
        "Esta función calcula los indicadores D+ y D-, de la siguiente forma:"
      ],
      "metadata": {
        "id": "mXFE0rL_vcx6"
      }
    },
    {
      "cell_type": "code",
      "source": [
        "def Dplusminus(n,numal):\n",
        "\n",
        "   ####################################\n",
        "   #Se crea una copia del arreglo para#\n",
        "   #evitar problemas.                 #\n",
        "   ####################################\n",
        "\n",
        "   numalcopia = numal.copy()\n",
        "\n",
        "   ########################################\n",
        "   #Se crean dos arreglos para guardar los#\n",
        "   #valores obtenidos de D+ y D-.         #\n",
        "   ########################################\n",
        "\n",
        "   valoresmas = []\n",
        "   valoresmenos = []\n",
        "\n",
        "   ##################################################\n",
        "   #Calculamos los valores de D+ y D-               #\n",
        "   #para cada valor y los guardamos en sus arreglos.#\n",
        "   ##################################################\n",
        "   indices = np.arange(n + 1)\n",
        "   indices = indices[1:]\n",
        "   for i in indices:\n",
        "     valoresmas.append((i/n) - numalcopia[i -1])\n",
        "     valoresmenos.append(numal[i - 1] - ((i - 1)/n))\n",
        "   valoresmas = np.array(valoresmas)\n",
        "   valoresmenos = np.array(valoresmenos)\n",
        "\n",
        "   ##############################################\n",
        "   #Finalmente, calculamos el máximo de cada uno#\n",
        "   #de los valores de D+ y D- y los guardamos.  #\n",
        "   ##############################################\n",
        "\n",
        "   Dmas = np.amax(valoresmas)\n",
        "   Dmenos = np.amax(valoresmenos)\n",
        "   return Dmas,Dmenos,valoresmas,valoresmenos"
      ],
      "metadata": {
        "id": "aZbgxo-7CBm2"
      },
      "execution_count": 45,
      "outputs": []
    },
    {
      "cell_type": "markdown",
      "source": [
        "Obtenemos los números aleatorios, los valores máximos de D+ y D- y los comparamos, el mayor de ellos (D) se utilizara para comprobar con el estadistico."
      ],
      "metadata": {
        "id": "pwW1fjotL2un"
      }
    },
    {
      "cell_type": "code",
      "source": [
        "n = 50\n",
        "numal = numalea(n)\n",
        "Dmas,Dmenos,valoresmas,valoresmenos = Dplusminus(n,numal)\n",
        "if Dmas > Dmenos:\n",
        "   D = Dmas\n",
        "elif Dmas < Dmenos:\n",
        "   D = Dmenos\n",
        "else:\n",
        "   D = Dmas"
      ],
      "metadata": {
        "id": "3m4h8rvVA5wL"
      },
      "execution_count": 46,
      "outputs": []
    },
    {
      "cell_type": "markdown",
      "source": [
        "Mostramos los datos de D+ y D- en una tabla, así como utilizamos D para comparar con el valor en tabla (d) y tomamos una decisión."
      ],
      "metadata": {
        "id": "eNjwhjEUMBsb"
      }
    },
    {
      "cell_type": "code",
      "source": [
        "indices = np.arange(n + 1)\n",
        "indices = indices[1:]\n",
        "table = PrettyTable()\n",
        "table.add_column(\"i\",indices)\n",
        "table.add_column(\"xi\",numal)\n",
        "table.add_column(\"D+\",valoresmas)\n",
        "table.add_column(\"D-\",valoresmenos)\n",
        "print(table)\n",
        "d = 0.1246\n",
        "print(\"El valor de D es: \", D)\n",
        "print(\"El valor de d es: \", d)\n",
        "if D < d:\n",
        "   print(\"Se acepta la hipótesis nula.\")\n",
        "else:\n",
        "   print(\"Se rechaza la hipótesis nula.\")"
      ],
      "metadata": {
        "colab": {
          "base_uri": "https://localhost:8080/"
        },
        "id": "eaBApgoOLS8v",
        "outputId": "9a104701-bd65-4321-c534-64570d2fe149"
      },
      "execution_count": 47,
      "outputs": [
        {
          "output_type": "stream",
          "name": "stdout",
          "text": [
            "+----+----------------------+------------------------+-----------------------+\n",
            "| i  |          xi          |           D+           |           D-          |\n",
            "+----+----------------------+------------------------+-----------------------+\n",
            "| 1  | 0.012978545337107295 |  0.007021454662892706  |  0.012978545337107295 |\n",
            "| 2  | 0.015433437367820768 |  0.024566562632179233  | -0.004566562632179232 |\n",
            "| 3  | 0.03180229594895012  |  0.028197704051049877  |  -0.00819770405104988 |\n",
            "| 4  | 0.09775428945695319  |  -0.01775428945695319  |  0.037754289456953194 |\n",
            "| 5  | 0.11897743976916064  | -0.018977439769160637  |  0.03897743976916064  |\n",
            "| 6  | 0.16652985142620336  |  -0.04652985142620336  |  0.06652985142620335  |\n",
            "| 7  | 0.21989371476676745  |  -0.07989371476676743  |  0.09989371476676745  |\n",
            "| 8  | 0.22906108187706598  |  -0.06906108187706597  |  0.08906108187706596  |\n",
            "| 9  | 0.23836743892135592  |  -0.05836743892135593  |  0.07836743892135592  |\n",
            "| 10 |  0.2402616244814254  | -0.040261624481425395  |  0.06026162448142541  |\n",
            "| 11 | 0.24258315490801285  | -0.022583154908012854  |  0.042583154908012844 |\n",
            "| 12 |  0.2986614746730103  | -0.058661474673010305  |   0.0786614746730103  |\n",
            "| 13 |  0.3011987236863244  |  -0.04119872368632438  |   0.0611987236863244  |\n",
            "| 14 | 0.30834318866211197  |  -0.02834318866211194  |  0.04834318866211196  |\n",
            "| 15 |  0.3234679610919934  | -0.023467961091993395  |  0.04346796109199336  |\n",
            "| 16 |  0.3279406823205976  |  -0.00794068232059758  |   0.0279406823205976  |\n",
            "| 17 | 0.35355068436890236  | -0.013550684368902333  |  0.03355068436890235  |\n",
            "| 18 | 0.35946789007727464  | 0.0005321099227253434  |  0.01946789007727462  |\n",
            "| 19 |  0.399357331796803   |  -0.01935733179680299  |  0.03935733179680301  |\n",
            "| 20 | 0.42580936647046885  |  -0.02580936647046883  |  0.04580936647046885  |\n",
            "| 21 |  0.4539778482605169  |  -0.03397784826051692  |  0.05397784826051688  |\n",
            "| 22 |  0.4799056790487334  |  -0.03990567904873338  |  0.059905679048733396 |\n",
            "| 23 |  0.4944174252708712  |  -0.03441742527087116  |  0.05441742527087118  |\n",
            "| 24 |  0.5776169988528989  |  -0.09761699885289887  |  0.11761699885289884  |\n",
            "| 25 |  0.5854893774036211  |  -0.08548937740362106  |  0.10548937740362108  |\n",
            "| 26 |  0.5942099453324511  |  -0.07420994533245107  |  0.09420994533245108  |\n",
            "| 27 |  0.6189121924678882  |  -0.07891219246788816  |  0.09891219246788818  |\n",
            "| 28 |  0.6324082894778837  |  -0.07240828947788369  |  0.09240828947788371  |\n",
            "| 29 |  0.6349563922448352  | -0.054956392244835284  |  0.07495639224483519  |\n",
            "| 30 |  0.637737078658292   |  -0.03773707865829201  |  0.05773707865829203  |\n",
            "| 31 |  0.646094747167998   | -0.026094747167997978  |  0.046094747167997996 |\n",
            "| 32 |  0.652106564359447   | -0.012106564359447014  |  0.03210656435944703  |\n",
            "| 33 |  0.6827508804539528  | -0.022750880453952793  |  0.04275088045395281  |\n",
            "| 34 |  0.714970273220214   | -0.034970273220213954  |  0.05497027322021397  |\n",
            "| 35 |  0.7238030160107554  | -0.023803016010755407  |  0.043803016010755313 |\n",
            "| 36 |  0.7385723800395367  | -0.018572380039536762  |  0.03857238003953678  |\n",
            "| 37 |  0.7675596000092815  | -0.027559600009281482  |   0.0475596000092815  |\n",
            "| 38 |  0.7679769781823751  | -0.007976978182375083  |   0.0279769781823751  |\n",
            "| 39 |  0.8258223035509393  |  -0.0458223035509393   |  0.06582230355093932  |\n",
            "| 40 |  0.8419615600530754  | -0.041961560053075386  |  0.061961560053075404 |\n",
            "| 41 |  0.8497221244798533  |  -0.02972212447985334  |  0.04972212447985325  |\n",
            "| 42 |  0.8849283000275197  | -0.044928300027519685  |   0.0649283000275197  |\n",
            "| 43 |  0.8903609398424489  |  -0.03036093984244892  |  0.05036093984244894  |\n",
            "| 44 |  0.8962741128145202  |  -0.01627411281452018  |   0.0362741128145202  |\n",
            "| 45 |  0.9057118198940297  | -0.0057118198940296905 |  0.025711819894029708 |\n",
            "| 46 |  0.9276552015757508  | -0.007655201575750725  |  0.027655201575750743 |\n",
            "| 47 |  0.9481389814774321  | -0.008138981477432194  |   0.0281389814774321  |\n",
            "| 48 |  0.9588879856602678  | 0.0011120143397321813  |  0.018887985660267836 |\n",
            "| 49 |  0.9964864789366693  | -0.016486478936669324  |  0.03648647893666934  |\n",
            "| 50 |  0.9995717444139821  | 0.0004282555860178894  |  0.01957174441398213  |\n",
            "+----+----------------------+------------------------+-----------------------+\n",
            "El valor de D es:  0.11761699885289884\n",
            "El valor de d es:  0.1246\n",
            "Se acepta la hipótesis nula.\n"
          ]
        }
      ]
    }
  ]
}