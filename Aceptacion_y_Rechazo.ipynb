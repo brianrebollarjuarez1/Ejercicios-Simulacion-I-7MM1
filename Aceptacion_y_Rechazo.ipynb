{
  "nbformat": 4,
  "nbformat_minor": 0,
  "metadata": {
    "colab": {
      "provenance": [],
      "authorship_tag": "ABX9TyNxsukQsMSz3+ALddydotyV",
      "include_colab_link": true
    },
    "kernelspec": {
      "name": "python3",
      "display_name": "Python 3"
    },
    "language_info": {
      "name": "python"
    }
  },
  "cells": [
    {
      "cell_type": "markdown",
      "metadata": {
        "id": "view-in-github",
        "colab_type": "text"
      },
      "source": [
        "<a href=\"https://colab.research.google.com/github/brianrebollarjuarez1/Ejercicios-Simulacion-I-7MM1/blob/main/Aceptacion_y_Rechazo.ipynb\" target=\"_parent\"><img src=\"https://colab.research.google.com/assets/colab-badge.svg\" alt=\"Open In Colab\"/></a>"
      ]
    },
    {
      "cell_type": "markdown",
      "source": [
        "# Metodo de Aceptacion y Rechazo"
      ],
      "metadata": {
        "id": "M3A45qITLJ4Q"
      }
    },
    {
      "cell_type": "markdown",
      "source": [
        "Para este metodo utilizaremos la fdp:\n",
        "\n",
        "$f(x) = \\frac{e^x}{e-1}$"
      ],
      "metadata": {
        "id": "uMdJsFkDMD1n"
      }
    },
    {
      "cell_type": "markdown",
      "source": [
        "Podemos comprobar que es una fdp: \\\\\n",
        "\n",
        "- $f(x) \\geq 0$ ya que $e^x \\geq 0$ $\\forall$ $x \\in [0,1]$ \\\\\n",
        "\n",
        "- $\\int _0 ^1 (\\frac{e^x}{e-1}) dx = \\frac{1}{e-1} \\int _0 ^1 e^x dx = \\frac{1}{e-1} (e-1) = 1$"
      ],
      "metadata": {
        "id": "OZJ-0Ud5McLd"
      }
    },
    {
      "cell_type": "markdown",
      "source": [
        "Ahora, incluimos las librerias a usar."
      ],
      "metadata": {
        "id": "gydBI0jtPCnc"
      }
    },
    {
      "cell_type": "code",
      "source": [
        "import numpy as np\n",
        "import matplotlib.pyplot as plt\n",
        "import random as rnd"
      ],
      "metadata": {
        "id": "f33d79VBLMvo"
      },
      "execution_count": 1,
      "outputs": []
    },
    {
      "cell_type": "markdown",
      "source": [
        "## Grafica de la fdp"
      ],
      "metadata": {
        "id": "5AIq6-KMPKbp"
      }
    },
    {
      "cell_type": "code",
      "source": [
        "def f(x):\n",
        "  return (np.e**x)/(np.e - 1)"
      ],
      "metadata": {
        "id": "DSMbos2WKc6r"
      },
      "execution_count": 2,
      "outputs": []
    },
    {
      "cell_type": "markdown",
      "source": [
        "Usamos linspace para graficar la funcion con 1000 puntos."
      ],
      "metadata": {
        "id": "bfi_TgSXQPHu"
      }
    },
    {
      "cell_type": "code",
      "source": [
        "x = np.linspace(0,1,1000)\n",
        "plt.plot(x,f(x))"
      ],
      "metadata": {
        "colab": {
          "base_uri": "https://localhost:8080/",
          "height": 448
        },
        "id": "vf4-fWkyKN95",
        "outputId": "f10311bb-f467-4a26-cbb9-da6548383ec9"
      },
      "execution_count": 3,
      "outputs": [
        {
          "output_type": "execute_result",
          "data": {
            "text/plain": [
              "[<matplotlib.lines.Line2D at 0x7c35b0348b50>]"
            ]
          },
          "metadata": {},
          "execution_count": 3
        },
        {
          "output_type": "display_data",
          "data": {
            "text/plain": [
              "<Figure size 640x480 with 1 Axes>"
            ],
            "image/png": "[encoded data removed]"
          },
          "metadata": {}
        }
      ]
    },
    {
      "cell_type": "markdown",
      "source": [
        "## Metodo e Histograma"
      ],
      "metadata": {
        "id": "9ZIWVCYbPWyp"
      }
    },
    {
      "cell_type": "markdown",
      "source": [
        "$g(x) = 1$ y  $c = \\frac{e}{e-1}$ ya que $f$ es monotona creciente. \\\\\n",
        "\n",
        "tal que: $f(x) \\leq cg(x)$ $\\forall$ $x \\in [0,1]$"
      ],
      "metadata": {
        "id": "2MNL4lX8PdiA"
      }
    },
    {
      "cell_type": "code",
      "source": [
        "def AR(n):\n",
        "  x = []\n",
        "  for i in range(n):\n",
        "    u = rnd.uniform(0,1)\n",
        "    y = rnd.uniform(0,1)\n",
        "    if u <= (np.e**y)/(np.e):\n",
        "      x.append(y)\n",
        "  return x"
      ],
      "metadata": {
        "id": "p-RoMQul3j_U"
      },
      "execution_count": 4,
      "outputs": []
    },
    {
      "cell_type": "code",
      "source": [
        "def cdf(x):\n",
        "    n = len(x)\n",
        "    y = np.sort(x)\n",
        "    g = np.arange(n)/n\n",
        "    return y,g"
      ],
      "metadata": {
        "id": "jfxMcZV2-jpJ"
      },
      "execution_count": 5,
      "outputs": []
    },
    {
      "cell_type": "markdown",
      "source": [
        "Generamos la muestra de 100000 elementos para mejor precision."
      ],
      "metadata": {
        "id": "XZt-YTR_QtIa"
      }
    },
    {
      "cell_type": "code",
      "source": [
        "n = 100000"
      ],
      "metadata": {
        "id": "n25vakKL4DXY"
      },
      "execution_count": 6,
      "outputs": []
    },
    {
      "cell_type": "code",
      "source": [
        "x2 = AR(n)"
      ],
      "metadata": {
        "id": "7SXxGmlL4EwV"
      },
      "execution_count": 7,
      "outputs": []
    },
    {
      "cell_type": "markdown",
      "source": [
        "Generando histograma:"
      ],
      "metadata": {
        "id": "fWCush78Rdyp"
      }
    },
    {
      "cell_type": "code",
      "source": [
        "plt.hist(x2, bins=100)"
      ],
      "metadata": {
        "colab": {
          "base_uri": "https://localhost:8080/",
          "height": 1000
        },
        "id": "kukUmXWr4GnD",
        "outputId": "91c90d2c-60fa-4c58-f417-8aec25c19cae"
      },
      "execution_count": 8,
      "outputs": [
        {
          "output_type": "execute_result",
          "data": {
            "text/plain": [
              "(array([367., 373., 369., 373., 385., 367., 377., 387., 427., 394., 399.,\n",
              "        376., 447., 425., 454., 436., 418., 403., 470., 460., 429., 434.,\n",
              "        448., 491., 480., 432., 478., 476., 500., 477., 528., 477., 490.,\n",
              "        516., 503., 494., 543., 488., 493., 520., 573., 545., 571., 578.,\n",
              "        615., 589., 606., 611., 605., 596., 605., 671., 648., 655., 600.,\n",
              "        624., 640., 649., 698., 670., 687., 661., 685., 731., 703., 683.,\n",
              "        738., 748., 709., 724., 774., 781., 765., 791., 794., 836., 790.,\n",
              "        811., 795., 798., 839., 865., 896., 838., 897., 849., 885., 891.,\n",
              "        887., 905., 907., 898., 955., 933., 958., 902., 950., 935., 937.,\n",
              "        988.]),\n",
              " array([1.12024682e-05, 1.00110672e-02, 2.00109319e-02, 3.00107966e-02,\n",
              "        4.00106613e-02, 5.00105260e-02, 6.00103907e-02, 7.00102554e-02,\n",
              "        8.00101201e-02, 9.00099848e-02, 1.00009849e-01, 1.10009714e-01,\n",
              "        1.20009579e-01, 1.30009444e-01, 1.40009308e-01, 1.50009173e-01,\n",
              "        1.60009038e-01, 1.70008902e-01, 1.80008767e-01, 1.90008632e-01,\n",
              "        2.00008497e-01, 2.10008361e-01, 2.20008226e-01, 2.30008091e-01,\n",
              "        2.40007955e-01, 2.50007820e-01, 2.60007685e-01, 2.70007549e-01,\n",
              "        2.80007414e-01, 2.90007279e-01, 3.00007144e-01, 3.10007008e-01,\n",
              "        3.20006873e-01, 3.30006738e-01, 3.40006602e-01, 3.50006467e-01,\n",
              "        3.60006332e-01, 3.70006196e-01, 3.80006061e-01, 3.90005926e-01,\n",
              "        4.00005791e-01, 4.10005655e-01, 4.20005520e-01, 4.30005385e-01,\n",
              "        4.40005249e-01, 4.50005114e-01, 4.60004979e-01, 4.70004843e-01,\n",
              "        4.80004708e-01, 4.90004573e-01, 5.00004438e-01, 5.10004302e-01,\n",
              "        5.20004167e-01, 5.30004032e-01, 5.40003896e-01, 5.50003761e-01,\n",
              "        5.60003626e-01, 5.70003490e-01, 5.80003355e-01, 5.90003220e-01,\n",
              "        6.00003085e-01, 6.10002949e-01, 6.20002814e-01, 6.30002679e-01,\n",
              "        6.40002543e-01, 6.50002408e-01, 6.60002273e-01, 6.70002137e-01,\n",
              "        6.80002002e-01, 6.90001867e-01, 7.00001732e-01, 7.10001596e-01,\n",
              "        7.20001461e-01, 7.30001326e-01, 7.40001190e-01, 7.50001055e-01,\n",
              "        7.60000920e-01, 7.70000785e-01, 7.80000649e-01, 7.90000514e-01,\n",
              "        8.00000379e-01, 8.10000243e-01, 8.20000108e-01, 8.29999973e-01,\n",
              "        8.39999837e-01, 8.49999702e-01, 8.59999567e-01, 8.69999432e-01,\n",
              "        8.79999296e-01, 8.89999161e-01, 8.99999026e-01, 9.09998890e-01,\n",
              "        9.19998755e-01, 9.29998620e-01, 9.39998484e-01, 9.49998349e-01,\n",
              "        9.59998214e-01, 9.69998079e-01, 9.79997943e-01, 9.89997808e-01,\n",
              "        9.99997673e-01]),\n",
              " <BarContainer object of 100 artists>)"
            ]
          },
          "metadata": {},
          "execution_count": 8
        },
        {
          "output_type": "display_data",
          "data": {
            "text/plain": [
              "<Figure size 640x480 with 1 Axes>"
            ],
            "image/png": "[encoded data removed]"
          },
          "metadata": {}
        }
      ]
    },
    {
      "cell_type": "markdown",
      "source": [
        "## Grafica de Funcion Acumulativa"
      ],
      "metadata": {
        "id": "i4iSRQKGRmmP"
      }
    },
    {
      "cell_type": "markdown",
      "source": [
        "Generando grafica de funcion acumulativa."
      ],
      "metadata": {
        "id": "p7QoNSCGRvAn"
      }
    },
    {
      "cell_type": "code",
      "source": [
        "y,g = cdf(x2)"
      ],
      "metadata": {
        "id": "840N3NkK_BNc"
      },
      "execution_count": 9,
      "outputs": []
    },
    {
      "cell_type": "code",
      "source": [
        "plt.step(y,g)"
      ],
      "metadata": {
        "colab": {
          "base_uri": "https://localhost:8080/",
          "height": 448
        },
        "id": "kUC3-dbo_rTx",
        "outputId": "99f53742-4ffb-4229-f6b4-fdae5e95e6b1"
      },
      "execution_count": 10,
      "outputs": [
        {
          "output_type": "execute_result",
          "data": {
            "text/plain": [
              "[<matplotlib.lines.Line2D at 0x7c358bf1a5c0>]"
            ]
          },
          "metadata": {},
          "execution_count": 10
        },
        {
          "output_type": "display_data",
          "data": {
            "text/plain": [
              "<Figure size 640x480 with 1 Axes>"
            ],
            "image/png": "[encoded data removed]"
          },
          "metadata": {}
        }
      ]
    }
  ]
}