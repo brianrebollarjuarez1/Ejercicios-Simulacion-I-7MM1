{
  "nbformat": 4,
  "nbformat_minor": 0,
  "metadata": {
    "colab": {
      "provenance": [],
      "authorship_tag": "ABX9TyMFF/R6FRJrJv5kyGc7MiYb",
      "include_colab_link": true
    },
    "kernelspec": {
      "name": "python3",
      "display_name": "Python 3"
    },
    "language_info": {
      "name": "python"
    }
  },
  "cells": [
    {
      "cell_type": "markdown",
      "metadata": {
        "id": "view-in-github",
        "colab_type": "text"
      },
      "source": [
        "<a href=\"https://colab.research.google.com/github/brianrebollarjuarez1/Ejercicios-Simulacion-I-7MM1/blob/main/Experimento_de_la_Aguja_de_Buffon.ipynb\" target=\"_parent\"><img src=\"https://colab.research.google.com/assets/colab-badge.svg\" alt=\"Open In Colab\"/></a>"
      ]
    },
    {
      "cell_type": "markdown",
      "source": [
        "# Experimento de la Aguja de Buffon"
      ],
      "metadata": {
        "id": "xbKDAIzlXIPr"
      }
    },
    {
      "cell_type": "markdown",
      "source": [
        "Se tienen agujas de longitud k, las cuales son lanzadas hacia varas colocadas en fila con una separacion d entre ellas, ¿Cual es la probabilidad de que una de las agujas lanzadas corte una de las lineas?"
      ],
      "metadata": {
        "id": "BZvzZJ6UXNln"
      }
    },
    {
      "cell_type": "markdown",
      "source": [
        "![buffon.png](data:image/png;base64,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)"
      ],
      "metadata": {
        "id": "96nAAvPHYDYV"
      }
    },
    {
      "cell_type": "markdown",
      "source": [
        "## Solucion Analitica"
      ],
      "metadata": {
        "id": "G2bAyT0mZTy2"
      }
    },
    {
      "cell_type": "markdown",
      "source": [
        "Consideremos una aguja lanzada y una vara arbitrariamente, tal que $k \\leq d$\n",
        "\n",
        "Sean:\n",
        "\n",
        "- $x$ la posicion en la que se encuentra la aguja (considerando el centro de esta)\n",
        "- $\\alpha$ el angulo con respecto a la horizontal de la aguja\n",
        "\n",
        "Consideramos como punto de referencia la vara para la posicion en donde cae la aguja, es decir, si el centro de la aguja cae exactamente sobre la vara, diremos que $x = 0$, y el punto mas lejano que puede caer de la vara es de $x = \\frac{d}{2}$, ya que si cae mas lejos, podemos considerar la vara aledaña como punto de referencia, es por eso que:\n",
        "\n",
        "$0 \\leq x \\leq \\frac{d}{2}$\n",
        "\n",
        "El angulo es mas simple, la aguja puede caer totalmente horizontal, o totalmente vertical, es decir:\n",
        "\n",
        "$0 \\leq \\alpha \\leq \\frac{\\pi}{2}$"
      ],
      "metadata": {
        "id": "54_6oujGZuYI"
      }
    },
    {
      "cell_type": "markdown",
      "source": [
        "Ambas variables siguen una distribucion uniforme, pues el lanzamiento de aguja es una experimento aleatorio, es decir $x \\thicksim U(0,\\frac{d}{2})$ y $\\alpha \\thicksim U(0,\\frac{\\pi}{2})$, cada una tiene su funcion de distribucion, llamemosle $y$, no sabemos como es $y$, pero por ser fdp, sabemos que:\n",
        "\n",
        "- $y(\\frac{d}{2}) = 1$ $→$ $y = \\frac{2}{d}$\n",
        "- $y(\\frac{\\pi}{2}) = 1$ $\\rightarrow$ $y = \\frac{2}{\\pi}$\n",
        "\n",
        "De tal manera que la funcion de distribucion conjunta, sera el producto de cada una de las distribuciones:\n",
        "\n",
        "- $f(x,\\alpha) = \\frac{4}{\\pi d}$ para $0 \\leq x \\leq \\frac{d}{2}$ y $0 \\leq \\alpha \\leq \\frac{\\pi}{2}$"
      ],
      "metadata": {
        "id": "1vZLBAm1lGw5"
      }
    },
    {
      "cell_type": "markdown",
      "source": [
        "Pero, ¿Como garantizamos que la aguja caiga en la vara a partir de x?, para ello analizamos la siguiente imagen:"
      ],
      "metadata": {
        "id": "F6UPvJjmqMkQ"
      }
    },
    {
      "cell_type": "markdown",
      "source": [
        "![Captura de pantalla 2024-06-17 225331.png](data:image/png;base64,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)"
      ],
      "metadata": {
        "id": "hBnr1dPHsahm"
      }
    },
    {
      "cell_type": "markdown",
      "source": [
        "Aqui se puede ver que el cateto opuesto a $\\alpha$ se relaciona en cuando corta la aguja a la vara, entonces podemos decir que para que la aguja corte la vara, la distancia que tiene que haber entre el centro de la aguja y la vara, debe ser menor a la medida del cateto opuesto formado, es decir:\n",
        "\n",
        "- $x \\leq \\frac{k}{2} sen(\\alpha)$\n",
        "\n",
        "Entonces, la probabilidad que buscamos es:\n",
        "\n",
        "$P = \\int _0 ^{\\frac{\\pi}{2}} \\int _0 ^{\\frac{k}{2} sen(\\alpha)} \\frac{4}{\\pi d}$ $dxd\\alpha$ = $\\frac{4}{\\pi d} \\int _0 ^{\\frac{\\pi}{2}} \\int _0 ^{\\frac{k}{2} sen(\\alpha)}$ $dxd\\alpha$ = $\\frac{2k}{\\pi d} \\int _0 ^{\\frac{\\pi}{2}} sen(\\alpha) d\\alpha$ = $\\frac{2k}{\\pi d}$"
      ],
      "metadata": {
        "id": "Jsxk-mpQs-Cw"
      }
    },
    {
      "cell_type": "markdown",
      "source": [
        "## Solucion por Simulacion"
      ],
      "metadata": {
        "id": "8nFtl09YvhZ3"
      }
    },
    {
      "cell_type": "markdown",
      "source": [
        "  Importamos librerias."
      ],
      "metadata": {
        "id": "f-cGUjhByHqN"
      }
    },
    {
      "cell_type": "code",
      "source": [
        "import numpy as np\n",
        "import matplotlib.pyplot as plt\n",
        "import random as rnd"
      ],
      "metadata": {
        "id": "LvBo2n9wvk_O"
      },
      "execution_count": null,
      "outputs": []
    },
    {
      "cell_type": "markdown",
      "source": [
        "Planteamos el experimento, de tal manera que siga el pseudocodigo:\n",
        "\n",
        "- Generar $x \\thicksim U(0,\\frac{d}{2})$ y $\\alpha \\thicksim U(0,\\frac{\\pi}{2})$\n",
        "- Si $x \\leq \\frac{k}{2} sen(\\alpha)$, Hacer $y_i = \\frac{exitos + 1}{i+1}$\n",
        "- Si no, Hacer $y_i = \\frac{exitos}{i+1}$\n",
        "- Salir $y$"
      ],
      "metadata": {
        "id": "EGOJvU8CyKbN"
      }
    },
    {
      "cell_type": "markdown",
      "source": [
        "Realizamos el experimento."
      ],
      "metadata": {
        "id": "_ET1kXWNzlZb"
      }
    },
    {
      "cell_type": "code",
      "source": [
        "def experimento(N,d,k):\n",
        "  prob = []\n",
        "  exitos = 0\n",
        "  for i in range(N):\n",
        "    x = rnd.uniform(0,d/2)\n",
        "    alpha = rnd.uniform(0,np.pi/2)\n",
        "    if x <= (k/2)*np.sin(alpha):\n",
        "      exitos += 1\n",
        "      prob.append(exitos/(i+1))\n",
        "    else:\n",
        "      exitos += 0\n",
        "      prob.append(exitos/(i+1))\n",
        "  return prob"
      ],
      "metadata": {
        "id": "rEZnIZa6vsCV"
      },
      "execution_count": null,
      "outputs": []
    },
    {
      "cell_type": "markdown",
      "source": [
        "Realizamos el experimento $1000000$ de veces."
      ],
      "metadata": {
        "id": "AUbNMRC2zozA"
      }
    },
    {
      "cell_type": "code",
      "source": [
        "N = 1000000"
      ],
      "metadata": {
        "id": "_FHuqFQFwSDX"
      },
      "execution_count": 25,
      "outputs": []
    },
    {
      "cell_type": "markdown",
      "source": [
        "Ejemplificamos con $k = 10$ y $d = 30$"
      ],
      "metadata": {
        "id": "MteloZkpz3YJ"
      }
    },
    {
      "cell_type": "code",
      "source": [
        "d = 30\n",
        "k = 10"
      ],
      "metadata": {
        "id": "JDEOZuiqwVRt"
      },
      "execution_count": 26,
      "outputs": []
    },
    {
      "cell_type": "markdown",
      "source": [
        "Realizando la simulacion y obteniendo la media de la muestra, obtenemos la aproximacion a la solucion."
      ],
      "metadata": {
        "id": "LUCOyCROz9iB"
      }
    },
    {
      "cell_type": "code",
      "source": [
        "prob = experimento(N,d,k)"
      ],
      "metadata": {
        "id": "KC7qLvjkwbJW"
      },
      "execution_count": 27,
      "outputs": []
    },
    {
      "cell_type": "code",
      "source": [
        "media = np.mean(prob)\n",
        "media"
      ],
      "metadata": {
        "colab": {
          "base_uri": "https://localhost:8080/"
        },
        "id": "8Gq2_VLmwpBn",
        "outputId": "275f65ce-dba6-4f70-a68e-17ff51914d33"
      },
      "execution_count": 28,
      "outputs": [
        {
          "output_type": "execute_result",
          "data": {
            "text/plain": [
              "0.21289244636675128"
            ]
          },
          "metadata": {},
          "execution_count": 28
        }
      ]
    },
    {
      "cell_type": "markdown",
      "source": [
        "Comparamos."
      ],
      "metadata": {
        "id": "KKZWaFC40O5L"
      }
    },
    {
      "cell_type": "code",
      "source": [
        "(2*k)/(np.pi * d)"
      ],
      "metadata": {
        "colab": {
          "base_uri": "https://localhost:8080/"
        },
        "id": "fU7qhurh0Q6S",
        "outputId": "fee3cb96-daec-4f4e-cbab-6a95192174e5"
      },
      "execution_count": 31,
      "outputs": [
        {
          "output_type": "execute_result",
          "data": {
            "text/plain": [
              "0.2122065907891938"
            ]
          },
          "metadata": {},
          "execution_count": 31
        }
      ]
    },
    {
      "cell_type": "markdown",
      "source": [
        "Graficando."
      ],
      "metadata": {
        "id": "LS1TQ-Fm0ExD"
      }
    },
    {
      "cell_type": "code",
      "source": [
        "desvest = np.std(prob)"
      ],
      "metadata": {
        "id": "oRsX4hWMxRF-"
      },
      "execution_count": 29,
      "outputs": []
    },
    {
      "cell_type": "code",
      "source": [
        "plt.plot(prob)\n",
        "plt.show()"
      ],
      "metadata": {
        "colab": {
          "base_uri": "https://localhost:8080/",
          "height": 448
        },
        "id": "5DyQHd3wxuym",
        "outputId": "540f606b-ae23-434c-aa86-bdd58aafb0a2"
      },
      "execution_count": 30,
      "outputs": [
        {
          "output_type": "display_data",
          "data": {
            "text/plain": [
              "<Figure size 640x480 with 1 Axes>"
            ],
            "image/png": "[encoded data removed]"
          },
          "metadata": {}
        }
      ]
    }
  ]
}