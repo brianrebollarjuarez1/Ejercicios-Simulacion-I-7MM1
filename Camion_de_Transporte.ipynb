{
  "cells": [
    {
      "cell_type": "markdown",
      "metadata": {
        "colab_type": "text",
        "id": "view-in-github"
      },
      "source": [
        "<a href=\"https://colab.research.google.com/github/brianrebollarjuarez1/Ejercicios-Simulacion-I-7MM1/blob/main/Camion_de_Transporte.ipynb\" target=\"_parent\"><img src=\"https://colab.research.google.com/assets/colab-badge.svg\" alt=\"Open In Colab\"/></a>"
      ]
    },
    {
      "cell_type": "markdown",
      "metadata": {
        "id": "f3ksHCPkjTdJ"
      },
      "source": [
        "# La empresa TIBASA (fabricante de tinas de baño) tiene asignado un camión especial para el transporte de tinas terminadas. Dicho camión transporta diariamente 5 tinas. El peso de cada tina sigue la siguiente distribución de probabilidad:![Captura de pantalla 2024-06-04 220738.png](data:image/png;base64,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)\n",
        "\n",
        "Si la capacidad del camión es de una tonelada, ¿cuál es la probabilidad de que el peso de las tinas exceda la capacidad del camión?  \n",
        "- (a) Resolver analíticamente. \n",
        "- (b) Resolver por simulación."
      ]
    },
    {
      "cell_type": "markdown",
      "metadata": {
        "id": "VNHh232SsXD1"
      },
      "source": [
        "## (a)"
      ]
    },
    {
      "cell_type": "markdown",
      "metadata": {
        "id": "1V6WvTY9k9R5"
      },
      "source": [
        "Primero hallamos la función de distribución de probabilidad con la que se distribuyen los pesos, para ello, podemos ver que: \n",
        "\n",
        "Sean $X_i$ los pesos de cada uno de los artículos, se distribuyen como:\n",
        "\n",
        "\n",
        "$X_i \\thicksim Tri(190,230,210)$"
      ]
    },
    {
      "cell_type": "markdown",
      "metadata": {
        "id": "7QGa_SbIFw0U"
      },
      "source": [
        "Sin embargo, podemos tomar la distribucion como dos rectas, con la siguiente forma: \n",
        "\n",
        "- $f_1(x) = \\frac{1}{400} (x-190)$ \n",
        "\n",
        "- $f_2(x) =  \\frac{1}{400} (230-x)$ \n",
        "\n",
        "Esto ya que podemos ver la funcion como dos distribuciones diferentes, dividiendolas a traves de la media, y a partir de ello, escribirlas como dos distribuciones que siguen una recta\n",
        "\n",
        "Podemos escribir la funcion de densidad de probabilidad como:\n",
        "\n",
        "$f(x)= \\left\\{ \\begin{array}{lcc} \\frac{1}{400} (x-190) & si & 190 \\leq x \\leq 210 \\\\ \\\\ \\frac{1}{400} (230-x) & si & 210 < x  \\leq 230 \\\\ \\end{array} \\right.$"
      ]
    },
    {
      "cell_type": "markdown",
      "metadata": {
        "id": "v43zOt4EagOW"
      },
      "source": [
        "Ahora, calculando $\\mu = E[x]$ y $\\sigma^2 = var[x]$, utilizando las definiciones:"
      ]
    },
    {
      "cell_type": "markdown",
      "metadata": {},
      "source": [
        "- $\\mu = E[x] = \\int _a ^b xf(x)$ $dx$\n",
        "\n",
        "- $\\sigma^2 = var[x] = \\int _a^b (x-\\mu)^2 f(x) $ $dx$"
      ]
    },
    {
      "cell_type": "markdown",
      "metadata": {
        "id": "p0qqbEOEa5Fj"
      },
      "source": [
        "$\\mu = E[x] = \\int_{190}^{230} xf(x) dx = \\frac{1}{400} \\int_{190}^{210} (x^2 -190x) dx + \\frac{1}{400} \\int_{210}^{230} (230x - x^2) dx = \\frac{1}{400} (\\int_{190}^{210} x^2 dx - 190 \\int_{190}^{210} x dx + 230 \\int_{210}^{230} x dx - \\int_{210}^{230} x^2 dx) = \\frac{1}{400} [(\\frac{(210)^3}{3} - \\frac{(190)^3}{3}) - 190 (\\frac{(210)^2}{2} - \\frac{(190)^2}{2}) + 230(\\frac{(230)^2}{2} - \\frac{(210)^2}{2}) - (\\frac{(230)^3}{3} - \\frac{(210)^3}{3})] = \\frac{1}{400}(84000) = 210$"
      ]
    },
    {
      "cell_type": "markdown",
      "metadata": {
        "id": "vtnbbwfBm6Z4"
      },
      "source": [
        "$\\sigma^2 = var[x] = \\int_{190}^{230} (x-210)^2 f(x) dx = \\frac{1}{400} [\\int_{190}^{210} (x-210)^2 (x - 190) dx + \\int_{210}^{230} (x-210)^2 (230 - x) dx] = \\frac{200}{3}$"
      ]
    },
    {
      "cell_type": "markdown",
      "metadata": {
        "id": "zKogG1zlr9u8"
      },
      "source": [
        "Dado que tenemos 5 articulos $X_1,X_2,X_3,X_4,X_5$ con su respectivo peso, buscamos la probabilidad: \n",
        "\n",
        "$P(X_1 + X_2 + X_3 + X_4 + X_5) > 1000$"
      ]
    },
    {
      "cell_type": "markdown",
      "metadata": {
        "id": "iLHfwnzxs6cs"
      },
      "source": [
        "Usando el teorema central del limite, dado que empieza a ser valido para $n \\geq 4$: \n",
        "\n",
        "$\\lim_{n -> \\infty} P(\\frac{X_1 + ... + X_n - n \\mu}{\\sigma \\sqrt{n}} < x) = \\phi(X)$ con $X \\thicksim N(\\mu,\\sigma)$ \n",
        "\n",
        "Para este problema: \n",
        "\n",
        "$P(\\frac{X_1 + ... + X_5 - 5(210)}{\\frac{200}{3} (\\sqrt{5})}) < \\frac{1000 -5(210)}{\\sqrt{\\frac{200}{3}} (\\sqrt{5})}$\n",
        "\n",
        "Llamando: \n",
        "\n",
        "$\\frac{X_1 + ... + X_5 - 5(210)}{\\frac{200}{3}(\\sqrt{5})} = Z$\n",
        "\n",
        "Buscamos:\n",
        "\n",
        "$P(Z < -2.738)$\n",
        "\n",
        "Recordando que si:\n",
        "\n",
        "$X \\thicksim N(\\mu,\\sigma)$ y $Z = \\frac{X - \\mu}{\\sigma}$ entonces $Z \\thicksim N(0,1)$\n",
        "\n",
        "Y buscando en la tabla Z de distribucion normal:\n",
        "\n",
        "$P(Z < -2.738) = 0.997 = 99.7\\%$"
      ]
    },
    {
      "cell_type": "markdown",
      "metadata": {
        "id": "JbYEGeksyYBF"
      },
      "source": [
        "## (b)"
      ]
    },
    {
      "cell_type": "markdown",
      "metadata": {
        "id": "YAVmwTJxyb0u"
      },
      "source": [
        "Para resolver este problema, aplicaremos transformada inversa para obtener F^{-1}(U) y obtener la probabilidad empirica a traves de analizar cuando el peso de los 5 productos supera los 1000 kilogramos, primero incluimos librerias:"
      ]
    },
    {
      "cell_type": "code",
      "execution_count": null,
      "metadata": {
        "id": "9zDPy0DT2R2L"
      },
      "outputs": [],
      "source": [
        "import numpy as np #numpy para arreglos y operaciones matematicas\n",
        "import random as rnd #Random para generar numeros aleatorios\n",
        "import matplotlib.pyplot as plt #Matplotlib para cualquier grafica que necesitemos"
      ]
    },
    {
      "cell_type": "markdown",
      "metadata": {},
      "source": [
        "La funcion inversa utilizada es:\n",
        "\n",
        "$F^{-1}(U)= \\left\\{ \\begin{array}{lcc} 190 + 20 \\sqrt{2u} & si & 0 \\leq u \\leq \\frac{1}{2} \\\\ \\\\ 230 - 20 \\sqrt{2(1-u)} & si & \\frac{1}{2} < u  \\leq 1 \\\\ \\end{array} \\right.$"
      ]
    },
    {
      "cell_type": "code",
      "execution_count": null,
      "metadata": {
        "id": "NTO0CKnczsgm"
      },
      "outputs": [],
      "source": [
        "def trian(a,b,c):\n",
        "      u = rnd.uniform(0,1) #Generamos el numero aleatorio\n",
        "      if u <= 0.5:\n",
        "        x = 20 * np.sqrt(2*u) + a #Si el numero generado es menor o igual a 0.5, se evaluara el numero en esta funcion\n",
        "      else:\n",
        "        x = b - 20 * np.sqrt(2*(1-u)) #Si no, se evaluara en esta.\n",
        "      return x"
      ]
    },
    {
      "cell_type": "markdown",
      "metadata": {},
      "source": [
        "Ahora, realizamos el experimento para obtener la probabilidad empirica, generando 5 elementos para la muestra y verificar si se cumple la condicion de peso."
      ]
    },
    {
      "cell_type": "code",
      "execution_count": null,
      "metadata": {
        "id": "SevVvh8d3J7z"
      },
      "outputs": [],
      "source": [
        "def experimento1(n,a,b,c,trian):\n",
        "  lista = [] #Aqui se guardaran las probabilidades empiricas obtenidas en cada realizacion del experimento\n",
        "  costo = 0 #Inicializamos el costo de viaje en 0\n",
        "  con = 0 #El contador de veces que los articulos exceden el peso\n",
        "  for i in range(n):\n",
        "    x1 = trian(a,b,c)\n",
        "    x2 = trian(a,b,c)\n",
        "    x3 = trian(a,b,c)\n",
        "    x4 = trian(a,b,c)\n",
        "    x5 = trian(a,b,c) #Generando 5 elementos de muestra para el experimento\n",
        "    if x1 + x2 + x3 + x4 + x5 > 1000: #Verificando la condicion de peso\n",
        "      con += 1\n",
        "      costo += 200 #Se suma 1 vez que los productos han excedido el peso, se suma una vez el costo extra y se calcula la probabilidad empirica\n",
        "      prob = con/(i+1)\n",
        "      lista.append(prob)\n",
        "    else:\n",
        "      con = con\n",
        "      costo = costo #No se cumple la condicion, se quedan las veces que se ha excedido el peso igual y no hay costo\n",
        "      prob = con/(i+1)\n",
        "      lista.append(prob)\n",
        "  return lista,costo"
      ]
    },
    {
      "cell_type": "markdown",
      "metadata": {},
      "source": [
        "Generamos los resultados del experimento, tanto la lista de probabilidades empiricas, como el costo generado total"
      ]
    },
    {
      "cell_type": "code",
      "execution_count": null,
      "metadata": {
        "id": "1Z3ZqLQE3_Zy"
      },
      "outputs": [],
      "source": [
        "exp,costo = experimento1(100000,190,230,210,trian) #Realizamos el experimento 100000 veces y con los valores parametro de la funcion a,c,b"
      ]
    },
    {
      "cell_type": "markdown",
      "metadata": {},
      "source": [
        "Graficamos el comportamiento de la funcion."
      ]
    },
    {
      "cell_type": "code",
      "execution_count": null,
      "metadata": {
        "colab": {
          "base_uri": "https://localhost:8080/",
          "height": 448
        },
        "id": "6t2H4ml14cs4",
        "outputId": "fafb86fc-c7ab-4b2a-9c93-21f90fda48fc"
      },
      "outputs": [
        {
          "data": {
            "text/plain": [
              "[<matplotlib.lines.Line2D at 0x7af11cab13f0>]"
            ]
          },
          "execution_count": 57,
          "metadata": {},
          "output_type": "execute_result"
        },
        {
          "data": {
            "image/png": "[encoded data removed]",
            "text/plain": [
              "<Figure size 640x480 with 1 Axes>"
            ]
          },
          "metadata": {},
          "output_type": "display_data"
        }
      ],
      "source": [
        "plt.plot(exp)"
      ]
    },
    {
      "cell_type": "markdown",
      "metadata": {},
      "source": [
        "Podemos ver que el comportamiento de la probabilidad se vuelve estable cerca de 1, justo como se esperaba por el resultado analitico obtenido, "
      ]
    },
    {
      "cell_type": "code",
      "execution_count": null,
      "metadata": {
        "colab": {
          "base_uri": "https://localhost:8080/"
        },
        "id": "vSGb0A2O-Nw5",
        "outputId": "cdcfacdf-1f81-4688-9c26-7e1cf4d43911"
      },
      "outputs": [
        {
          "data": {
            "text/plain": [
              "0.99768"
            ]
          },
          "execution_count": 50,
          "metadata": {},
          "output_type": "execute_result"
        }
      ],
      "source": [
        "exp[99999]"
      ]
    },
    {
      "cell_type": "markdown",
      "metadata": {
        "id": "4lON8ZLV-TLm"
      },
      "source": [
        "# Analice la conveniencia de adquirir un nuevo camión. Para tal propósito, suponga que cada vez que la capacidad del camión es excedida una tina es enviada a través de otra compañía a un costo de 200. También suponga que el costo promedio anual de un nuevo camión es de 60, 000. Si se trabaja 5 días a la semana y 52 semanas al año, ¿cuál de las dos alternativas mencionadas es la más atractiva?"
      ]
    },
    {
      "cell_type": "markdown",
      "metadata": {
        "id": "VjJwqC59-mjl"
      },
      "source": [
        "## (a)"
      ]
    },
    {
      "cell_type": "markdown",
      "metadata": {
        "id": "Y6WNUlrQ-3D3"
      },
      "source": [
        "Si el coche solo se ocupa 5 dias a la semana, al año se ocupa:\n",
        "\n",
        "$5(52) = 260$ dias\n",
        "\n",
        "Haciendo una regla de tres y utilizando la probabilidad antes obtenida:\n",
        "\n",
        "$Dias$ $de$ $operacion$ $del$ $coche$ $alquilado = \\frac{(99.7)(260)}{100} = 259$ $dias$\n",
        "\n",
        "Entonces el costo total de alquiler del coche sera:\n",
        "\n",
        "$Costo$ $= 259(200) = $ $51,800$ pesos\n",
        "\n",
        "Conviene mas el coche alquilado."
      ]
    },
    {
      "cell_type": "markdown",
      "metadata": {
        "id": "iSC-hUilAE5i"
      },
      "source": [
        "## (b)"
      ]
    },
    {
      "cell_type": "markdown",
      "metadata": {
        "id": "unmn2BDEAWdC"
      },
      "source": [
        "Solo añadimos al codigo anterior la suma del costo,repitiendo 100000 veces y vemos que obtenemos:"
      ]
    },
    {
      "cell_type": "code",
      "execution_count": null,
      "metadata": {
        "colab": {
          "base_uri": "https://localhost:8080/"
        },
        "id": "kK6sqimQAppa",
        "outputId": "30e48bee-9de5-4663-d36f-6d8554e1ba03"
      },
      "outputs": [
        {
          "data": {
            "text/plain": [
              "19944600"
            ]
          },
          "execution_count": 60,
          "metadata": {},
          "output_type": "execute_result"
        }
      ],
      "source": [
        "exp1,costo1 = experimento1(100000,190,230,210,trian)\n",
        "costo1"
      ]
    },
    {
      "cell_type": "markdown",
      "metadata": {
        "id": "R-r7JhfWCNIo"
      },
      "source": [
        "100000 dias son aproximadamente 274 años, entonces el costo de un nuevo camion anual es de:\n",
        "\n",
        "$60000(274) = 16440000$\n",
        "\n",
        "Para la simulacion de 100000 dias, sale mas rentable comprar un nuevo camion."
      ]
    }
  ],
  "metadata": {
    "colab": {
      "authorship_tag": "ABX9TyOp8Pwbf0q9r6CsXMMidNwk",
      "include_colab_link": true,
      "provenance": []
    },
    "kernelspec": {
      "display_name": "Python 3",
      "name": "python3"
    },
    "language_info": {
      "name": "python"
    }
  },
  "nbformat": 4,
  "nbformat_minor": 0
}
