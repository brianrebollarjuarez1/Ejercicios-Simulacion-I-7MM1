{
  "nbformat": 4,
  "nbformat_minor": 0,
  "metadata": {
    "colab": {
      "provenance": [],
      "authorship_tag": "ABX9TyO+GMgSygMjvH2++mpnl7iM",
      "include_colab_link": true
    },
    "kernelspec": {
      "name": "python3",
      "display_name": "Python 3"
    },
    "language_info": {
      "name": "python"
    }
  },
  "cells": [
    {
      "cell_type": "markdown",
      "metadata": {
        "id": "view-in-github",
        "colab_type": "text"
      },
      "source": [
        "<a href=\"https://colab.research.google.com/github/brianrebollarjuarez1/Ejercicios-Simulacion-I-7MM1/blob/main/Prueba_Chi_Cuadrada.ipynb\" target=\"_parent\"><img src=\"https://colab.research.google.com/assets/colab-badge.svg\" alt=\"Open In Colab\"/></a>"
      ]
    },
    {
      "cell_type": "markdown",
      "source": [
        "Prueba Chi- Cuadrada\n",
        "\n",
        "Se utilizó esta prueba de bondad de ajuste con la siguiente hipotesis:\n",
        "\n",
        "- Ho := Los números siguen una distribución uniforme U(0,1).\n",
        "- H1 := No Ho\n",
        "\n",
        "A continuación, se explica la realización del programa paso a paso:"
      ],
      "metadata": {
        "id": "wwRCrNxVaQJI"
      }
    },
    {
      "cell_type": "markdown",
      "source": [
        "Se llama a las librerias a utilizar, numpy para arreglos y prettytable para mostrar los datos en una tabla."
      ],
      "metadata": {
        "id": "64q0mKiHb7Hj"
      }
    },
    {
      "cell_type": "code",
      "source": [
        "import numpy as np\n",
        "from prettytable import PrettyTable"
      ],
      "metadata": {
        "id": "jMEf9priaOSP"
      },
      "execution_count": 7,
      "outputs": []
    },
    {
      "cell_type": "markdown",
      "source": [
        "Esta función es utilizada para dividir los elementos en clases, de la siguiente manera:"
      ],
      "metadata": {
        "id": "hrsA2ar_cWgy"
      }
    },
    {
      "cell_type": "code",
      "source": [
        "def clases(datos,N):\n",
        "\n",
        "    ##############################\n",
        "    #Se crean listas para guardar#\n",
        "    #los elementos de cada una de#\n",
        "    #las clases.                 #\n",
        "    ##############################\n",
        "\n",
        "    datos1 = []\n",
        "    datos2 = []\n",
        "    datos3 = []\n",
        "    datos4 = []\n",
        "    datos5 = []\n",
        "\n",
        "    #################################\n",
        "    #Se crea un arreglo de indices  #\n",
        "    #para seleccionar los elementos.#\n",
        "    #################################\n",
        "\n",
        "    indices = np.arange(N)\n",
        "\n",
        "    ##########################################\n",
        "    #Se usa el proceso iterativo para        #\n",
        "    #guardar los elementos en sus respectivas#\n",
        "    #clases, comparando con los valores del  #\n",
        "    #intervalo.                              #\n",
        "    ##########################################\n",
        "\n",
        "    for i in indices:\n",
        "\n",
        "    ####################\n",
        "    #Intervalo [0,0.2).#\n",
        "    ####################\n",
        "\n",
        "        if 0 <= datos[i] <= 0.2:\n",
        "            datos1.append(datos[i])\n",
        "\n",
        "    ######################\n",
        "    #Intervalo [0.2,0.4).#\n",
        "    ######################\n",
        "\n",
        "        if 0.2 < datos[i] <= 0.4:\n",
        "            datos2.append(datos[i])\n",
        "\n",
        "    ######################\n",
        "    #Intervalo [0.4,0.6).#\n",
        "    ######################\n",
        "\n",
        "        if 0.4 < datos[i] <= 0.6:\n",
        "            datos3.append(datos[i])\n",
        "\n",
        "    ######################\n",
        "    #Intervalo [0.6,0.8).#\n",
        "    ######################\n",
        "\n",
        "        if 0.6 < datos[i] <= 0.8:\n",
        "            datos4.append(datos[i])\n",
        "\n",
        "    ####################\n",
        "    #Intervalo [0.8,1].#\n",
        "    ####################\n",
        "\n",
        "        if 0.8 < datos[i] <= 1:\n",
        "            datos5.append(datos[i])\n",
        "\n",
        "    ################################\n",
        "    #Finalmente, se unen las clases#\n",
        "    #en un solo arreglo.           #\n",
        "    ################################\n",
        "\n",
        "    clasesx = [datos1,datos2,datos3,datos4,datos5]\n",
        "    return clasesx"
      ],
      "metadata": {
        "id": "FQl25YfwbUsu"
      },
      "execution_count": 8,
      "outputs": []
    },
    {
      "cell_type": "markdown",
      "source": [
        "Esta función obtiene el valor del estadistico Chi-Cuadrada a través del siguiente proceso:"
      ],
      "metadata": {
        "id": "wJGWxDu4iWmC"
      }
    },
    {
      "cell_type": "code",
      "source": [
        "def prueba(N,n,clasesx):\n",
        "\n",
        "    ####################################\n",
        "    #Se obtiene la frecuencia esperada.#\n",
        "    ####################################\n",
        "\n",
        "    freesp = N/n\n",
        "\n",
        "    #########################################\n",
        "    #Se crea un arreglo para las frecuencias#\n",
        "    #observadas y se llena a partir del     #\n",
        "    #tamaño de los arreglos de clases.      #\n",
        "    #########################################\n",
        "\n",
        "    freobs = np.zeros(n)\n",
        "    indices1 = np.arange(n)\n",
        "    for i in indices1:\n",
        "        freobs[i] = len(clasesx[i])\n",
        "\n",
        "    ############################################\n",
        "    #Inicializamos chi cuadrada en 0           #\n",
        "    #y calculamos su valor con la fórmula      #\n",
        "    #y cada frecuencia observada por intervalo.#\n",
        "    ############################################\n",
        "\n",
        "    chicuadrada = 0\n",
        "    indices = np.arange(n)\n",
        "    for i in indices:\n",
        "        chicuadrada = chicuadrada + ((freobs[i] - freesp)**2/freesp)\n",
        "    return chicuadrada,freobs,freesp"
      ],
      "metadata": {
        "id": "cwU7Wm_ibXYs"
      },
      "execution_count": 9,
      "outputs": []
    },
    {
      "cell_type": "markdown",
      "source": [
        "Inicializamos los datos, obtenemos la cantidad de datos, las clases, la cantidad de clases y el valor de Chi-Cuadrada, y agregamos el valor hallado en tablas."
      ],
      "metadata": {
        "id": "RUl2Gw-PlaEc"
      }
    },
    {
      "cell_type": "code",
      "source": [
        "datos = [0.78, 0.98, 0.24, 0.73, 0.43, 0.16, 0.78, 0.47, 0.18, 0.55  ,0.04 ,0.29 ,0.68 ,0.77 ,0.16 ,0.03 ,0.79 ,0.22 ,0.37 ,0.80 ,0.96 ,0.26 ,0.91 ,0.55 ,0.75 ,0.55 ,0.64 ,0.39 ,0.53 ,0.45 ,0.61 ,0.14 ,0.38 ,0.12 ,0.40 ,0.74 ,0.78 ,0.98 ,0.27 ,0.60 ,0.43 ,0.67 ,0.62 ,0.32 ,0.53 ,0.54 ,0.24 ,0.29 ,0.18 ,0.08 ,0.82 ,0.94 ,0.19 ,0.98 ,0.41 ,1.00 ,0.74 ,0.92 ,0.14 ,0.43 ,0.83 ,0.88 ,0.18 ,0.21 ,0.50 ,0.13 ,0.43 ,0.69 ,0.08 ,0.12 ,0.22 ,0.50 ,0.16 ,0.11 ,0.18 ,0.89 ,0.80 ,0.42 ,0.29 ,0.87 ,0.83 ,0.79 ,0.65 ,0.28 ,0.78 ,0.49 ,0.36 ,0.86 ,0.87 ,0.64 ,0.51 ,0.07 ,0.18 ,0.94 ,0.50 ,0.22 ,0.66 ,0.91 ,0.48 ,0.24]\n",
        "datos = np.array(datos)\n",
        "N = len(datos)\n",
        "clasesx = clases(datos,N)\n",
        "n = len(clasesx)\n",
        "chicuadrada,freobs,freesp = prueba(N,n,clasesx)\n",
        "valcrit = 7.779"
      ],
      "metadata": {
        "id": "3zC5BEn4batR"
      },
      "execution_count": 10,
      "outputs": []
    },
    {
      "cell_type": "markdown",
      "source": [
        "Imprimimos la tabla de frecuencias, el valor de Chi-Cuadrada y el valor critico, finalmente tomamos una decisión."
      ],
      "metadata": {
        "id": "vkwBDd8TmGqL"
      }
    },
    {
      "cell_type": "code",
      "source": [
        "intervalos = [\"[0,0.2)\",\"[0.2,0.4)\",\"[0.4,0.6)\",\"[0.6,0.8)\",\"[0.8,1]\"]\n",
        "freesp1 = np.zeros(5)\n",
        "indices = np.arange(5)\n",
        "for i in indices:\n",
        "    freesp1[i] = freesp\n",
        "table = PrettyTable()\n",
        "table.add_column(\"Intervalos\",intervalos)\n",
        "table.add_column(\"Fo\",freobs)\n",
        "table.add_column(\"Fe\",freesp1)\n",
        "table.add_column(\"Fo - Fe\",freobs-freesp1)\n",
        "table.add_column(\"(Fo - Fe)^2/Fe\",(freobs-freesp1)**2/freesp1)\n",
        "print(table)\n",
        "print(\"El valor de chi cuadrada es: \",chicuadrada)\n",
        "print (\"El valor critico es: \",valcrit)\n",
        "if chicuadrada <= valcrit:\n",
        "    print(\"Por lo tanto, no se rechaza la hipotesis nula. \")\n",
        "else:\n",
        "    print(\"Por lo tanto, se rechaza la hipotesis nula.\")"
      ],
      "metadata": {
        "colab": {
          "base_uri": "https://localhost:8080/"
        },
        "id": "mQ0lb9DMTSLR",
        "outputId": "0ffe2c60-42c3-462f-9233-c22115cbd199"
      },
      "execution_count": 11,
      "outputs": [
        {
          "output_type": "stream",
          "name": "stdout",
          "text": [
            "+------------+------+------+---------+----------------+\n",
            "| Intervalos |  Fo  |  Fe  | Fo - Fe | (Fo - Fe)^2/Fe |\n",
            "+------------+------+------+---------+----------------+\n",
            "|  [0,0.2)   | 20.0 | 20.0 |   0.0   |      0.0       |\n",
            "| [0.2,0.4)  | 19.0 | 20.0 |   -1.0  |      0.05      |\n",
            "| [0.4,0.6)  | 21.0 | 20.0 |   1.0   |      0.05      |\n",
            "| [0.6,0.8)  | 22.0 | 20.0 |   2.0   |      0.2       |\n",
            "|  [0.8,1]   | 18.0 | 20.0 |   -2.0  |      0.2       |\n",
            "+------------+------+------+---------+----------------+\n",
            "El valor de chi cuadrada es:  0.5\n",
            "El valor critico es:  7.779\n",
            "Por lo tanto, no se rechaza la hipotesis nula. \n"
          ]
        }
      ]
    }
  ]
}