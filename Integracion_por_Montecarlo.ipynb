{
  "nbformat": 4,
  "nbformat_minor": 0,
  "metadata": {
    "colab": {
      "provenance": [],
      "authorship_tag": "ABX9TyMxMcOnKAOVHAzlnOTDGlvB",
      "include_colab_link": true
    },
    "kernelspec": {
      "name": "python3",
      "display_name": "Python 3"
    },
    "language_info": {
      "name": "python"
    }
  },
  "cells": [
    {
      "cell_type": "markdown",
      "metadata": {
        "id": "view-in-github",
        "colab_type": "text"
      },
      "source": [
        "<a href=\"https://colab.research.google.com/github/brianrebollarjuarez1/Ejercicios-Simulacion-I-7MM1/blob/main/Integracion_por_Montecarlo.ipynb\" target=\"_parent\"><img src=\"https://colab.research.google.com/assets/colab-badge.svg\" alt=\"Open In Colab\"/></a>"
      ]
    },
    {
      "cell_type": "markdown",
      "source": [
        "# Integracion por Metodo Monte Carlo"
      ],
      "metadata": {
        "id": "cr6l1YSVP3ts"
      }
    },
    {
      "cell_type": "markdown",
      "source": [
        "Cuando una integral es dificil de calcular analiticamente, utilizamos el metodo de Integracion Monte Carlo, el cual se basa en la aproximacion de valor de integral por sumas de Riemann, ademas de realizar una transformacion,escribiendo la funcion como un producto de la longitud del intervalo multiplicada por la funcion objetivo por la funcion de distribucion uniforme:"
      ],
      "metadata": {
        "id": "ifE8RYRfhGTF"
      }
    },
    {
      "cell_type": "markdown",
      "source": [
        "$g(x) = w(x)f(x)$ con $w(x) = g(x)(b-a)$ y $f(x) = \\frac{1}{b - a}$"
      ],
      "metadata": {
        "id": "qnewGj40h1SH"
      }
    },
    {
      "cell_type": "markdown",
      "source": [
        "Utilizaremos la simulacion Monte Carlo para aproximar el valor de la integral, es decir, generaremos $n$ numeros aleatorios, y repetiremos el experimento $N$ veces para obtener la mejor aproximacion de la integral."
      ],
      "metadata": {
        "id": "SMLvysphiF4O"
      }
    },
    {
      "cell_type": "markdown",
      "source": [
        "## Metodo de la Media Muestral"
      ],
      "metadata": {
        "id": "zyxFXOmniwgJ"
      }
    },
    {
      "cell_type": "markdown",
      "source": [
        "Basado en la ley de los grandes numeros, consiste en generar una muestra de numeros aleatorios lo suficientemente grande, de tal manera que el promedio de las evaluaciones de la funcion, se aproxime al valor esperado de g(x), que sera la funcion de distribucion uniforme multiplicado por la aproximacion del valor de la integral.\n",
        "\n",
        "$\\frac{1}{N} \\sum _{i = 1}^N g(x_i) = \\frac{I}{b-a}$"
      ],
      "metadata": {
        "id": "ALk1mYDvi0j7"
      }
    },
    {
      "cell_type": "markdown",
      "source": [
        "Para ilustrar este metodo, utilizaremos de ejemplo la siguiente integral:\n",
        "\n",
        "$\\int _0 ^1 \\sqrt{arctan(x)}$ $dx$\n",
        "\n",
        "La cual es dificil de calcular analiticamente, por ello utilizaremos Monte Carlo para hallar su valor."
      ],
      "metadata": {
        "id": "eXTr2pYujtUP"
      }
    },
    {
      "cell_type": "markdown",
      "source": [
        "Utilizando un software, la integral nos da un valor de:\n",
        "\n",
        "$\\int _0 ^1 \\sqrt{arctan(x)}$ $dx$ $= 0.62982...$"
      ],
      "metadata": {
        "id": "vSqdg23akF5p"
      }
    },
    {
      "cell_type": "markdown",
      "source": [
        "Importamos librerias:"
      ],
      "metadata": {
        "id": "RWzmBDG-kj3L"
      }
    },
    {
      "cell_type": "code",
      "source": [
        "import numpy as np #Numpy para manejar arreglos\n",
        "import matplotlib.pyplot as plt #plt para graficar histogramas y fda\n",
        "import random as rnd #random para generar numero alea"
      ],
      "metadata": {
        "id": "RcJxXIxUkmnu"
      },
      "execution_count": 43,
      "outputs": []
    },
    {
      "cell_type": "markdown",
      "source": [
        "Aplicando el metodo, primero programamos la funcion:"
      ],
      "metadata": {
        "id": "SwBYCXkMkbHW"
      }
    },
    {
      "cell_type": "code",
      "source": [
        "def f(x): #Llamamos f a la funcion objetivo\n",
        "    return np.sqrt(np.arctan(x)) # Funcion objetivo"
      ],
      "metadata": {
        "id": "odIJ_dGxkfz6"
      },
      "execution_count": 44,
      "outputs": []
    },
    {
      "cell_type": "markdown",
      "source": [
        "Hallamos la funcion acumulativa de las aproximaciones a traves del truco visto en clase."
      ],
      "metadata": {
        "id": "VwDMlkhWom2H"
      }
    },
    {
      "cell_type": "code",
      "source": [
        "def cdf(x):\n",
        "    n = len(x)\n",
        "    y = np.sort(x)\n",
        "    g = np.arange(n)/n\n",
        "    return y,g"
      ],
      "metadata": {
        "id": "R5SE7juBol82"
      },
      "execution_count": 45,
      "outputs": []
    },
    {
      "cell_type": "markdown",
      "source": [
        "Primero realizamos el experimento, utilizando el pseudocodigo del metodo de Monte Carlo por Media Muestral:"
      ],
      "metadata": {
        "id": "cIQ2Lt8-k1-l"
      }
    },
    {
      "cell_type": "code",
      "source": [
        "def MM(a,b,n,f):\n",
        "  u = np.random.uniform(0,1,n) #Generamos n numeros aleatorios con distribucion uniforme\n",
        "  G = [] #Aqui se guardaran los valores de funcion obtenidos\n",
        "  for i in range(n):\n",
        "    x = a + u[i] * (b - a) #Se calculan los valores de funcion para obtener su promedio\n",
        "    G.append(f(x))\n",
        "  return np.mean(G) #Sale el promedio de los valores obtenidos"
      ],
      "metadata": {
        "id": "Q9e2RWKalBHY"
      },
      "execution_count": 46,
      "outputs": []
    },
    {
      "cell_type": "markdown",
      "source": [
        "Ahora procedemos con la simulacion Monte Carlo, donde repetimos el experimento N veces, obteniendo la media de cada uno de ellos para lograr la mejor aproximacion del valor de la integral"
      ],
      "metadata": {
        "id": "PuK5Vg8ymeRa"
      }
    },
    {
      "cell_type": "code",
      "source": [
        "def MC_MM(a,b,N,n,f):\n",
        "  I = [] #Aqui guardamos las medias obtenidas en cada uno de los experimentos\n",
        "  for i in range(N):\n",
        "    I.append(MM(a,b,n,f)) #Obtenemos las medias y las guardamos\n",
        "  return I"
      ],
      "metadata": {
        "id": "Rt2O2HztmwVT"
      },
      "execution_count": 47,
      "outputs": []
    },
    {
      "cell_type": "markdown",
      "source": [
        "Para nuestro experimento, cada una de las muestras tendra 100 numeros aleatorios y repetiremos el experimento 10000 veces"
      ],
      "metadata": {
        "id": "mxng3SeFnGzK"
      }
    },
    {
      "cell_type": "code",
      "source": [
        "n = 100\n",
        "N = 10000\n",
        "a = 0\n",
        "b = 1 #Extremos del intervalo de integracion"
      ],
      "metadata": {
        "id": "4TbRZ7RpnbOf"
      },
      "execution_count": 48,
      "outputs": []
    },
    {
      "cell_type": "markdown",
      "source": [
        "Realizamos la simulacion:"
      ],
      "metadata": {
        "id": "8Clyva5AngZ7"
      }
    },
    {
      "cell_type": "code",
      "source": [
        "I = MC_MM(a,b,N,n,f)"
      ],
      "metadata": {
        "id": "ig7_KWH1niLA"
      },
      "execution_count": 55,
      "outputs": []
    },
    {
      "cell_type": "markdown",
      "source": [
        "y obtenemos la aproximacion, a traves de la media de todos los experimentos:"
      ],
      "metadata": {
        "id": "9iDIvGCFnxX1"
      }
    },
    {
      "cell_type": "code",
      "source": [
        "media = np.mean(I)\n",
        "media"
      ],
      "metadata": {
        "colab": {
          "base_uri": "https://localhost:8080/"
        },
        "id": "J-g3Rm78n-9f",
        "outputId": "10099ac6-f057-46a0-d66c-79c20a13b74f"
      },
      "execution_count": 56,
      "outputs": [
        {
          "output_type": "execute_result",
          "data": {
            "text/plain": [
              "0.629578641160818"
            ]
          },
          "metadata": {},
          "execution_count": 56
        }
      ]
    },
    {
      "cell_type": "markdown",
      "source": [
        "La cual se aproxima bastante bien al valor obtenido en software."
      ],
      "metadata": {
        "id": "pw2H9Olbo2Pd"
      }
    },
    {
      "cell_type": "markdown",
      "source": [
        "Graficamos el histograma para ver el comportamiento de las medias de los experimentos:"
      ],
      "metadata": {
        "id": "IKCP8Hz3oBzZ"
      }
    },
    {
      "cell_type": "code",
      "source": [
        "plt.hist(I,bins = 100)"
      ],
      "metadata": {
        "colab": {
          "base_uri": "https://localhost:8080/",
          "height": 1000
        },
        "id": "hbx5h8N-oHmo",
        "outputId": "e4bd06ea-9a32-454c-90dd-0ac4b6033c36"
      },
      "execution_count": 57,
      "outputs": [
        {
          "output_type": "execute_result",
          "data": {
            "text/plain": [
              "(array([  1.,   1.,   3.,   1.,   6.,   4.,   7.,   5.,   4.,  15.,  10.,\n",
              "         11.,   8.,  14.,  20.,  26.,  33.,  26.,  38.,  36.,  36.,  49.,\n",
              "         46.,  68.,  72.,  64.,  85.,  81.,  93., 108., 129., 122., 143.,\n",
              "        176., 180., 167., 173., 214., 205., 208., 201., 216., 238., 255.,\n",
              "        276., 254., 257., 256., 268., 262., 289., 244., 285., 268., 266.,\n",
              "        263., 236., 265., 209., 217., 226., 179., 171., 149., 154., 166.,\n",
              "        141., 129., 120., 104.,  94.,  93.,  78.,  75.,  67.,  54.,  42.,\n",
              "         32.,  33.,  28.,  27.,  20.,  16.,  16.,   9.,  18.,   8.,   7.,\n",
              "          7.,   6.,   3.,   5.,   1.,   3.,   1.,   0.,   2.,   1.,   1.,\n",
              "          1.]),\n",
              " array([0.5610145 , 0.56241213, 0.56380976, 0.56520739, 0.56660502,\n",
              "        0.56800264, 0.56940027, 0.5707979 , 0.57219553, 0.57359316,\n",
              "        0.57499079, 0.57638841, 0.57778604, 0.57918367, 0.5805813 ,\n",
              "        0.58197893, 0.58337656, 0.58477418, 0.58617181, 0.58756944,\n",
              "        0.58896707, 0.5903647 , 0.59176233, 0.59315995, 0.59455758,\n",
              "        0.59595521, 0.59735284, 0.59875047, 0.6001481 , 0.60154573,\n",
              "        0.60294335, 0.60434098, 0.60573861, 0.60713624, 0.60853387,\n",
              "        0.6099315 , 0.61132912, 0.61272675, 0.61412438, 0.61552201,\n",
              "        0.61691964, 0.61831727, 0.61971489, 0.62111252, 0.62251015,\n",
              "        0.62390778, 0.62530541, 0.62670304, 0.62810066, 0.62949829,\n",
              "        0.63089592, 0.63229355, 0.63369118, 0.63508881, 0.63648644,\n",
              "        0.63788406, 0.63928169, 0.64067932, 0.64207695, 0.64347458,\n",
              "        0.64487221, 0.64626983, 0.64766746, 0.64906509, 0.65046272,\n",
              "        0.65186035, 0.65325798, 0.6546556 , 0.65605323, 0.65745086,\n",
              "        0.65884849, 0.66024612, 0.66164375, 0.66304137, 0.664439  ,\n",
              "        0.66583663, 0.66723426, 0.66863189, 0.67002952, 0.67142715,\n",
              "        0.67282477, 0.6742224 , 0.67562003, 0.67701766, 0.67841529,\n",
              "        0.67981292, 0.68121054, 0.68260817, 0.6840058 , 0.68540343,\n",
              "        0.68680106, 0.68819869, 0.68959631, 0.69099394, 0.69239157,\n",
              "        0.6937892 , 0.69518683, 0.69658446, 0.69798208, 0.69937971,\n",
              "        0.70077734]),\n",
              " <BarContainer object of 100 artists>)"
            ]
          },
          "metadata": {},
          "execution_count": 57
        },
        {
          "output_type": "display_data",
          "data": {
            "text/plain": [
              "<Figure size 640x480 with 1 Axes>"
            ],
            "image/png": "[encoded data removed]"
          },
          "metadata": {}
        }
      ]
    },
    {
      "cell_type": "markdown",
      "source": [
        "Podemos ver que se comporta como una distribucion normal, lo que va de acuerdo al teorema central del limite, que nos dice que con una muestra suficientemente grande, esta se distribuira con una funcion de distribucion normal."
      ],
      "metadata": {
        "id": "prJkNWvnoL7d"
      }
    },
    {
      "cell_type": "markdown",
      "source": [
        "Obtenemos la funcion de distribucion acumulativa:"
      ],
      "metadata": {
        "id": "czzFnNDqoucj"
      }
    },
    {
      "cell_type": "code",
      "source": [
        "y,g = cdf(I) #Utilizando el truco visto en clase\n",
        "plt.step(y,g)"
      ],
      "metadata": {
        "colab": {
          "base_uri": "https://localhost:8080/",
          "height": 448
        },
        "id": "TxAxqhvJo9Af",
        "outputId": "9786646e-d4c1-48f4-fc27-049b0ce9b2b2"
      },
      "execution_count": 58,
      "outputs": [
        {
          "output_type": "execute_result",
          "data": {
            "text/plain": [
              "[<matplotlib.lines.Line2D at 0x7d7da99a6a40>]"
            ]
          },
          "metadata": {},
          "execution_count": 58
        },
        {
          "output_type": "display_data",
          "data": {
            "text/plain": [
              "<Figure size 640x480 with 1 Axes>"
            ],
            "image/png": "[encoded data removed]"
          },
          "metadata": {}
        }
      ]
    },
    {
      "cell_type": "markdown",
      "source": [
        "La funcion de distribucion acumulativa coincide con la distribucion acumulativa normal."
      ],
      "metadata": {
        "id": "us4BqegdpJ9h"
      }
    },
    {
      "cell_type": "markdown",
      "source": [
        "Para hallar el intervalo de confianza del valor de la integral, hallamos la desviacion estandar de las medias muestrales."
      ],
      "metadata": {
        "id": "50hLXhZZpY_1"
      }
    },
    {
      "cell_type": "code",
      "source": [
        "desvest = np.std(I)\n",
        "desvest"
      ],
      "metadata": {
        "colab": {
          "base_uri": "https://localhost:8080/"
        },
        "id": "_UulwlYqpgt-",
        "outputId": "74563aa7-945b-4221-c073-8ae5dc6c6705"
      },
      "execution_count": 59,
      "outputs": [
        {
          "output_type": "execute_result",
          "data": {
            "text/plain": [
              "0.020466968472592287"
            ]
          },
          "metadata": {},
          "execution_count": 59
        }
      ]
    },
    {
      "cell_type": "markdown",
      "source": [
        "Queremos un $\\alpha = 5\\%$, por lo tanto, usamos $Z = 1.96$ para el intervalo de confianza, quedando como:"
      ],
      "metadata": {
        "id": "LWMpJm3kpkfz"
      }
    },
    {
      "cell_type": "markdown",
      "source": [
        "$(\\theta_2 - 1.96\\sigma,\\theta_2 + 1.96\\sigma)$"
      ],
      "metadata": {
        "id": "B-Rf38Gy19gi"
      }
    },
    {
      "cell_type": "code",
      "source": [
        "print(\"(\",media - 1.96*desvest,\";\",media + 1.96*desvest,\")\")"
      ],
      "metadata": {
        "colab": {
          "base_uri": "https://localhost:8080/"
        },
        "id": "lloWo182pyuu",
        "outputId": "6d8a1dc9-e565-4845-b526-d3e294976cb6"
      },
      "execution_count": 60,
      "outputs": [
        {
          "output_type": "stream",
          "name": "stdout",
          "text": [
            "( 0.589463382954537 ; 0.6696938993670989 )\n"
          ]
        }
      ]
    },
    {
      "cell_type": "markdown",
      "source": [
        "Podemos decir con un $95 \\%$ de confianza que el valor de aproximacion de la integral, se encontrara entre los valores mostrados arriba."
      ],
      "metadata": {
        "id": "1s8arIVGqIiA"
      }
    },
    {
      "cell_type": "markdown",
      "source": [
        "## Metodo de Acierto y Error"
      ],
      "metadata": {
        "id": "hLaBL-SlqWZP"
      }
    },
    {
      "cell_type": "markdown",
      "source": [
        "Consiste en considerar el area bajo la curva de una region rectangular como $[(x,g(x)) : a \\leq x \\leq b $ y $0 \\leq g(x) \\leq c]$, generando puntos aleatorios $(x,y)$ y calculando el numero de veces que este cae dentro de la region, obteniendo la probabilidad empirica de que el punto caiga dentro de la region:\n",
        "\n",
        "$p = \\frac{n_{\\alpha}}{n} = \\frac{I}{c(b-a)} \\rightarrow I ≈ c(b-a) \\frac{n_{\\alpha}}{n}$"
      ],
      "metadata": {
        "id": "lEFQbw0IqcPd"
      }
    },
    {
      "cell_type": "markdown",
      "source": [
        "Con simulacion Montecarlo, repetiremos N veces para obtener la mejor aproximacion."
      ],
      "metadata": {
        "id": "DR9VUpRht1eR"
      }
    },
    {
      "cell_type": "markdown",
      "source": [
        "Ya teniendo la funcion, realizamos el experimento de Acierto y Error, eligiendo $c = 1$:"
      ],
      "metadata": {
        "id": "c4rjQNIAuAEr"
      }
    },
    {
      "cell_type": "code",
      "source": [
        "def AE(a,b,c,n,f):\n",
        "  u = np.random.uniform(0,1,2*n) #Generamos n numeros aleatorios con distribucion uniforme\n",
        "  #Para temas computacionales, no necesitamos generar pares, solo necesitamos llamarlos del arreglo.\n",
        "  nalpha = 0 #Contador para el numero de veces que el punto cae en la region\n",
        "  for i in range(n):\n",
        "    x = a + u[i]*(b-a)\n",
        "    if f(x) > c*u[n + i]:\n",
        "      nalpha += 1 #Si el punto cae dentro de la region, se suma un acierto al contador\n",
        "  return c*(b-a)*(nalpha/n) #Obtenemos la probabilidad empirica"
      ],
      "metadata": {
        "id": "VJ3n-KD8uJ9m"
      },
      "execution_count": 61,
      "outputs": []
    },
    {
      "cell_type": "markdown",
      "source": [
        "Como parte de la simulacion Monte Carlo, repetimos el experimento N veces."
      ],
      "metadata": {
        "id": "lyjoyJtaxlH6"
      }
    },
    {
      "cell_type": "code",
      "source": [
        "def MC_AE(a,b,c,N,n,f):\n",
        "  I = [] #Aqui guardamos las medias obtenidas en cada uno de los experimentos\n",
        "  for i in range(N):\n",
        "    I.append(AE(a,b,c,n,f)) #Obtenemos las medias y las guardamos\n",
        "  return I"
      ],
      "metadata": {
        "id": "QKg1dknbyS3L"
      },
      "execution_count": 62,
      "outputs": []
    },
    {
      "cell_type": "markdown",
      "source": [
        "Para este experimento y la comparacion, utilzaremos muestras de 100 numeros y repetimos 10000 veces."
      ],
      "metadata": {
        "id": "IvZQHOLmyi5x"
      }
    },
    {
      "cell_type": "code",
      "source": [
        "c = 1 #Valor de acotamiento de f"
      ],
      "metadata": {
        "id": "u9k6uzzFy6Kr"
      },
      "execution_count": 63,
      "outputs": []
    },
    {
      "cell_type": "code",
      "source": [
        "I2 = MC_AE(a,b,c,N,n,f)"
      ],
      "metadata": {
        "id": "chkJkvwBzB6_"
      },
      "execution_count": 65,
      "outputs": []
    },
    {
      "cell_type": "markdown",
      "source": [
        "Calculamos la media de la simulacion de Montecarlo para obtener la mejor aproximacion."
      ],
      "metadata": {
        "id": "vCsPZuEDz4bs"
      }
    },
    {
      "cell_type": "code",
      "source": [
        "media2 = np.mean(I2)\n",
        "media2"
      ],
      "metadata": {
        "colab": {
          "base_uri": "https://localhost:8080/"
        },
        "id": "dpDR6R-f0F0a",
        "outputId": "e4a1fbea-abac-4d16-adf2-74d97a43d589"
      },
      "execution_count": 66,
      "outputs": [
        {
          "output_type": "execute_result",
          "data": {
            "text/plain": [
              "0.629498"
            ]
          },
          "metadata": {},
          "execution_count": 66
        }
      ]
    },
    {
      "cell_type": "markdown",
      "source": [
        "Comparando, la aproximacion obtenida en la simulacion del metodo de medias muestrales se acerca mas al valor por una diferencia aproximada de $0.0008$, por lo que ambas son buenas, aunque la de medias muestrales se aproxima un poco mejor."
      ],
      "metadata": {
        "id": "fgjfUHtF0Qjv"
      }
    },
    {
      "cell_type": "markdown",
      "source": [
        "Generando histograma para ver el comportamiento de las medias."
      ],
      "metadata": {
        "id": "Vr9sL97X0fxc"
      }
    },
    {
      "cell_type": "code",
      "source": [
        "plt.hist(I2,bins = 500)"
      ],
      "metadata": {
        "colab": {
          "base_uri": "https://localhost:8080/",
          "height": 1000
        },
        "id": "5MzoflMu0j4K",
        "outputId": "cbfa6779-479c-4967-8d8b-89b9b4e057c2"
      },
      "execution_count": 69,
      "outputs": [
        {
          "output_type": "execute_result",
          "data": {
            "text/plain": [
              "(array([  1.,   0.,   0.,   0.,   0.,   0.,   0.,   0.,   0.,   0.,   0.,\n",
              "          0.,   0.,   0.,   0.,   0.,   0.,   0.,   0.,   0.,   0.,   0.,\n",
              "          0.,   0.,   0.,   0.,   0.,   1.,   0.,   0.,   0.,   0.,   0.,\n",
              "          0.,   0.,   0.,   0.,   0.,   0.,   0.,   0.,   5.,   0.,   0.,\n",
              "          0.,   0.,   0.,   0.,   0.,   0.,   0.,   0.,   0.,   0.,   0.,\n",
              "          2.,   0.,   0.,   0.,   0.,   0.,   0.,   0.,   0.,   0.,   0.,\n",
              "          0.,   0.,   0.,  10.,   0.,   0.,   0.,   0.,   0.,   0.,   0.,\n",
              "          0.,   0.,   0.,   0.,   0.,   0.,  14.,   0.,   0.,   0.,   0.,\n",
              "          0.,   0.,   0.,   0.,   0.,   0.,   0.,   0.,   0.,  26.,   0.,\n",
              "          0.,   0.,   0.,   0.,   0.,   0.,   0.,   0.,   0.,   0.,   0.,\n",
              "          0.,  31.,   0.,   0.,   0.,   0.,   0.,   0.,   0.,   0.,   0.,\n",
              "          0.,   0.,   0.,   0.,  60.,   0.,   0.,   0.,   0.,   0.,   0.,\n",
              "          0.,   0.,   0.,   0.,   0.,   0.,  93.,   0.,   0.,   0.,   0.,\n",
              "          0.,   0.,   0.,   0.,   0.,   0.,   0.,   0.,   0., 165.,   0.,\n",
              "          0.,   0.,   0.,   0.,   0.,   0.,   0.,   0.,   0.,   0.,   0.,\n",
              "          0., 229.,   0.,   0.,   0.,   0.,   0.,   0.,   0.,   0.,   0.,\n",
              "          0.,   0.,   0.,   0., 304.,   0.,   0.,   0.,   0.,   0.,   0.,\n",
              "          0.,   0.,   0.,   0.,   0.,   0.,   0., 357.,   0.,   0.,   0.,\n",
              "          0.,   0.,   0.,   0.,   0.,   0.,   0.,   0.,   0.,   0., 445.,\n",
              "          0.,   0.,   0.,   0.,   0.,   0.,   0.,   0.,   0.,   0.,   0.,\n",
              "          0.,   0., 556.,   0.,   0.,   0.,   0.,   0.,   0.,   0.,   0.,\n",
              "          0.,   0.,   0.,   0.,   0., 681.,   0.,   0.,   0.,   0.,   0.,\n",
              "          0.,   0.,   0.,   0.,   0.,   0.,   0.,   0., 791.,   0.,   0.,\n",
              "          0.,   0.,   0.,   0.,   0.,   0.,   0.,   0.,   0.,   0., 783.,\n",
              "          0.,   0.,   0.,   0.,   0.,   0.,   0.,   0.,   0.,   0.,   0.,\n",
              "          0.,   0., 783.,   0.,   0.,   0.,   0.,   0.,   0.,   0.,   0.,\n",
              "          0.,   0.,   0.,   0.,   0., 883.,   0.,   0.,   0.,   0.,   0.,\n",
              "          0.,   0.,   0.,   0.,   0.,   0.,   0.,   0., 774.,   0.,   0.,\n",
              "          0.,   0.,   0.,   0.,   0.,   0.,   0.,   0.,   0.,   0.,   0.,\n",
              "        716.,   0.,   0.,   0.,   0.,   0.,   0.,   0.,   0.,   0.,   0.,\n",
              "          0.,   0.,   0., 613.,   0.,   0.,   0.,   0.,   0.,   0.,   0.,\n",
              "          0.,   0.,   0.,   0.,   0.,   0., 471.,   0.,   0.,   0.,   0.,\n",
              "          0.,   0.,   0.,   0.,   0.,   0.,   0.,   0.,   0., 375.,   0.,\n",
              "          0.,   0.,   0.,   0.,   0.,   0.,   0.,   0.,   0.,   0.,   0.,\n",
              "          0., 293.,   0.,   0.,   0.,   0.,   0.,   0.,   0.,   0.,   0.,\n",
              "          0.,   0.,   0., 194.,   0.,   0.,   0.,   0.,   0.,   0.,   0.,\n",
              "          0.,   0.,   0.,   0.,   0.,   0., 140.,   0.,   0.,   0.,   0.,\n",
              "          0.,   0.,   0.,   0.,   0.,   0.,   0.,   0.,   0.,  98.,   0.,\n",
              "          0.,   0.,   0.,   0.,   0.,   0.,   0.,   0.,   0.,   0.,   0.,\n",
              "          0.,  47.,   0.,   0.,   0.,   0.,   0.,   0.,   0.,   0.,   0.,\n",
              "          0.,   0.,   0.,   0.,  34.,   0.,   0.,   0.,   0.,   0.,   0.,\n",
              "          0.,   0.,   0.,   0.,   0.,   0.,   0.,  16.,   0.,   0.,   0.,\n",
              "          0.,   0.,   0.,   0.,   0.,   0.,   0.,   0.,   0.,   0.,   6.,\n",
              "          0.,   0.,   0.,   0.,   0.,   0.,   0.,   0.,   0.,   0.,   0.,\n",
              "          0.,   0.,   1.,   0.,   0.,   0.,   0.,   0.,   0.,   0.,   0.,\n",
              "          0.,   0.,   0.,   0.,   2.]),\n",
              " array([0.43   , 0.43072, 0.43144, 0.43216, 0.43288, 0.4336 , 0.43432,\n",
              "        0.43504, 0.43576, 0.43648, 0.4372 , 0.43792, 0.43864, 0.43936,\n",
              "        0.44008, 0.4408 , 0.44152, 0.44224, 0.44296, 0.44368, 0.4444 ,\n",
              "        0.44512, 0.44584, 0.44656, 0.44728, 0.448  , 0.44872, 0.44944,\n",
              "        0.45016, 0.45088, 0.4516 , 0.45232, 0.45304, 0.45376, 0.45448,\n",
              "        0.4552 , 0.45592, 0.45664, 0.45736, 0.45808, 0.4588 , 0.45952,\n",
              "        0.46024, 0.46096, 0.46168, 0.4624 , 0.46312, 0.46384, 0.46456,\n",
              "        0.46528, 0.466  , 0.46672, 0.46744, 0.46816, 0.46888, 0.4696 ,\n",
              "        0.47032, 0.47104, 0.47176, 0.47248, 0.4732 , 0.47392, 0.47464,\n",
              "        0.47536, 0.47608, 0.4768 , 0.47752, 0.47824, 0.47896, 0.47968,\n",
              "        0.4804 , 0.48112, 0.48184, 0.48256, 0.48328, 0.484  , 0.48472,\n",
              "        0.48544, 0.48616, 0.48688, 0.4876 , 0.48832, 0.48904, 0.48976,\n",
              "        0.49048, 0.4912 , 0.49192, 0.49264, 0.49336, 0.49408, 0.4948 ,\n",
              "        0.49552, 0.49624, 0.49696, 0.49768, 0.4984 , 0.49912, 0.49984,\n",
              "        0.50056, 0.50128, 0.502  , 0.50272, 0.50344, 0.50416, 0.50488,\n",
              "        0.5056 , 0.50632, 0.50704, 0.50776, 0.50848, 0.5092 , 0.50992,\n",
              "        0.51064, 0.51136, 0.51208, 0.5128 , 0.51352, 0.51424, 0.51496,\n",
              "        0.51568, 0.5164 , 0.51712, 0.51784, 0.51856, 0.51928, 0.52   ,\n",
              "        0.52072, 0.52144, 0.52216, 0.52288, 0.5236 , 0.52432, 0.52504,\n",
              "        0.52576, 0.52648, 0.5272 , 0.52792, 0.52864, 0.52936, 0.53008,\n",
              "        0.5308 , 0.53152, 0.53224, 0.53296, 0.53368, 0.5344 , 0.53512,\n",
              "        0.53584, 0.53656, 0.53728, 0.538  , 0.53872, 0.53944, 0.54016,\n",
              "        0.54088, 0.5416 , 0.54232, 0.54304, 0.54376, 0.54448, 0.5452 ,\n",
              "        0.54592, 0.54664, 0.54736, 0.54808, 0.5488 , 0.54952, 0.55024,\n",
              "        0.55096, 0.55168, 0.5524 , 0.55312, 0.55384, 0.55456, 0.55528,\n",
              "        0.556  , 0.55672, 0.55744, 0.55816, 0.55888, 0.5596 , 0.56032,\n",
              "        0.56104, 0.56176, 0.56248, 0.5632 , 0.56392, 0.56464, 0.56536,\n",
              "        0.56608, 0.5668 , 0.56752, 0.56824, 0.56896, 0.56968, 0.5704 ,\n",
              "        0.57112, 0.57184, 0.57256, 0.57328, 0.574  , 0.57472, 0.57544,\n",
              "        0.57616, 0.57688, 0.5776 , 0.57832, 0.57904, 0.57976, 0.58048,\n",
              "        0.5812 , 0.58192, 0.58264, 0.58336, 0.58408, 0.5848 , 0.58552,\n",
              "        0.58624, 0.58696, 0.58768, 0.5884 , 0.58912, 0.58984, 0.59056,\n",
              "        0.59128, 0.592  , 0.59272, 0.59344, 0.59416, 0.59488, 0.5956 ,\n",
              "        0.59632, 0.59704, 0.59776, 0.59848, 0.5992 , 0.59992, 0.60064,\n",
              "        0.60136, 0.60208, 0.6028 , 0.60352, 0.60424, 0.60496, 0.60568,\n",
              "        0.6064 , 0.60712, 0.60784, 0.60856, 0.60928, 0.61   , 0.61072,\n",
              "        0.61144, 0.61216, 0.61288, 0.6136 , 0.61432, 0.61504, 0.61576,\n",
              "        0.61648, 0.6172 , 0.61792, 0.61864, 0.61936, 0.62008, 0.6208 ,\n",
              "        0.62152, 0.62224, 0.62296, 0.62368, 0.6244 , 0.62512, 0.62584,\n",
              "        0.62656, 0.62728, 0.628  , 0.62872, 0.62944, 0.63016, 0.63088,\n",
              "        0.6316 , 0.63232, 0.63304, 0.63376, 0.63448, 0.6352 , 0.63592,\n",
              "        0.63664, 0.63736, 0.63808, 0.6388 , 0.63952, 0.64024, 0.64096,\n",
              "        0.64168, 0.6424 , 0.64312, 0.64384, 0.64456, 0.64528, 0.646  ,\n",
              "        0.64672, 0.64744, 0.64816, 0.64888, 0.6496 , 0.65032, 0.65104,\n",
              "        0.65176, 0.65248, 0.6532 , 0.65392, 0.65464, 0.65536, 0.65608,\n",
              "        0.6568 , 0.65752, 0.65824, 0.65896, 0.65968, 0.6604 , 0.66112,\n",
              "        0.66184, 0.66256, 0.66328, 0.664  , 0.66472, 0.66544, 0.66616,\n",
              "        0.66688, 0.6676 , 0.66832, 0.66904, 0.66976, 0.67048, 0.6712 ,\n",
              "        0.67192, 0.67264, 0.67336, 0.67408, 0.6748 , 0.67552, 0.67624,\n",
              "        0.67696, 0.67768, 0.6784 , 0.67912, 0.67984, 0.68056, 0.68128,\n",
              "        0.682  , 0.68272, 0.68344, 0.68416, 0.68488, 0.6856 , 0.68632,\n",
              "        0.68704, 0.68776, 0.68848, 0.6892 , 0.68992, 0.69064, 0.69136,\n",
              "        0.69208, 0.6928 , 0.69352, 0.69424, 0.69496, 0.69568, 0.6964 ,\n",
              "        0.69712, 0.69784, 0.69856, 0.69928, 0.7    , 0.70072, 0.70144,\n",
              "        0.70216, 0.70288, 0.7036 , 0.70432, 0.70504, 0.70576, 0.70648,\n",
              "        0.7072 , 0.70792, 0.70864, 0.70936, 0.71008, 0.7108 , 0.71152,\n",
              "        0.71224, 0.71296, 0.71368, 0.7144 , 0.71512, 0.71584, 0.71656,\n",
              "        0.71728, 0.718  , 0.71872, 0.71944, 0.72016, 0.72088, 0.7216 ,\n",
              "        0.72232, 0.72304, 0.72376, 0.72448, 0.7252 , 0.72592, 0.72664,\n",
              "        0.72736, 0.72808, 0.7288 , 0.72952, 0.73024, 0.73096, 0.73168,\n",
              "        0.7324 , 0.73312, 0.73384, 0.73456, 0.73528, 0.736  , 0.73672,\n",
              "        0.73744, 0.73816, 0.73888, 0.7396 , 0.74032, 0.74104, 0.74176,\n",
              "        0.74248, 0.7432 , 0.74392, 0.74464, 0.74536, 0.74608, 0.7468 ,\n",
              "        0.74752, 0.74824, 0.74896, 0.74968, 0.7504 , 0.75112, 0.75184,\n",
              "        0.75256, 0.75328, 0.754  , 0.75472, 0.75544, 0.75616, 0.75688,\n",
              "        0.7576 , 0.75832, 0.75904, 0.75976, 0.76048, 0.7612 , 0.76192,\n",
              "        0.76264, 0.76336, 0.76408, 0.7648 , 0.76552, 0.76624, 0.76696,\n",
              "        0.76768, 0.7684 , 0.76912, 0.76984, 0.77056, 0.77128, 0.772  ,\n",
              "        0.77272, 0.77344, 0.77416, 0.77488, 0.7756 , 0.77632, 0.77704,\n",
              "        0.77776, 0.77848, 0.7792 , 0.77992, 0.78064, 0.78136, 0.78208,\n",
              "        0.7828 , 0.78352, 0.78424, 0.78496, 0.78568, 0.7864 , 0.78712,\n",
              "        0.78784, 0.78856, 0.78928, 0.79   ]),\n",
              " <BarContainer object of 500 artists>)"
            ]
          },
          "metadata": {},
          "execution_count": 69
        },
        {
          "output_type": "display_data",
          "data": {
            "text/plain": [
              "<Figure size 640x480 with 1 Axes>"
            ],
            "image/png": "[encoded data removed]"
          },
          "metadata": {}
        }
      ]
    },
    {
      "cell_type": "markdown",
      "source": [
        "Como era de esperarse, tambien se presenta una distribucion normal, con media siendo la aproximacion obtenida."
      ],
      "metadata": {
        "id": "_j17II170vJR"
      }
    },
    {
      "cell_type": "markdown",
      "source": [
        "Calculando distribucion acumulativa, se espera que tambien se asemeje a la de la distribucion normal."
      ],
      "metadata": {
        "id": "5j2Qas2A03XT"
      }
    },
    {
      "cell_type": "code",
      "source": [
        "y2,g2 = cdf(I2) #Usando el truco visto en clase\n",
        "plt.step(y2,g2)"
      ],
      "metadata": {
        "colab": {
          "base_uri": "https://localhost:8080/",
          "height": 448
        },
        "id": "-k4sJe3c1F22",
        "outputId": "0fdf1994-d347-4403-93ec-81ec2955cb97"
      },
      "execution_count": 70,
      "outputs": [
        {
          "output_type": "execute_result",
          "data": {
            "text/plain": [
              "[<matplotlib.lines.Line2D at 0x7d7da929f8e0>]"
            ]
          },
          "metadata": {},
          "execution_count": 70
        },
        {
          "output_type": "display_data",
          "data": {
            "text/plain": [
              "<Figure size 640x480 with 1 Axes>"
            ],
            "image/png": "[encoded data removed]"
          },
          "metadata": {}
        }
      ]
    },
    {
      "cell_type": "markdown",
      "source": [
        "Evidentemente como hay factores que se rechazan, en ambas graficas pueden verse factores faltantes, causando que no se genere una curva suave y dejando \"huecos\", pero las distribuciones se siguen viendo."
      ],
      "metadata": {
        "id": "wddhXDfZ1XrW"
      }
    },
    {
      "cell_type": "markdown",
      "source": [
        "Finalmente generando el intervalo de confianza con un $\\alpha = 5\\%$:\n",
        "\n",
        "$(\\theta_2 - 1.96\\sigma,\\theta_2 + 1.96\\sigma)$"
      ],
      "metadata": {
        "id": "0idPoh_d1df1"
      }
    },
    {
      "cell_type": "code",
      "source": [
        "print(\"(\",media2 - 1.96*desvest,\";\",media2 + 1.96*desvest,\")\")"
      ],
      "metadata": {
        "colab": {
          "base_uri": "https://localhost:8080/"
        },
        "id": "1inbuEYr1kh1",
        "outputId": "602f3248-16d6-4638-93aa-19bfd538a3e8"
      },
      "execution_count": 71,
      "outputs": [
        {
          "output_type": "stream",
          "name": "stdout",
          "text": [
            "( 0.5893827417937191 ; 0.6696132582062809 )\n"
          ]
        }
      ]
    },
    {
      "cell_type": "markdown",
      "source": [
        "Los intervalos de confianza son demasiado similares, pero el obtenido por medias muestrales es un poco mas cerrado."
      ],
      "metadata": {
        "id": "dlUPJ2AJ1uQn"
      }
    }
  ]
}