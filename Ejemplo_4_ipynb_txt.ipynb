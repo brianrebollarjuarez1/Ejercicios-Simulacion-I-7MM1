{
  "cells": [
    {
      "cell_type": "markdown",
      "metadata": {
        "colab_type": "text",
        "id": "view-in-github"
      },
      "source": [
        "<a href=\"https://colab.research.google.com/github/brianrebollarjuarez1/Ejercicios-Simulacion-I-7MM1/blob/main/Ejemplo_4_ipynb_txt.ipynb\" target=\"_parent\"><img src=\"https://colab.research.google.com/assets/colab-badge.svg\" alt=\"Open In Colab\"/></a>"
      ]
    },
    {
      "cell_type": "markdown",
      "id": "c21e5530",
      "metadata": {
        "id": "c21e5530"
      },
      "source": [
        "# Ejemplo: Flecha y cojinete"
      ]
    },
    {
      "cell_type": "markdown",
      "id": "61f9bd36",
      "metadata": {
        "id": "61f9bd36"
      },
      "source": [
        "Una flecha será embonada en un cojinete como se muestra a continuación\n",
        "\n",
        "<img src=\"cojinete.png\">"
      ]
    },
    {
      "cell_type": "markdown",
      "id": "5f658ca1",
      "metadata": {
        "id": "5f658ca1"
      },
      "source": [
        "Si $x_1$ sigue una distribución normal con media $1.5$ y varianza $0.0016$, y $x_2$ esta misma distribución con media $1.48$ y varianza $0.0009$, determine:\n",
        "\n",
        "a) La probabilidad de que haya interferencia.\n",
        "\n",
        "b) El número de veces que es necesario simular el experimento, si se quiere que la probabilidad de interferencia estimada difiera de su valor verdadero en menos de $0.01$, con un nivel de seguridad del $95\\%.$"
      ]
    },
    {
      "cell_type": "markdown",
      "id": "fac00420",
      "metadata": {
        "id": "fac00420"
      },
      "source": [
        "Vamos a resolver este problema, procurando seguir la metodología vista en el curso."
      ]
    },
    {
      "cell_type": "markdown",
      "id": "ccd32164",
      "metadata": {
        "id": "ccd32164"
      },
      "source": [
        "### 1. Identifique las variables\n",
        "\n",
        "Tenemos dos: $x_1$ y $x_2$."
      ]
    },
    {
      "cell_type": "markdown",
      "id": "ae8735e5",
      "metadata": {
        "id": "ae8735e5"
      },
      "source": [
        "### 2 y 3. Determine la distribución de probabilidad y modele las variables aleatorias\n",
        "\n",
        "En el planteamiento ya se especifica que $x_1 \\sim N(1.5, 0.04)$ y que $x_1 \\sim N(1.48, 0.03)$."
      ]
    },
    {
      "cell_type": "markdown",
      "id": "b1b57a13",
      "metadata": {
        "id": "b1b57a13"
      },
      "source": [
        "### 4. Defina el modelo del sistema y los objetivos de la simulación\n",
        "\n",
        "La diferencia $x_1 - x_2$ modela adecuadamente el sistema.\n",
        "\n",
        "Si $x_2 - x_1 > 0$ el diametro de la flecha es más grande que el espacio en el cojinte y, por tanto, hay interferencia. De lo contrario, las piezas embonan sin problema.\n",
        "\n",
        "Objetivo: determinar la frecuencia con que esto ocurre, lo cual nos da una esrimación de la probabilidad de interefrencia.\n",
        "\n",
        "Una forma de implementarlo es mediante el siguiente código."
      ]
    },
    {
      "cell_type": "code",
      "execution_count": 1,
      "id": "191b1e9b",
      "metadata": {
        "id": "191b1e9b"
      },
      "outputs": [],
      "source": [
        "import numpy as np\n",
        "import random\n",
        "import matplotlib.pyplot as plt\n",
        "from scipy.stats import norm"
      ]
    },
    {
      "cell_type": "code",
      "execution_count": 2,
      "id": "e64c27d2",
      "metadata": {
        "id": "e64c27d2"
      },
      "outputs": [],
      "source": [
        "def interferencia():                #Esta función devuelve el valor 1 si hay interferencia o 0 si no la hay.\n",
        "    interf=0\n",
        "    x_1 = random.gauss(1.50,0.04)    #La funcion gauss genera un número que sigue una distribucion normal con\n",
        "    x_2 = random.gauss(1.48,0.03)   # la media y la desvicion estandar especificados.\n",
        "    if 0.0 < x_2 - x_1:\n",
        "        interf += 1\n",
        "    return interf"
      ]
    },
    {
      "cell_type": "code",
      "execution_count": 6,
      "id": "ebe51777",
      "metadata": {
        "colab": {
          "base_uri": "https://localhost:8080/"
        },
        "id": "ebe51777",
        "outputId": "3c30426e-2d24-4cf0-fd18-42ac1a473f97"
      },
      "outputs": [
        {
          "data": {
            "text/plain": [
              "1"
            ]
          },
          "execution_count": 6,
          "metadata": {},
          "output_type": "execute_result"
        }
      ],
      "source": [
        "interferencia()"
      ]
    },
    {
      "cell_type": "markdown",
      "id": "d6186dac",
      "metadata": {
        "id": "d6186dac"
      },
      "source": [
        "### 5. Diseñe el experimento\n",
        "\n",
        "Para estimar la probabilidad de interferencia, ejecutamos $n$ veces la función anterior y calculamos de manera acumulativa\n",
        "la probabilidad de interferencia."
      ]
    },
    {
      "cell_type": "code",
      "execution_count": 7,
      "id": "f9a766a5",
      "metadata": {
        "id": "f9a766a5"
      },
      "outputs": [],
      "source": [
        "def prob_inter(n):\n",
        "    prob = []                       # Esta funcion devuelve esta lista \"prob\", con los valores de la probabilidad\n",
        "    inter = 0                       # estimada al contar las veces que hay interferencia y dividir entre las veces que\n",
        "    for i in range(n):              # se ha reptido la observacion mientras aumenta el numero de iteraciones.\n",
        "        inter += interferencia()\n",
        "        prob.append(inter/(i+1))\n",
        "    return prob"
      ]
    },
    {
      "cell_type": "code",
      "execution_count": 8,
      "id": "8099a245",
      "metadata": {
        "id": "8099a245"
      },
      "outputs": [],
      "source": [
        "X = prob_inter(100000)                # Asignamos valores a n y realizamos el experimento"
      ]
    },
    {
      "cell_type": "code",
      "execution_count": 9,
      "id": "c5a5a3c2",
      "metadata": {
        "colab": {
          "base_uri": "https://localhost:8080/",
          "height": 448
        },
        "id": "c5a5a3c2",
        "outputId": "8d05d976-0b48-4ba5-85b8-18d34bd9b6c8"
      },
      "outputs": [
        {
          "data": {
            "text/plain": [
              "[<matplotlib.lines.Line2D at 0x796de1e27460>]"
            ]
          },
          "execution_count": 9,
          "metadata": {},
          "output_type": "execute_result"
        },
        {
          "data": {
            "image/png": "[encoded data removed]",
            "text/plain": [
              "<Figure size 640x480 with 1 Axes>"
            ]
          },
          "metadata": {},
          "output_type": "display_data"
        }
      ],
      "source": [
        "plt.plot(X)                         # La gráfica muestra que la convergencia está garantizada con 500 iteraciones\n",
        "                                    # Sin embargo, diferentes ejecuciones darán resultados distintos"
      ]
    },
    {
      "cell_type": "code",
      "execution_count": 10,
      "id": "4ac4c689",
      "metadata": {
        "colab": {
          "base_uri": "https://localhost:8080/"
        },
        "id": "4ac4c689",
        "outputId": "8d8bd0db-1c8f-46e3-f1a9-db9d5e6748d9"
      },
      "outputs": [
        {
          "name": "stdout",
          "output_type": "stream",
          "text": [
            "0.3474541551337103 0.00662294759167695\n"
          ]
        }
      ],
      "source": [
        "print(np.mean(X), np.std(X))"
      ]
    },
    {
      "cell_type": "markdown",
      "id": "34727279",
      "metadata": {
        "id": "34727279"
      },
      "source": [
        "### 6. Repita el experimento $n$ veces\n",
        "\n",
        "Una forma de hacerlo es mediante el siguiente codigo."
      ]
    },
    {
      "cell_type": "code",
      "execution_count": 11,
      "id": "908f1884",
      "metadata": {
        "id": "908f1884"
      },
      "outputs": [],
      "source": [
        "def modelo(n):\n",
        "    lista=[]\n",
        "    for i in range(n):\n",
        "        s = prob_inter(500)\n",
        "        lista.append(np.mean(s))\n",
        "    return lista"
      ]
    },
    {
      "cell_type": "code",
      "execution_count": 14,
      "id": "34868564",
      "metadata": {
        "id": "34868564"
      },
      "outputs": [],
      "source": [
        "Y=modelo(1000)"
      ]
    },
    {
      "cell_type": "code",
      "execution_count": 17,
      "id": "8a95845e",
      "metadata": {
        "colab": {
          "base_uri": "https://localhost:8080/",
          "height": 430
        },
        "id": "8a95845e",
        "outputId": "8d0f1b5d-3fab-42aa-b07d-2212e2c27b20"
      },
      "outputs": [
        {
          "data": {
            "image/png": "[encoded data removed]",
            "text/plain": [
              "<Figure size 640x480 with 1 Axes>"
            ]
          },
          "metadata": {},
          "output_type": "display_data"
        }
      ],
      "source": [
        "plt.hist(Y,bins=50)\n",
        "plt.show()"
      ]
    },
    {
      "cell_type": "code",
      "execution_count": 18,
      "id": "e892a16c",
      "metadata": {
        "colab": {
          "base_uri": "https://localhost:8080/"
        },
        "id": "e892a16c",
        "outputId": "eb40f568-7143-408b-ccc6-a267cb4c0699"
      },
      "outputs": [
        {
          "name": "stdout",
          "output_type": "stream",
          "text": [
            "0.34625308957386813 0.03018547728239117\n"
          ]
        }
      ],
      "source": [
        "print(np.mean(Y), np.std(Y))"
      ]
    },
    {
      "cell_type": "markdown",
      "id": "e5dc2362",
      "metadata": {
        "id": "e5dc2362"
      },
      "source": [
        "### Paso 7. Hallamos el intervalo de confianza.\n",
        "\n",
        "$$\\bar{x}-z_{\\alpha/2} \\cdot \\frac{s}{\\sqrt{n}} < \\mu < \\bar{x}+z_{\\alpha/2}\\cdot \\frac{s}{\\sqrt{n}}$$"
      ]
    },
    {
      "cell_type": "markdown",
      "id": "1abcdd68",
      "metadata": {},
      "source": [
        "JUSTIFICACION"
      ]
    },
    {
      "cell_type": "markdown",
      "id": "LvDo9yVl-zkD",
      "metadata": {
        "id": "LvDo9yVl-zkD"
      },
      "source": [
        "Se puede obtener asi el intervalo de confianza debido a lo siguiente:\n",
        "\n",
        "Sabemos que si $X \\thicksim N(\\mu , \\sigma)$, haciendo $Z = \\frac{X- \\mu}{\\sigma}$, entonces $Z \\thicksim N(0,1)$, si se tiene una muestra en donde no se tiene claro la informacion de toda la poblacion y se busca estimar media y desviacion poblacional con la muestra, entonces:\n",
        "\n",
        "$\\bar{X} \\thicksim N(\\bar{x},\\frac{s}{\\sqrt{n}})$, la $z$ que se obtenga de estandarizar $\\bar{X}$, tendra un nivel de significancia o \"error\" $\\alpha$, entonces al estandarizar, tenemos:\n",
        "\n",
        "$z_{\\frac{\\alpha}{2}} = \\frac{\\bar{X}-\\bar{x}}{\\frac{s}{\\sqrt{n}}}$, despejando:\n",
        "\n",
        "$\\bar{X} = \\bar{x} \\pm z_{\\frac{\\alpha}{2}} \\frac{s}{\\sqrt{n}}$, finalmente, para estimar media poblacional:\n",
        "\n",
        "$$\\bar{x}-z_{\\alpha/2} \\cdot \\frac{s}{\\sqrt{n}} < \\mu < \\bar{x}+z_{\\alpha/2}\\cdot \\frac{s}{\\sqrt{n}}$$"
      ]
    },
    {
      "cell_type": "code",
      "execution_count": 19,
      "id": "23d0b48e",
      "metadata": {
        "colab": {
          "base_uri": "https://localhost:8080/"
        },
        "id": "23d0b48e",
        "outputId": "be3230c4-a01f-47ee-9d9c-e12df8df2e41"
      },
      "outputs": [
        {
          "data": {
            "text/plain": [
              "0.34625308957386813"
            ]
          },
          "execution_count": 19,
          "metadata": {},
          "output_type": "execute_result"
        }
      ],
      "source": [
        "np.mean(Y)"
      ]
    },
    {
      "cell_type": "code",
      "execution_count": 20,
      "id": "b29c74e6",
      "metadata": {
        "colab": {
          "base_uri": "https://localhost:8080/"
        },
        "id": "b29c74e6",
        "outputId": "56bca1c1-49bc-4540-c326-f2f9a358371e"
      },
      "outputs": [
        {
          "data": {
            "text/plain": [
              "(0.3378861021474135, 0.3546200770003228)"
            ]
          },
          "execution_count": 20,
          "metadata": {},
          "output_type": "execute_result"
        }
      ],
      "source": [
        "np.mean(Y) - 1.96*np.std(Y)/np.sqrt(50), np.mean(Y) + 1.96*np.std(Y)/np.sqrt(50)"
      ]
    },
    {
      "cell_type": "markdown",
      "id": "4U9IPl2ShjRJ",
      "metadata": {
        "id": "4U9IPl2ShjRJ"
      },
      "source": [
        "Con un $95\\%$ de confianza, el valor de la probabilidad de interferencia al simular se encuentra entre $(0.337886,0.354620)$"
      ]
    },
    {
      "cell_type": "markdown",
      "id": "112c0954",
      "metadata": {
        "id": "112c0954"
      },
      "source": [
        "### Para determinar el número de simulaciones"
      ]
    },
    {
      "cell_type": "markdown",
      "id": "0a1a63e7",
      "metadata": {
        "id": "0a1a63e7"
      },
      "source": [
        "$$ N > \\Bigg( \\frac{2 \\sigma z_{\\alpha/2}}{\\epsilon} \\Bigg) ^2 $$"
      ]
    },
    {
      "cell_type": "code",
      "execution_count": 21,
      "id": "1478d745",
      "metadata": {
        "id": "1478d745"
      },
      "outputs": [],
      "source": [
        "N = (2*np.std(X)*1.96/0.01)**2"
      ]
    },
    {
      "cell_type": "code",
      "execution_count": 22,
      "id": "fa6ae0ce",
      "metadata": {
        "colab": {
          "base_uri": "https://localhost:8080/"
        },
        "id": "fa6ae0ce",
        "outputId": "0abd9495-47f4-4c1c-8770-4bb7a536ff8e"
      },
      "outputs": [
        {
          "name": "stdout",
          "output_type": "stream",
          "text": [
            "6.740230845429818\n"
          ]
        }
      ],
      "source": [
        "print(N)"
      ]
    },
    {
      "cell_type": "markdown",
      "id": "a6d1c695",
      "metadata": {
        "id": "a6d1c695"
      },
      "source": [
        "### Podemos comparar con la solución analítica del problema.\n",
        "\n",
        "Para ello usamos la teoría sobre la suma de variables con distribución normal, o en este caso especifico, la resta, utilizando el siguiente teorema."
      ]
    },
    {
      "cell_type": "markdown",
      "id": "H-H_92tEMcVv",
      "metadata": {
        "id": "H-H_92tEMcVv"
      },
      "source": [
        "Teorema: \n",
        "\n",
        "Si $X_1 \\thicksim N(\\mu_1,\\sigma_1)$ y $X_2 \\thicksim N(\\mu_2,\\sigma_2)$, entonces:\n",
        "\n",
        "$X_2 - X_1 \\thicksim N(\\mu_2 - \\mu_1,\\sqrt{\\sigma_1^2 + \\sigma_2^2})$"
      ]
    },
    {
      "cell_type": "markdown",
      "id": "xboh_tf2PJyq",
      "metadata": {
        "id": "xboh_tf2PJyq"
      },
      "source": [
        "Para este ejemplo:\n",
        "\n",
        "$X_2 - X_1 \\thicksim N(-0.02,0.05)$\n",
        "\n",
        "Estamos buscando:\n",
        "\n",
        "$P(X_2 - X_1) > 0$"
      ]
    },
    {
      "cell_type": "markdown",
      "id": "XHB23Fp9S5Vs",
      "metadata": {
        "id": "XHB23Fp9S5Vs"
      },
      "source": [
        "Estandarizamos la normal obtenida, para escribir la variable en terminos de Z:\n",
        "\n",
        "$\\frac{(X_2 - X_1) + 0.02}{0.05} > \\frac{0.02}{0.05}$\n",
        "\n",
        "Escribiendo:\n",
        "\n",
        "$Z = \\frac{(X_2 - X_1) + 0.02}{0.05}$\n",
        "\n",
        "Entonces, buscamos:\n",
        "\n",
        "$P(Z > 0.24)$\n",
        "\n",
        "Utilizando las propiedades de la probabilidad, obtenemos\n",
        "\n",
        "$= 1 - P(Z \\leq 0.24)$\n",
        "\n",
        "$= 1 - 0.6554$\n",
        "\n",
        "$= 0.3446 = 34.46 \\%$  de probabilidad de que haya interferencia\n",
        "\n",
        "Que comprobando arriba, es un resultado bastante similar al obtenido por simulacion."
      ]
    },
    {
      "cell_type": "markdown",
      "id": "ygXzvzBHad4L",
      "metadata": {
        "id": "ygXzvzBHad4L"
      },
      "source": [
        "Comprobamos calculando su acumulativa:"
      ]
    },
    {
      "cell_type": "code",
      "execution_count": 25,
      "id": "7284bee0",
      "metadata": {
        "colab": {
          "base_uri": "https://localhost:8080/"
        },
        "id": "7284bee0",
        "outputId": "7aa3a70c-e559-4b17-afe5-b834967d1578"
      },
      "outputs": [
        {
          "data": {
            "text/plain": [
              "0.3445782583896758"
            ]
          },
          "execution_count": 25,
          "metadata": {},
          "output_type": "execute_result"
        }
      ],
      "source": [
        "norm.cdf(-0.04, -0.02, 0.05)"
      ]
    },
    {
      "cell_type": "code",
      "execution_count": 26,
      "id": "a1a842a2",
      "metadata": {
        "colab": {
          "base_uri": "https://localhost:8080/"
        },
        "id": "a1a842a2",
        "outputId": "6c72ed42-2ec7-4f6a-dbd4-2a2e3079596a"
      },
      "outputs": [
        {
          "data": {
            "text/plain": [
              "-0.0016748311841923158"
            ]
          },
          "execution_count": 26,
          "metadata": {},
          "output_type": "execute_result"
        }
      ],
      "source": [
        "norm.cdf(-0.04, -0.02, 0.05)-np.mean(Y)"
      ]
    },
    {
      "cell_type": "markdown",
      "id": "09WBNnoshTIa",
      "metadata": {
        "id": "09WBNnoshTIa"
      },
      "source": [
        "Obteniendo un resultado similar practicamente igual a la solucion analitica, lo que confirma nuestra solucion y nos dice que la estimacion por simulacion es buena."
      ]
    }
  ],
  "metadata": {
    "colab": {
      "include_colab_link": true,
      "provenance": []
    },
    "kernelspec": {
      "display_name": "Python 3 (ipykernel)",
      "language": "python",
      "name": "python3"
    },
    "language_info": {
      "codemirror_mode": {
        "name": "ipython",
        "version": 3
      },
      "file_extension": ".py",
      "mimetype": "text/x-python",
      "name": "python",
      "nbconvert_exporter": "python",
      "pygments_lexer": "ipython3",
      "version": "3.7.3"
    }
  },
  "nbformat": 4,
  "nbformat_minor": 5
}
