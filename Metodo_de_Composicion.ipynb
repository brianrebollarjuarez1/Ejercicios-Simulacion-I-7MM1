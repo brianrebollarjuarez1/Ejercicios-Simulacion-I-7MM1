{
  "cells": [
    {
      "cell_type": "markdown",
      "metadata": {
        "colab_type": "text",
        "id": "view-in-github"
      },
      "source": [
        "<a href=\"https://colab.research.google.com/github/brianrebollarjuarez1/Ejercicios-Simulacion-I-7MM1/blob/main/Metodo_de_Composicion.ipynb\" target=\"_parent\"><img src=\"https://colab.research.google.com/assets/colab-badge.svg\" alt=\"Open In Colab\"/></a>"
      ]
    },
    {
      "cell_type": "markdown",
      "metadata": {
        "id": "KLzXXrQZlVHZ"
      },
      "source": [
        "# Metodo de Composicion"
      ]
    },
    {
      "cell_type": "markdown",
      "metadata": {},
      "source": [
        "Es un metodo consistente en dividir una funcion de distribucion de probabilidad en diferentes sub areas, donde cada una tiene una distribucion de probabilidad diferente, generando ambas por separado."
      ]
    },
    {
      "cell_type": "markdown",
      "metadata": {
        "id": "vjp2vWBFlgyQ"
      },
      "source": [
        "Para este metodo utilizaremos la funcion:\n",
        "\n",
        "$f(x) = |x|$"
      ]
    },
    {
      "cell_type": "markdown",
      "metadata": {},
      "source": [
        "Escribiendola por partes para ver mejor las distribuciones separadas:"
      ]
    },
    {
      "cell_type": "markdown",
      "metadata": {},
      "source": []
    },
    {
      "cell_type": "markdown",
      "metadata": {},
      "source": [
        "Para comprobar "
      ]
    },
    {
      "cell_type": "markdown",
      "metadata": {
        "id": "Txp4P4UImStq"
      },
      "source": [
        "Se puede comprobar que es una fdp: \\\\\n",
        "\n",
        "- $f(x) \\geq 0$ ya que por definicion $|x|\\geq 0$ $\\forall$ $x \\in [-1,1]$\n",
        "-$\\int _{-1} ^1 |x| dx = -\\int _{-1}^0 xdx +  \\int _{0}^1 xdx = \\frac{1}{2} + \\frac{1}{2} = 1$"
      ]
    },
    {
      "cell_type": "markdown",
      "metadata": {
        "id": "9p3N0_Jcn41R"
      },
      "source": [
        "Importamos librerias a utilizar."
      ]
    },
    {
      "cell_type": "code",
      "execution_count": 11,
      "metadata": {
        "id": "SizHfTeANxKt"
      },
      "outputs": [],
      "source": [
        "import random as rnd\n",
        "import numpy as np\n",
        "import matplotlib.pyplot as plt\n",
        "import math"
      ]
    },
    {
      "cell_type": "markdown",
      "metadata": {
        "id": "HkUlkQJMpG6g"
      },
      "source": [
        "## Grafica de fdp"
      ]
    },
    {
      "cell_type": "code",
      "execution_count": 12,
      "metadata": {
        "id": "QKOGrk71pLui"
      },
      "outputs": [],
      "source": [
        "def f(x):\n",
        "    return abs(x)"
      ]
    },
    {
      "cell_type": "markdown",
      "metadata": {
        "id": "_Le3l3FXpTRX"
      },
      "source": [
        "Usamos linspace para generar mil puntos en el intervalo."
      ]
    },
    {
      "cell_type": "code",
      "execution_count": 13,
      "metadata": {
        "id": "3BeoDbMVpPRF"
      },
      "outputs": [],
      "source": [
        "x = np.linspace(-1,1,1000)"
      ]
    },
    {
      "cell_type": "markdown",
      "metadata": {
        "id": "uMIblKzDpX0m"
      },
      "source": [
        "Graficamos."
      ]
    },
    {
      "cell_type": "code",
      "execution_count": 14,
      "metadata": {
        "colab": {
          "base_uri": "https://localhost:8080/",
          "height": 448
        },
        "id": "rEXbNhN2pY4Q",
        "outputId": "122e8beb-3bc6-4f8b-f142-6892389b3240"
      },
      "outputs": [
        {
          "data": {
            "text/plain": [
              "[<matplotlib.lines.Line2D at 0x7ae83b169fc0>]"
            ]
          },
          "execution_count": 14,
          "metadata": {},
          "output_type": "execute_result"
        },
        {
          "data": {
            "image/png": "[encoded data removed]",
            "text/plain": [
              "<Figure size 640x480 with 1 Axes>"
            ]
          },
          "metadata": {},
          "output_type": "display_data"
        }
      ],
      "source": [
        "plt.plot(x,f(x))"
      ]
    },
    {
      "cell_type": "markdown",
      "metadata": {
        "id": "uOw1-oj1pduc"
      },
      "source": [
        "## Composicion e Histograma"
      ]
    },
    {
      "cell_type": "markdown",
      "metadata": {
        "id": "WSLMF_GBprT4"
      },
      "source": [
        "Pseudocodigo: \\\\\n",
        "\n",
        "- Generar $u_1,u_2 \\thicksim U(0,1) $\n",
        "- Si $u_1 \\leq \\frac{1}{2}$: Hacer $x = -\\sqrt{1- u_2}$  \n",
        "- En otro caso: Hacer $x = \\sqrt{u_2}$\n",
        "- Salir $x$"
      ]
    },
    {
      "cell_type": "code",
      "execution_count": 15,
      "metadata": {
        "id": "V7pzgmWNONVC"
      },
      "outputs": [],
      "source": [
        "def dist(n):\n",
        "   x = []\n",
        "   a1 = 1/2\n",
        "   for i in range(n):\n",
        "       u1 = rnd.uniform(0,1)\n",
        "       u2 = rnd.uniform(0,1)\n",
        "       if 0 <= u1 <= a1:\n",
        "          x.append(-np.sqrt(1 - u2))\n",
        "       if a1 < u1 <= 1:\n",
        "          x.append(np.sqrt(u2))\n",
        "   return x"
      ]
    },
    {
      "cell_type": "code",
      "execution_count": 16,
      "metadata": {
        "id": "erRx3O64Ti0M"
      },
      "outputs": [],
      "source": [
        "def cdf(x):\n",
        "    n = len(x)\n",
        "    y = np.sort(x)\n",
        "    g = np.arange(n)/n\n",
        "    return y,g"
      ]
    },
    {
      "cell_type": "markdown",
      "metadata": {
        "id": "YCiIAIB8rHbF"
      },
      "source": [
        "Generamos la muestra de 100000 variables."
      ]
    },
    {
      "cell_type": "code",
      "execution_count": 17,
      "metadata": {
        "id": "Hxl17ByzN6Hb"
      },
      "outputs": [],
      "source": [
        "n = 100000"
      ]
    },
    {
      "cell_type": "code",
      "execution_count": 18,
      "metadata": {
        "id": "x2AMlXZIPmWL"
      },
      "outputs": [],
      "source": [
        "x = dist(n)"
      ]
    },
    {
      "cell_type": "markdown",
      "metadata": {
        "id": "wMo4cTSqrRUY"
      },
      "source": [
        "Generando histograma."
      ]
    },
    {
      "cell_type": "code",
      "execution_count": 19,
      "metadata": {
        "colab": {
          "base_uri": "https://localhost:8080/",
          "height": 1000
        },
        "id": "aeuL_83sRnbu",
        "outputId": "1371ca0d-a5f4-4fce-910f-a57cb5e89c44"
      },
      "outputs": [
        {
          "data": {
            "text/plain": [
              "(array([422., 392., 398., 391., 381., 395., 341., 386., 406., 353., 372.,\n",
              "        402., 425., 376., 410., 407., 346., 384., 366., 362., 339., 344.,\n",
              "        370., 362., 357., 318., 355., 336., 383., 375., 357., 377., 335.,\n",
              "        332., 332., 307., 340., 322., 346., 374., 351., 341., 336., 319.,\n",
              "        320., 308., 318., 315., 324., 273., 320., 306., 273., 339., 330.,\n",
              "        311., 285., 316., 310., 294., 302., 306., 323., 281., 287., 312.,\n",
              "        310., 306., 324., 286., 286., 247., 288., 278., 283., 259., 300.,\n",
              "        326., 306., 262., 276., 279., 266., 237., 276., 253., 275., 238.,\n",
              "        282., 240., 266., 259., 252., 242., 284., 236., 262., 245., 267.,\n",
              "        223., 254., 232., 248., 220., 220., 225., 231., 231., 233., 227.,\n",
              "        220., 210., 228., 234., 243., 218., 202., 206., 224., 195., 204.,\n",
              "        231., 217., 202., 185., 187., 182., 183., 194., 210., 160., 210.,\n",
              "        183., 201., 190., 169., 144., 171., 173., 168., 166., 176., 150.,\n",
              "        176., 168., 158., 180., 158., 147., 179., 162., 151., 181., 159.,\n",
              "        156., 147., 157., 151., 167., 138., 132., 132., 146., 137., 125.,\n",
              "        114., 135., 121., 139., 115., 123., 117., 126., 127., 143., 126.,\n",
              "        110.,  98., 109., 112., 113., 106., 114., 119., 106.,  92.,  94.,\n",
              "        100.,  97., 124.,  97.,  95., 103., 111.,  91.,  85.,  72., 100.,\n",
              "         72.,  78.,  85.,  85.,  80.,  77.,  66.,  67.,  94.,  54.,  70.,\n",
              "         68.,  59.,  51.,  66.,  43.,  50.,  66.,  44.,  55.,  53.,  50.,\n",
              "         50.,  44.,  50.,  39.,  37.,  30.,  38.,  37.,  38.,  28.,  41.,\n",
              "         28.,  25.,  21.,  22.,  24.,  22.,  23.,  21.,  24.,  19.,  10.,\n",
              "         10.,  12.,   8.,   4.,   4.,   2.,   1.,   1.,   0.,   2.,   3.,\n",
              "          6.,   8.,   8.,   9.,  13.,  13.,  16.,  16.,  19.,  13.,  24.,\n",
              "         24.,  32.,  37.,  27.,  23.,  30.,  48.,  29.,  29.,  29.,  56.,\n",
              "         38.,  34.,  43.,  41.,  40.,  38.,  61.,  51.,  51.,  47.,  55.,\n",
              "         59.,  51.,  57.,  64.,  62.,  60.,  70.,  71.,  68.,  76.,  84.,\n",
              "         82.,  92.,  88.,  82.,  92.,  76., 102.,  97.,  79., 103.,  84.,\n",
              "         83., 114.,  93.,  94., 101., 105., 111.,  88., 110., 118.,  95.,\n",
              "        122., 128., 107., 136., 111., 113., 109., 123., 156., 137., 127.,\n",
              "        119., 130., 126., 134., 133., 136., 164., 148., 145., 137., 157.,\n",
              "        146., 164., 134., 160., 143., 140., 137., 163., 161., 157., 159.,\n",
              "        171., 163., 191., 183., 154., 172., 188., 140., 172., 181., 178.,\n",
              "        182., 202., 179., 185., 204., 205., 180., 186., 200., 219., 186.,\n",
              "        228., 224., 194., 191., 211., 188., 200., 209., 206., 208., 224.,\n",
              "        203., 226., 210., 210., 214., 218., 231., 233., 210., 246., 231.,\n",
              "        261., 223., 260., 236., 243., 242., 241., 236., 252., 241., 271.,\n",
              "        235., 242., 286., 248., 232., 227., 263., 252., 263., 283., 285.,\n",
              "        259., 281., 253., 267., 244., 264., 285., 295., 264., 314., 298.,\n",
              "        283., 271., 282., 339., 303., 288., 303., 316., 300., 294., 303.,\n",
              "        296., 298., 294., 295., 295., 300., 311., 301., 310., 326., 333.,\n",
              "        325., 323., 319., 349., 342., 328., 322., 336., 329., 331., 329.,\n",
              "        353., 332., 324., 330., 350., 383., 341., 362., 359., 336., 377.,\n",
              "        369., 355., 354., 350., 376., 365., 386., 388., 336., 394., 360.,\n",
              "        359., 381., 354., 411., 411., 402., 390., 395., 360., 387., 396.,\n",
              "        410., 395., 389., 391., 408.]),\n",
              " array([-9.99972909e-01, -9.95972965e-01, -9.91973021e-01, -9.87973077e-01,\n",
              "        -9.83973133e-01, -9.79973189e-01, -9.75973245e-01, -9.71973301e-01,\n",
              "        -9.67973356e-01, -9.63973412e-01, -9.59973468e-01, -9.55973524e-01,\n",
              "        -9.51973580e-01, -9.47973636e-01, -9.43973692e-01, -9.39973748e-01,\n",
              "        -9.35973803e-01, -9.31973859e-01, -9.27973915e-01, -9.23973971e-01,\n",
              "        -9.19974027e-01, -9.15974083e-01, -9.11974139e-01, -9.07974195e-01,\n",
              "        -9.03974250e-01, -8.99974306e-01, -8.95974362e-01, -8.91974418e-01,\n",
              "        -8.87974474e-01, -8.83974530e-01, -8.79974586e-01, -8.75974642e-01,\n",
              "        -8.71974698e-01, -8.67974753e-01, -8.63974809e-01, -8.59974865e-01,\n",
              "        -8.55974921e-01, -8.51974977e-01, -8.47975033e-01, -8.43975089e-01,\n",
              "        -8.39975145e-01, -8.35975200e-01, -8.31975256e-01, -8.27975312e-01,\n",
              "        -8.23975368e-01, -8.19975424e-01, -8.15975480e-01, -8.11975536e-01,\n",
              "        -8.07975592e-01, -8.03975647e-01, -7.99975703e-01, -7.95975759e-01,\n",
              "        -7.91975815e-01, -7.87975871e-01, -7.83975927e-01, -7.79975983e-01,\n",
              "        -7.75976039e-01, -7.71976094e-01, -7.67976150e-01, -7.63976206e-01,\n",
              "        -7.59976262e-01, -7.55976318e-01, -7.51976374e-01, -7.47976430e-01,\n",
              "        -7.43976486e-01, -7.39976542e-01, -7.35976597e-01, -7.31976653e-01,\n",
              "        -7.27976709e-01, -7.23976765e-01, -7.19976821e-01, -7.15976877e-01,\n",
              "        -7.11976933e-01, -7.07976989e-01, -7.03977044e-01, -6.99977100e-01,\n",
              "        -6.95977156e-01, -6.91977212e-01, -6.87977268e-01, -6.83977324e-01,\n",
              "        -6.79977380e-01, -6.75977436e-01, -6.71977491e-01, -6.67977547e-01,\n",
              "        -6.63977603e-01, -6.59977659e-01, -6.55977715e-01, -6.51977771e-01,\n",
              "        -6.47977827e-01, -6.43977883e-01, -6.39977939e-01, -6.35977994e-01,\n",
              "        -6.31978050e-01, -6.27978106e-01, -6.23978162e-01, -6.19978218e-01,\n",
              "        -6.15978274e-01, -6.11978330e-01, -6.07978386e-01, -6.03978441e-01,\n",
              "        -5.99978497e-01, -5.95978553e-01, -5.91978609e-01, -5.87978665e-01,\n",
              "        -5.83978721e-01, -5.79978777e-01, -5.75978833e-01, -5.71978888e-01,\n",
              "        -5.67978944e-01, -5.63979000e-01, -5.59979056e-01, -5.55979112e-01,\n",
              "        -5.51979168e-01, -5.47979224e-01, -5.43979280e-01, -5.39979335e-01,\n",
              "        -5.35979391e-01, -5.31979447e-01, -5.27979503e-01, -5.23979559e-01,\n",
              "        -5.19979615e-01, -5.15979671e-01, -5.11979727e-01, -5.07979783e-01,\n",
              "        -5.03979838e-01, -4.99979894e-01, -4.95979950e-01, -4.91980006e-01,\n",
              "        -4.87980062e-01, -4.83980118e-01, -4.79980174e-01, -4.75980230e-01,\n",
              "        -4.71980285e-01, -4.67980341e-01, -4.63980397e-01, -4.59980453e-01,\n",
              "        -4.55980509e-01, -4.51980565e-01, -4.47980621e-01, -4.43980677e-01,\n",
              "        -4.39980732e-01, -4.35980788e-01, -4.31980844e-01, -4.27980900e-01,\n",
              "        -4.23980956e-01, -4.19981012e-01, -4.15981068e-01, -4.11981124e-01,\n",
              "        -4.07981180e-01, -4.03981235e-01, -3.99981291e-01, -3.95981347e-01,\n",
              "        -3.91981403e-01, -3.87981459e-01, -3.83981515e-01, -3.79981571e-01,\n",
              "        -3.75981627e-01, -3.71981682e-01, -3.67981738e-01, -3.63981794e-01,\n",
              "        -3.59981850e-01, -3.55981906e-01, -3.51981962e-01, -3.47982018e-01,\n",
              "        -3.43982074e-01, -3.39982129e-01, -3.35982185e-01, -3.31982241e-01,\n",
              "        -3.27982297e-01, -3.23982353e-01, -3.19982409e-01, -3.15982465e-01,\n",
              "        -3.11982521e-01, -3.07982576e-01, -3.03982632e-01, -2.99982688e-01,\n",
              "        -2.95982744e-01, -2.91982800e-01, -2.87982856e-01, -2.83982912e-01,\n",
              "        -2.79982968e-01, -2.75983024e-01, -2.71983079e-01, -2.67983135e-01,\n",
              "        -2.63983191e-01, -2.59983247e-01, -2.55983303e-01, -2.51983359e-01,\n",
              "        -2.47983415e-01, -2.43983471e-01, -2.39983526e-01, -2.35983582e-01,\n",
              "        -2.31983638e-01, -2.27983694e-01, -2.23983750e-01, -2.19983806e-01,\n",
              "        -2.15983862e-01, -2.11983918e-01, -2.07983973e-01, -2.03984029e-01,\n",
              "        -1.99984085e-01, -1.95984141e-01, -1.91984197e-01, -1.87984253e-01,\n",
              "        -1.83984309e-01, -1.79984365e-01, -1.75984421e-01, -1.71984476e-01,\n",
              "        -1.67984532e-01, -1.63984588e-01, -1.59984644e-01, -1.55984700e-01,\n",
              "        -1.51984756e-01, -1.47984812e-01, -1.43984868e-01, -1.39984923e-01,\n",
              "        -1.35984979e-01, -1.31985035e-01, -1.27985091e-01, -1.23985147e-01,\n",
              "        -1.19985203e-01, -1.15985259e-01, -1.11985315e-01, -1.07985370e-01,\n",
              "        -1.03985426e-01, -9.99854822e-02, -9.59855381e-02, -9.19855940e-02,\n",
              "        -8.79856499e-02, -8.39857057e-02, -7.99857616e-02, -7.59858175e-02,\n",
              "        -7.19858734e-02, -6.79859293e-02, -6.39859851e-02, -5.99860410e-02,\n",
              "        -5.59860969e-02, -5.19861528e-02, -4.79862087e-02, -4.39862645e-02,\n",
              "        -3.99863204e-02, -3.59863763e-02, -3.19864322e-02, -2.79864880e-02,\n",
              "        -2.39865439e-02, -1.99865998e-02, -1.59866557e-02, -1.19867116e-02,\n",
              "        -7.98676745e-03, -3.98682332e-03,  1.31207958e-05,  4.01306492e-03,\n",
              "         8.01300904e-03,  1.20129532e-02,  1.60128973e-02,  2.00128414e-02,\n",
              "         2.40127855e-02,  2.80127296e-02,  3.20126738e-02,  3.60126179e-02,\n",
              "         4.00125620e-02,  4.40125061e-02,  4.80124502e-02,  5.20123944e-02,\n",
              "         5.60123385e-02,  6.00122826e-02,  6.40122267e-02,  6.80121708e-02,\n",
              "         7.20121150e-02,  7.60120591e-02,  8.00120032e-02,  8.40119473e-02,\n",
              "         8.80118914e-02,  9.20118356e-02,  9.60117797e-02,  1.00011724e-01,\n",
              "         1.04011668e-01,  1.08011612e-01,  1.12011556e-01,  1.16011500e-01,\n",
              "         1.20011444e-01,  1.24011389e-01,  1.28011333e-01,  1.32011277e-01,\n",
              "         1.36011221e-01,  1.40011165e-01,  1.44011109e-01,  1.48011053e-01,\n",
              "         1.52010997e-01,  1.56010942e-01,  1.60010886e-01,  1.64010830e-01,\n",
              "         1.68010774e-01,  1.72010718e-01,  1.76010662e-01,  1.80010606e-01,\n",
              "         1.84010550e-01,  1.88010494e-01,  1.92010439e-01,  1.96010383e-01,\n",
              "         2.00010327e-01,  2.04010271e-01,  2.08010215e-01,  2.12010159e-01,\n",
              "         2.16010103e-01,  2.20010047e-01,  2.24009992e-01,  2.28009936e-01,\n",
              "         2.32009880e-01,  2.36009824e-01,  2.40009768e-01,  2.44009712e-01,\n",
              "         2.48009656e-01,  2.52009600e-01,  2.56009545e-01,  2.60009489e-01,\n",
              "         2.64009433e-01,  2.68009377e-01,  2.72009321e-01,  2.76009265e-01,\n",
              "         2.80009209e-01,  2.84009153e-01,  2.88009097e-01,  2.92009042e-01,\n",
              "         2.96008986e-01,  3.00008930e-01,  3.04008874e-01,  3.08008818e-01,\n",
              "         3.12008762e-01,  3.16008706e-01,  3.20008650e-01,  3.24008595e-01,\n",
              "         3.28008539e-01,  3.32008483e-01,  3.36008427e-01,  3.40008371e-01,\n",
              "         3.44008315e-01,  3.48008259e-01,  3.52008203e-01,  3.56008148e-01,\n",
              "         3.60008092e-01,  3.64008036e-01,  3.68007980e-01,  3.72007924e-01,\n",
              "         3.76007868e-01,  3.80007812e-01,  3.84007756e-01,  3.88007700e-01,\n",
              "         3.92007645e-01,  3.96007589e-01,  4.00007533e-01,  4.04007477e-01,\n",
              "         4.08007421e-01,  4.12007365e-01,  4.16007309e-01,  4.20007253e-01,\n",
              "         4.24007198e-01,  4.28007142e-01,  4.32007086e-01,  4.36007030e-01,\n",
              "         4.40006974e-01,  4.44006918e-01,  4.48006862e-01,  4.52006806e-01,\n",
              "         4.56006751e-01,  4.60006695e-01,  4.64006639e-01,  4.68006583e-01,\n",
              "         4.72006527e-01,  4.76006471e-01,  4.80006415e-01,  4.84006359e-01,\n",
              "         4.88006304e-01,  4.92006248e-01,  4.96006192e-01,  5.00006136e-01,\n",
              "         5.04006080e-01,  5.08006024e-01,  5.12005968e-01,  5.16005912e-01,\n",
              "         5.20005856e-01,  5.24005801e-01,  5.28005745e-01,  5.32005689e-01,\n",
              "         5.36005633e-01,  5.40005577e-01,  5.44005521e-01,  5.48005465e-01,\n",
              "         5.52005409e-01,  5.56005354e-01,  5.60005298e-01,  5.64005242e-01,\n",
              "         5.68005186e-01,  5.72005130e-01,  5.76005074e-01,  5.80005018e-01,\n",
              "         5.84004962e-01,  5.88004907e-01,  5.92004851e-01,  5.96004795e-01,\n",
              "         6.00004739e-01,  6.04004683e-01,  6.08004627e-01,  6.12004571e-01,\n",
              "         6.16004515e-01,  6.20004459e-01,  6.24004404e-01,  6.28004348e-01,\n",
              "         6.32004292e-01,  6.36004236e-01,  6.40004180e-01,  6.44004124e-01,\n",
              "         6.48004068e-01,  6.52004012e-01,  6.56003957e-01,  6.60003901e-01,\n",
              "         6.64003845e-01,  6.68003789e-01,  6.72003733e-01,  6.76003677e-01,\n",
              "         6.80003621e-01,  6.84003565e-01,  6.88003510e-01,  6.92003454e-01,\n",
              "         6.96003398e-01,  7.00003342e-01,  7.04003286e-01,  7.08003230e-01,\n",
              "         7.12003174e-01,  7.16003118e-01,  7.20003063e-01,  7.24003007e-01,\n",
              "         7.28002951e-01,  7.32002895e-01,  7.36002839e-01,  7.40002783e-01,\n",
              "         7.44002727e-01,  7.48002671e-01,  7.52002615e-01,  7.56002560e-01,\n",
              "         7.60002504e-01,  7.64002448e-01,  7.68002392e-01,  7.72002336e-01,\n",
              "         7.76002280e-01,  7.80002224e-01,  7.84002168e-01,  7.88002113e-01,\n",
              "         7.92002057e-01,  7.96002001e-01,  8.00001945e-01,  8.04001889e-01,\n",
              "         8.08001833e-01,  8.12001777e-01,  8.16001721e-01,  8.20001666e-01,\n",
              "         8.24001610e-01,  8.28001554e-01,  8.32001498e-01,  8.36001442e-01,\n",
              "         8.40001386e-01,  8.44001330e-01,  8.48001274e-01,  8.52001218e-01,\n",
              "         8.56001163e-01,  8.60001107e-01,  8.64001051e-01,  8.68000995e-01,\n",
              "         8.72000939e-01,  8.76000883e-01,  8.80000827e-01,  8.84000771e-01,\n",
              "         8.88000716e-01,  8.92000660e-01,  8.96000604e-01,  9.00000548e-01,\n",
              "         9.04000492e-01,  9.08000436e-01,  9.12000380e-01,  9.16000324e-01,\n",
              "         9.20000269e-01,  9.24000213e-01,  9.28000157e-01,  9.32000101e-01,\n",
              "         9.36000045e-01,  9.39999989e-01,  9.43999933e-01,  9.47999877e-01,\n",
              "         9.51999822e-01,  9.55999766e-01,  9.59999710e-01,  9.63999654e-01,\n",
              "         9.67999598e-01,  9.71999542e-01,  9.75999486e-01,  9.79999430e-01,\n",
              "         9.83999374e-01,  9.87999319e-01,  9.91999263e-01,  9.95999207e-01,\n",
              "         9.99999151e-01]),\n",
              " <BarContainer object of 500 artists>)"
            ]
          },
          "execution_count": 19,
          "metadata": {},
          "output_type": "execute_result"
        },
        {
          "data": {
            "image/png": "[encoded data removed]",
            "text/plain": [
              "<Figure size 640x480 with 1 Axes>"
            ]
          },
          "metadata": {},
          "output_type": "display_data"
        }
      ],
      "source": [
        "plt.hist(x,bins = 500)"
      ]
    },
    {
      "cell_type": "markdown",
      "metadata": {
        "id": "OsSi_HF0rxwE"
      },
      "source": [
        "## Grafica de Funcion Acumulativa."
      ]
    },
    {
      "cell_type": "markdown",
      "metadata": {
        "id": "e2vZ1mTjr3xl"
      },
      "source": [
        "Obteniendo la grafica de la acumulativa."
      ]
    },
    {
      "cell_type": "code",
      "execution_count": 20,
      "metadata": {
        "id": "rhrUGnesUEzR"
      },
      "outputs": [],
      "source": [
        "y,g = cdf(x)"
      ]
    },
    {
      "cell_type": "code",
      "execution_count": 21,
      "metadata": {
        "colab": {
          "base_uri": "https://localhost:8080/",
          "height": 448
        },
        "id": "WeJfeKtSUKeD",
        "outputId": "a1ad2eed-9b6b-4231-9ced-97dd94e414c1"
      },
      "outputs": [
        {
          "data": {
            "text/plain": [
              "[<matplotlib.lines.Line2D at 0x7ae8379c99f0>]"
            ]
          },
          "execution_count": 21,
          "metadata": {},
          "output_type": "execute_result"
        },
        {
          "data": {
            "image/png": "[encoded data removed]",
            "text/plain": [
              "<Figure size 640x480 with 1 Axes>"
            ]
          },
          "metadata": {},
          "output_type": "display_data"
        }
      ],
      "source": [
        "plt.step(y,g)"
      ]
    }
  ],
  "metadata": {
    "colab": {
      "authorship_tag": "ABX9TyMlvb+O6lF/c8BmsqXNkCxe",
      "include_colab_link": true,
      "provenance": []
    },
    "kernelspec": {
      "display_name": "Python 3",
      "name": "python3"
    },
    "language_info": {
      "name": "python"
    }
  },
  "nbformat": 4,
  "nbformat_minor": 0
}
